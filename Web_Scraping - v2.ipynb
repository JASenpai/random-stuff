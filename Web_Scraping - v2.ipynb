{
 "cells": [
  {
   "cell_type": "markdown",
   "metadata": {},
   "source": [
    "# Web Scraping\n",
    "Automatizar la extraccion datos de una pagina web."
   ]
  },
  {
   "cell_type": "markdown",
   "metadata": {},
   "source": [
    "## Librerias\n",
    "Las librerias que se necesitan para scrapear una pagina web estatica son:"
   ]
  },
  {
   "cell_type": "code",
   "execution_count": 1,
   "metadata": {},
   "outputs": [],
   "source": [
    "from requests import get\n",
    "from bs4 import BeautifulSoup"
   ]
  },
  {
   "cell_type": "markdown",
   "metadata": {},
   "source": [
    "## Get Url"
   ]
  },
  {
   "cell_type": "markdown",
   "metadata": {},
   "source": [
    "Vamos a utilizar la pagina de [Voguebags](https://www.voguebags.cn/handbags-c-1/) como ejemplo de scrapping. La url a esta pagina es:"
   ]
  },
  {
   "cell_type": "code",
   "execution_count": 2,
   "metadata": {},
   "outputs": [],
   "source": [
    "url_carteras = 'https://www.voguebags.cn/handbags-c-1/'"
   ]
  },
  {
   "cell_type": "markdown",
   "metadata": {},
   "source": [
    "Con esta url podemos pedir la pagina web:"
   ]
  },
  {
   "cell_type": "code",
   "execution_count": 3,
   "metadata": {},
   "outputs": [],
   "source": [
    "url_leido = get(url_carteras)"
   ]
  },
  {
   "cell_type": "markdown",
   "metadata": {},
   "source": [
    "### Respuesta\n",
    "La respuesta del get indica si ha sido exitosa (200) o no (404). Y en su propiedad `content` esta el html del sitio"
   ]
  },
  {
   "cell_type": "code",
   "execution_count": 4,
   "metadata": {},
   "outputs": [
    {
     "data": {
      "text/plain": [
       "<Response [200]>"
      ]
     },
     "execution_count": 4,
     "metadata": {},
     "output_type": "execute_result"
    }
   ],
   "source": [
    "url_leido"
   ]
  },
  {
   "cell_type": "code",
   "execution_count": 7,
   "metadata": {},
   "outputs": [
    {
     "data": {
      "text/plain": [
       "b'<!DOCTYPE html PUBLIC \"-//W3C//DTD XHTML 1.0 Transitional//EN\" \"http://www.w3.org/TR/xhtml1/DTD/xhtml1-transitional.dtd\">\\r\\n<html xmlns=\"http://www.w3.org/1999/xhtml\" dir=\"ltr\" lang=\"en\">\\r\\n<head>\\r\\n<title>Handbags : voguebag.net</title>\\r\\n<meta http-equiv=\"Content-Type\" content=\"text/html; charset=utf-8\" />\\r\\n<meta name=\"keywords\" content=\"Handbags Wallets Shoes Scarves Sunglasses Men Watches Apparel  Handbags\" />\\r\\n<meta name=\"description\" content=\"voguebag.net : Handbags - Handbags Wallets Shoes Scarves Sunglasses Men Watches Apparel \" />\\r\\n<meta http-equiv=\"imagetoolbar\" content=\"no\" />\\r\\n<meta name=\"author\" content=\"The Zen Cart&trade; Team and others\" />\\r\\n<meta name=\"generator\" content=\"shopping cart program by Zen Cart&trade;, http://www.zen-cart.com eCommerce\" />\\r\\n\\r\\n<base href=\"https://www.voguebags.cn/\" />\\r\\n\\r\\n<link rel=\"stylesheet\" type=\"text/css\" media=\"print\" href=\"includes/templates/musheji/css/print_stylesheet.css\" />\\n<link rel=\"stylesheet\" type=\"text/css\" href=\\'/includes/template'"
      ]
     },
     "execution_count": 7,
     "metadata": {},
     "output_type": "execute_result"
    }
   ],
   "source": [
    "# Veamos los primeros 500 caracteres que contiene la respuesta\n",
    "url_leido.content[:1000]"
   ]
  },
  {
   "cell_type": "code",
   "execution_count": 8,
   "metadata": {},
   "outputs": [
    {
     "data": {
      "text/plain": [
       "bytes"
      ]
     },
     "execution_count": 8,
     "metadata": {},
     "output_type": "execute_result"
    }
   ],
   "source": [
    "# Que tipo de datos son?\n",
    "type(url_leido.content)"
   ]
  },
  {
   "cell_type": "markdown",
   "metadata": {},
   "source": [
    "## Parseo\n",
    "El parseo con BeautifulSoup crea un objeto que facilita las busquedas de elementos y la extraccion del contenido."
   ]
  },
  {
   "cell_type": "code",
   "execution_count": 9,
   "metadata": {},
   "outputs": [],
   "source": [
    "html = BeautifulSoup(url_leido.content, 'html.parser')"
   ]
  },
  {
   "cell_type": "code",
   "execution_count": 10,
   "metadata": {},
   "outputs": [
    {
     "data": {
      "text/plain": [
       "bs4.BeautifulSoup"
      ]
     },
     "execution_count": 10,
     "metadata": {},
     "output_type": "execute_result"
    }
   ],
   "source": [
    "# Que tipo de objeto es?\n",
    "type(html)"
   ]
  },
  {
   "cell_type": "code",
   "execution_count": 11,
   "metadata": {},
   "outputs": [
    {
     "data": {
      "text/plain": [
       "<!DOCTYPE html PUBLIC \"-//W3C//DTD XHTML 1.0 Transitional//EN\" \"http://www.w3.org/TR/xhtml1/DTD/xhtml1-transitional.dtd\">\n",
       "\n",
       "<html dir=\"ltr\" lang=\"en\" xmlns=\"http://www.w3.org/1999/xhtml\">\n",
       "<head>\n",
       "<title>Handbags : voguebag.net</title>\n",
       "<meta content=\"text/html; charset=utf-8\" http-equiv=\"Content-Type\"/>\n",
       "<meta content=\"Handbags Wallets Shoes Scarves Sunglasses Men Watches Apparel  Handbags\" name=\"keywords\"/>\n",
       "<meta content=\"voguebag.net : Handbags - Handbags Wallets Shoes Scarves Sunglasses Men Watches Apparel \" name=\"description\"/>\n",
       "<meta content=\"no\" http-equiv=\"imagetoolbar\"/>\n",
       "<meta content=\"The Zen Cart™ Team and others\" name=\"author\"/>\n",
       "<meta content=\"shopping cart program by Zen Cart™, http://www.zen-cart.com eCommerce\" name=\"generator\"/>\n",
       "<base href=\"https://www.voguebags.cn/\"/>\n",
       "<link href=\"includes/templates/musheji/css/print_stylesheet.css\" media=\"print\" rel=\"stylesheet\" type=\"text/css\"/>\n",
       "<link href=\"/includes/templates/musheji/css/style.css\" rel=\"stylesheet\" type=\"text/css\"/>\n",
       "<link href=\"/includes/templates/musheji/css/style_imagehover.css\" rel=\"stylesheet\" type=\"text/css\"/>\n",
       "<link href=\"/includes/templates/musheji/css/style_tags.css\" rel=\"stylesheet\" type=\"text/css\"/>\n",
       "<link href=\"/includes/templates/musheji/css/stylesheet.css\" rel=\"stylesheet\" type=\"text/css\"/>\n",
       "<link href=\"/includes/templates/musheji/css/stylesheet_attributes_filters.css\" rel=\"stylesheet\" type=\"text/css\"/>\n",
       "<link href=\"/includes/templates/musheji/css/stylesheet_css_buttons.css\" rel=\"stylesheet\" type=\"text/css\"/>\n",
       "<link href=\"/includes/templates/musheji/css/stylesheet_header.min.cart.css\" rel=\"stylesheet\" type=\"text/css\"/>\n",
       "<link href=\"/includes/templates/musheji/css/stylesheet_main.css\" rel=\"stylesheet\" type=\"text/css\"/>\n",
       "<link href=\"/includes/templates/musheji/css/stylesheet_muonepage.css\" rel=\"stylesheet\" type=\"text/css\"/>\n",
       "<link href=\"/includes/templates/musheji/css/stylesheet_musheji.css\" rel=\"stylesheet\" type=\"text/css\"/>\n",
       "<link href=\"/includes/templates/musheji/css/stylesheet_tm.css\" rel=\"stylesheet\" type=\"text/css\"/>\n",
       "<script src=\"/includes/templates/musheji/jscript/jscript_imagehover.js\" type=\"text/javascript\"></script>\n",
       "<script src=\"/includes/templates/musheji/jscript/jscript_muencss.js\" type=\"text/javascript\"></script>\n",
       "<script src=\"/includes/templates/musheji/jscript/jscript_time.js\" type=\"text/javascript\"></script>\n",
       "<script type=\"text/javascript\"><!--\n",
       "$(function(){ \n",
       "\t  var globals = {\n",
       "            az_cart_fetch_file:\t\t\"zen_az_fetch.php?\",\n",
       "\t\t\taz_cart_fetch: \t\t\tfalse,\n",
       "            az_loading_image: \t\t'<center><img src=\"images/az_loading.gif\" align=\"center\" /></center>',\n",
       "\t\t\taz_cart_opacity: \t\t0.9,\n",
       "\t\t\taz_box_status: \t\t\tfalse,\n",
       "\t\t\taz_timer: \t\t\t\t\"\",\n",
       "        };\n",
       "\t  $(\"#animBoxCart\").html(globals.az_loading_image);\n",
       "\t  $(\"#btn_animBoxCart\").hover(\t\t\t\t\t\n",
       "\t\t\t\t\tfunction(){\t\t\t\t\t\t\n",
       "\t\t\t\t\t\tif(globals.az_cart_fetch == false){\n",
       "\t\t\t\t\t\t\tretrievecart();\t\t\t\t\t\t\t\n",
       "\t\t\t\t\t\t}\n",
       "\t\t\t\t\t\tclearTimeout(globals.az_timer);\n",
       "\t\t\t\t\t\tanimatedbox(\"show\");\t   \t\t\t\t\t\n",
       "\t \t\t\t\t},\n",
       "\t\t\t\t\tfunction(){\t\t\t\t\t\t\t\n",
       "\t   \t\t\t\t\tglobals.az_timer = setTimeout('animatedbox(\"hide\")',400);\n",
       "\t \t\t\t\t}\n",
       "\t\t);\t  \n",
       "\t  $(\"#animBoxCart\").hover(\t\t\t\t\t\n",
       "\t\t\t\t\tfunction(){clearTimeout(globals.az_timer);animatedbox(\"show\");},\n",
       "\t\t\t\t\tfunction(){globals.az_timer = setTimeout('animatedbox(\"hide\")',400);\n",
       "\t \t\t\t\t}\n",
       "\t\t);\t  \n",
       "\t  animatedbox = function(action){\t\n",
       "\t  \t\tif(action==\"show\") $(\"#animBoxCart\").animate({height: \"show\", opacity: \"show\"}).animate({opacity:globals.az_cart_opacity});\t\n",
       "\t\t\telse $(\"#animBoxCart\").animate({height: \"hide\", opacity: \"hide\"});\n",
       "\t  }\n",
       "\t  retrievecart = function(){\n",
       "\t\t  $.ajax({\n",
       "\t\t\t\turl: globals.az_cart_fetch_file,\n",
       "\t\t\t\tsuccess: function(returned_data){\n",
       "\t\t\t\t\t\tparsedata(returned_data);\t\t\t\t\t\t\n",
       "\t\t\t\t\t\tglobals.az_cart_fetch = true;\n",
       "\t\t\t\t\t}\n",
       "\t\t\t\t});\n",
       "\t  }\n",
       "\t  parsedata = function(result){\t\t  \n",
       "\t\t  $(\"#animBoxCart\").html(result);\t\n",
       "\t  }\n",
       " });\n",
       "//--></script>\n",
       "</head>\n",
       "<body id=\"indexBody\">\n",
       "<!--bof-header logo and navigation display-->\n",
       "<div class=\"top_banner\" style=\"background: #D02028;\">\n",
       "<div class=\"top_banner_box\">\n",
       "<div background-color=\"#ed6d00\" class=\"lazyload ma_lazyload\" style=\"width: 990px; margin: 0px auto;\"><img src=\"includes/templates/musheji/images/topbanner.png\"/></div>\n",
       "</div></div>\n",
       "<div id=\"mu_top_box\">\n",
       "<div class=\"mu_top_main\">\n",
       "<div class=\"mu_top_r\">\n",
       "<ul class=\"mu_faq_r\">\n",
       "<li class=\"line\"></li>\n",
       "<li class=\"div_ls_account\"><a alt=\"My Account\" class=\"link-account\" href=\"https://www.voguebags.cn/account.html\" rel=\"nofollow\">My Account</a></li>\n",
       "<li class=\"line\"></li>\n",
       "<li class=\"top-links-help\"><a href=\"https://www.voguebags.cn/faqs-ezp-15.html\" rel=\"nofollow\">FAQs</a></li>\n",
       "<li class=\"line mu_no\"></li>\n",
       "<li class=\"currency-view-switcher\">\n",
       "<script type=\"text/javascript\"><!--//--><![CDATA[//><!-- \n",
       "function menuFix() { \n",
       "var sfEls = document.getElementById(\"currselect\").getElementsByTagName(\"li\"); \n",
       "for (var i=0; i<sfEls.length; i++) { \n",
       "sfEls[i].onmouseover=function() { \n",
       "this.className+=(this.className.length>0? \" \": \"\") + \"sfhover\"; \n",
       "} \n",
       "sfEls[i].onMouseDown=function() { \n",
       "this.className+=(this.className.length>0? \" \": \"\") + \"sfhover\"; \n",
       "} \n",
       "sfEls[i].onMouseUp=function() { \n",
       "this.className+=(this.className.length>0? \" \": \"\") + \"sfhover\"; \n",
       "} \n",
       "sfEls[i].onmouseout=function() { \n",
       "this.className=this.className.replace(new RegExp(\"( ?|^)sfhover\\\\b\"), \n",
       "\"\"); \n",
       "} \n",
       "} \n",
       "} \n",
       "window.onload=menuFix; \n",
       "//--><!]]></script>\n",
       "<ul id=\"currselect\">\n",
       "<li id=\"curr_text\">\n",
       "<a class=\"curr_text\" href=\"\" rel=\"nofollow\"><span>$</span> USD</a>\n",
       "<ul class=\"dropdown-menu\">\n",
       "<li class=\"sel_USD\"><a href=\"https://www.voguebags.cn/handbags-c-1/?currency=USD\" rel=\"nofollow\"><em>$</em>USD</a></li><li class=\"sel_EUR\"><a href=\"https://www.voguebags.cn/handbags-c-1/?currency=EUR\" rel=\"nofollow\"><em>€</em>EUR</a></li><li class=\"sel_GBP\"><a href=\"https://www.voguebags.cn/handbags-c-1/?currency=GBP\" rel=\"nofollow\"><em>£</em>GBP</a></li><li class=\"sel_CAD\"><a href=\"https://www.voguebags.cn/handbags-c-1/?currency=CAD\" rel=\"nofollow\"><em>$</em>CAD</a></li><li class=\"sel_AUD\"><a href=\"https://www.voguebags.cn/handbags-c-1/?currency=AUD\" rel=\"nofollow\"><em>$</em>AUD</a></li> </ul>\n",
       "</li>\n",
       "</ul>\n",
       "</li>\n",
       "<div class=\"clear\"></div>\n",
       "</ul>\n",
       "<div class=\"mu_login\">\n",
       "<a class=\"mu_login_s\" href=\"https://www.voguebags.cn/login.html\" rel=\"nofollow\">Sign in</a>\n",
       "<span>/</span>\n",
       "<a class=\"mu_login_r\" href=\"https://www.voguebags.cn/index.php?main_page=create_account\" rel=\"nofollow\">Join</a>\n",
       "</div>\n",
       "<div class=\"clear\"></div>\n",
       "</div>\n",
       "</div>\n",
       "<div class=\"mauto headerin\">\n",
       "<div class=\"logo fleft\">\n",
       "<a href=\"https://www.voguebags.cn/\"><img alt=\"Replica Handbags, designer handbags wholesale, replica gucci handbags\" src=\"includes/templates/musheji/images/logo.png\" title=\"Designer Replica Handbags • Gucci® Prada | Hermes Online\"/></a> </div>\n",
       "<div class=\"jsTrigger\" id=\"btn_animBoxCart\">\n",
       "<a class=\"mu_cart_t\" href=\"https://www.voguebags.cn/shopping_cart.html\"><i>0</i></a>\n",
       "<div id=\"animBoxCart\"><center><img align=\"middle\" src=\"images/az_loading.gif\"/></center></div>\n",
       "</div>\n",
       "<div class=\"mu_top_wishlist\">\n",
       "<a href=\"#\"></a>\n",
       "</div>\n",
       "<div class=\"search_main\">\n",
       "<form action=\"https://www.voguebags.cn/index.php?main_page=advanced_search_result\" method=\"get\" name=\"quick_find_header\"><input name=\"main_page\" type=\"hidden\" value=\"advanced_search_result\"/><input name=\"search_in_description\" type=\"hidden\" value=\"1\"/><input class=\"input1\" maxlength=\"100\" name=\"keyword\" onblur=\"if (this.value == '') this.value = 'Search...';\" onfocus=\"if (this.value == 'Search...') this.value = '';\" size=\"18\" style=\"width: -30px\" type=\"text\" value=\"Search...\"/><input class=\"btn_search fleft\" type=\"submit\" value=\"Search\"/><div class=\"clear\"></div></form>\n",
       "</div>\n",
       "<div class=\"clear\"></div>\n",
       "</div>\n",
       "</div>\n",
       "<div id=\"mu_topmeun\">\n",
       "<div class=\"mu_meun\">\n",
       "<!--------------------------------------------------->\n",
       "<div class=\"jqueryslidemenu\" id=\"myslidemenu_2\">\n",
       "<ul>\n",
       "<li class=\"mu_home mu_nav_ico\"><a href=\"https://www.voguebags.cn/\">Home</a></li>\n",
       "<li class=\"mu_nav_ico\"><a href=\"https://www.voguebags.cn/apparel-c-93/\"><span>Apparel</span></a>\n",
       "<ul>\n",
       "<li><a href=\"https://www.voguebags.cn/fendi-c-93_95/\">Fendi</a>\n",
       "</li><li><a href=\"https://www.voguebags.cn/gucci-c-93_94/\">Gucci</a>\n",
       "</li></ul>\n",
       "</li>\n",
       "<li class=\"mu_nav_ico\"><a href=\"https://www.voguebags.cn/handbags-c-1/\"><span>Handbags</span></a>\n",
       "<ul>\n",
       "<li><a href=\"https://www.voguebags.cn/31-phillip-lim-c-1_2/\">3.1 Phillip Lim</a>\n",
       "</li><li><a href=\"https://www.voguebags.cn/alexander-wang-c-1_3/\">Alexander Wang</a>\n",
       "</li><li><a href=\"https://www.voguebags.cn/balenciaga-c-1_13/\">Balenciaga</a>\n",
       "</li><li><a href=\"https://www.voguebags.cn/bottega-veneta-c-1_4/\">Bottega Veneta</a>\n",
       "</li><li><a href=\"https://www.voguebags.cn/burberry-c-1_32/\">Burberry</a>\n",
       "</li><li><a href=\"https://www.voguebags.cn/bvlgari-c-1_18/\">Bvlgari</a>\n",
       "</li><li><a href=\"https://www.voguebags.cn/celine-c-1_14/\">Celine</a>\n",
       "</li><li><a href=\"https://www.voguebags.cn/chloe-c-1_6/\">Chloe</a>\n",
       "</li><li><a href=\"https://www.voguebags.cn/christian-dior-c-1_17/\">Christian Dior</a>\n",
       "</li><li><a href=\"https://www.voguebags.cn/dolce-gabbana-c-1_5/\">Dolce &amp; Gabbana</a>\n",
       "</li><li><a href=\"https://www.voguebags.cn/fendi-c-1_9/\">Fendi</a>\n",
       "</li><li><a href=\"https://www.voguebags.cn/givenchy-c-1_11/\">Givenchy</a>\n",
       "</li><li><a href=\"https://www.voguebags.cn/goyard-c-1_91/\">Goyard</a>\n",
       "</li><li><a href=\"https://www.voguebags.cn/gucci-c-1_10/\">Gucci</a>\n",
       "</li><li><a href=\"https://www.voguebags.cn/hermes-c-1_15/\">Hermes</a>\n",
       "</li><li><a href=\"https://www.voguebags.cn/miu-miu-c-1_8/\">Miu Miu</a>\n",
       "</li><li><a href=\"https://www.voguebags.cn/prada-c-1_12/\">Prada</a>\n",
       "</li><li><a href=\"https://www.voguebags.cn/saint-laurent-c-1_7/\">Saint Laurent</a>\n",
       "</li><li><a href=\"https://www.voguebags.cn/valentino-c-1_65/\">Valentino</a>\n",
       "</li></ul>\n",
       "</li>\n",
       "<li class=\"mu_nav_ico\"><a href=\"https://www.voguebags.cn/shoes-c-33/\"><span>Shoes</span></a>\n",
       "<ul>\n",
       "<li><a href=\"https://www.voguebags.cn/aquazzura-c-33_35/\">Aquazzura</a>\n",
       "</li><li><a href=\"https://www.voguebags.cn/bottega-veneta-c-33_56/\">Bottega Veneta</a>\n",
       "</li><li><a href=\"https://www.voguebags.cn/christian-louboutin-c-33_85/\">Christian Louboutin</a>\n",
       "</li><li><a href=\"https://www.voguebags.cn/givenchy-c-33_54/\">Givenchy</a>\n",
       "</li><li><a href=\"https://www.voguebags.cn/gucci-c-33_53/\">Gucci</a>\n",
       "</li><li><a href=\"https://www.voguebags.cn/jimmy-choo-c-33_78/\">Jimmy Choo</a>\n",
       "</li><li><a href=\"https://www.voguebags.cn/manolo-blahnik-c-33_57/\">Manolo Blahnik</a>\n",
       "</li><li><a href=\"https://www.voguebags.cn/prada-c-33_55/\">Prada</a>\n",
       "</li><li><a href=\"https://www.voguebags.cn/roger-vivier-c-33_79/\">Roger Vivier</a>\n",
       "</li><li><a href=\"https://www.voguebags.cn/saint-laurent-c-33_52/\">Saint Laurent</a>\n",
       "</li><li><a href=\"https://www.voguebags.cn/salvatore-ferragamo-c-33_63/\">Salvatore Ferragamo</a>\n",
       "</li><li><a href=\"https://www.voguebags.cn/stuart-weitzman-c-33_64/\">Stuart Weitzman</a>\n",
       "</li><li><a href=\"https://www.voguebags.cn/valentino-c-33_34/\">Valentino</a>\n",
       "</li></ul>\n",
       "</li>\n",
       "<li class=\"mu_nav_ico\"><a href=\"https://www.voguebags.cn/sunglasses-c-40/\"><span>Sunglasses</span></a>\n",
       "<ul>\n",
       "<li><a href=\"https://www.voguebags.cn/balenciaga-sunglasses-c-40_51/\">Balenciaga Sunglasses</a>\n",
       "</li><li><a href=\"https://www.voguebags.cn/bottega-veneta-c-40_41/\">Bottega Veneta</a>\n",
       "</li><li><a href=\"https://www.voguebags.cn/chloe-sunglasses-c-40_42/\">Chloe Sunglasses</a>\n",
       "</li><li><a href=\"https://www.voguebags.cn/dior-sunglasses-c-40_43/\">Dior Sunglasses</a>\n",
       "</li><li><a href=\"https://www.voguebags.cn/dolce-gabbana-c-40_44/\">Dolce &amp; Gabbana</a>\n",
       "</li><li><a href=\"https://www.voguebags.cn/fendi-sunglasses-c-40_45/\">Fendi Sunglasses</a>\n",
       "</li><li><a href=\"https://www.voguebags.cn/givenchy-sunglasses-c-40_46/\">Givenchy Sunglasses</a>\n",
       "</li><li><a href=\"https://www.voguebags.cn/gucci-sunglasses-c-40_47/\">Gucci Sunglasses</a>\n",
       "</li><li><a href=\"https://www.voguebags.cn/miu-miu-sunglasses-c-40_48/\">Miu Miu Sunglasses</a>\n",
       "</li><li><a href=\"https://www.voguebags.cn/oliver-peoples-c-40_61/\">Oliver Peoples</a>\n",
       "</li><li><a href=\"https://www.voguebags.cn/prada-sunglasses-c-40_50/\">Prada Sunglasses</a>\n",
       "</li><li><a href=\"https://www.voguebags.cn/rayban-sunglasses-c-40_49/\">Ray-Ban Sunglasses</a>\n",
       "</li><li><a href=\"https://www.voguebags.cn/tom-ford-sunglasses-c-40_62/\">Tom Ford Sunglasses</a>\n",
       "</li></ul>\n",
       "</li>\n",
       "<li class=\"mu_nav_ico\"><a href=\"https://www.voguebags.cn/wallets-c-19/\"><span>Wallets</span></a>\n",
       "<ul>\n",
       "<li><a href=\"https://www.voguebags.cn/balenciaga-wallets-c-19_25/\">Balenciaga Wallets</a>\n",
       "</li><li><a href=\"https://www.voguebags.cn/bvlgari-wallets-c-19_26/\">Bvlgari Wallets</a>\n",
       "</li><li><a href=\"https://www.voguebags.cn/celine-wallets-c-19_27/\">Celine Wallets</a>\n",
       "</li><li><a href=\"https://www.voguebags.cn/dior-wallets-c-19_28/\">Dior Wallets</a>\n",
       "</li><li><a href=\"https://www.voguebags.cn/fendi-wallets-c-19_24/\">Fendi Wallets</a>\n",
       "</li><li><a href=\"https://www.voguebags.cn/givenchy-wallets-c-19_29/\">Givenchy Wallets</a>\n",
       "</li><li><a href=\"https://www.voguebags.cn/gucci-wallets-c-19_21/\">Gucci Wallets</a>\n",
       "</li><li><a href=\"https://www.voguebags.cn/hermes-wallets-c-19_22/\">Hermes Wallets</a>\n",
       "</li><li><a href=\"https://www.voguebags.cn/miu-miu-wallets-c-19_30/\">Miu Miu Wallets</a>\n",
       "</li><li><a href=\"https://www.voguebags.cn/prada-wallets-c-19_23/\">Prada Wallets</a>\n",
       "</li><li><a href=\"https://www.voguebags.cn/saint-laurent-wallets-c-19_31/\">Saint Laurent Wallets</a>\n",
       "</li></ul>\n",
       "</li>\n",
       "<li class=\"mu_nav_ico\"><a href=\"https://www.voguebags.cn/watches-c-80/\"><span>Watches</span></a>\n",
       "<ul>\n",
       "<li><a href=\"https://www.voguebags.cn/bvlgari-watches-c-80_90/\">BVLGARI Watches</a>\n",
       "</li><li><a href=\"https://www.voguebags.cn/cartier-watches-c-80_83/\">Cartier Watches</a>\n",
       "</li><li><a href=\"https://www.voguebags.cn/chopard-watches-c-80_87/\">Chopard Watches</a>\n",
       "</li><li><a href=\"https://www.voguebags.cn/dior-watches-c-80_84/\">Dior Watches</a>\n",
       "</li><li><a href=\"https://www.voguebags.cn/fendi-watches-c-80_88/\">Fendi Watches</a>\n",
       "</li><li><a href=\"https://www.voguebags.cn/gucci-watches-c-80_81/\">Gucci Watches</a>\n",
       "</li><li><a href=\"https://www.voguebags.cn/hermes-watches-c-80_86/\">Hermes Watches</a>\n",
       "</li><li><a href=\"https://www.voguebags.cn/piaget-watches-c-80_89/\">Piaget Watches</a>\n",
       "</li></ul>\n",
       "</li>\n",
       "<li class=\"mu_nav_ico\"><a href=\"https://www.voguebags.cn/scarves-c-36/\"><span>Scarves</span></a>\n",
       "<ul>\n",
       "<li><a href=\"https://www.voguebags.cn/burberry-scarves-c-36_66/\">Burberry Scarves</a>\n",
       "</li><li><a href=\"https://www.voguebags.cn/givenchy-scarves-c-36_37/\">Givenchy Scarves</a>\n",
       "</li><li><a href=\"https://www.voguebags.cn/gucci-scarves-c-36_38/\">Gucci Scarves</a>\n",
       "</li><li><a href=\"https://www.voguebags.cn/valentino-scarves-c-36_39/\">Valentino Scarves</a>\n",
       "</li></ul>\n",
       "</li>\n",
       "<li class=\"mu_nav_ico\"><a href=\"https://www.voguebags.cn/men-c-67/\"><span>Men</span></a>\n",
       "<ul>\n",
       "<li><a href=\"https://www.voguebags.cn/bags-c-67_72/\">Bags</a>\n",
       "<div class=\"mu_two\"><a href=\"https://www.voguebags.cn/burberry-c-67_72_77/\">Burberry</a></div>\n",
       "<div class=\"mu_two\"><a href=\"https://www.voguebags.cn/fendi-c-67_72_75/\">Fendi</a></div>\n",
       "<div class=\"mu_two\"><a href=\"https://www.voguebags.cn/givenchy-c-67_72_74/\">Givenchy</a></div>\n",
       "<div class=\"mu_two\"><a href=\"https://www.voguebags.cn/gucci-c-67_72_73/\">Gucci</a></div>\n",
       "<div class=\"mu_two\"><a href=\"https://www.voguebags.cn/prada-c-67_72_76/\">Prada</a></div>\n",
       "</li><li><a href=\"https://www.voguebags.cn/shoes-c-67_68/\">Shoes</a>\n",
       "<div class=\"mu_two\"><a href=\"https://www.voguebags.cn/fendi-c-67_68_71/\">Fendi</a></div>\n",
       "<div class=\"mu_two\"><a href=\"https://www.voguebags.cn/gucci-c-67_68_69/\">Gucci</a></div>\n",
       "<div class=\"mu_two\"><a href=\"https://www.voguebags.cn/prada-c-67_68_70/\">Prada</a></div>\n",
       "</li><li><a href=\"https://www.voguebags.cn/watches-c-67_58/\">Watches</a>\n",
       "<div class=\"mu_two\"><a href=\"https://www.voguebags.cn/breitling-c-67_58_59/\">Breitling</a></div>\n",
       "<div class=\"mu_two\"><a href=\"https://www.voguebags.cn/rolex-c-67_58_60/\">Rolex</a></div>\n",
       "</li></ul>\n",
       "</li>\n",
       "<li class=\"mu_nav_ico\"><a href=\"https://www.voguebags.cn/index.php?main_page=contact_us\">Contact</a></li>\n",
       "<div class=\"clear\"></div>\n",
       "</ul>\n",
       "</div>\n",
       "<!------------------------------->\n",
       "</div>\n",
       "</div>\n",
       "<div class=\"mu_mains\">\n",
       "<!-- bof  breadcrumb -->\n",
       "<div id=\"navBreadCrumb\"> <a href=\"https://www.voguebags.cn/\">Home</a>/ \n",
       "Handbags\n",
       "</div>\n",
       "<!-- eof breadcrumb -->\n",
       "<table border=\"0\" cellpadding=\"0\" cellspacing=\"0\" id=\"contentMainWrapper\" width=\"100%\">\n",
       "<tr>\n",
       "<td id=\"column-left\" style=\"width: 230px\">\n",
       "<div id=\"navColumnOneWrapper\" style=\"width: 230px\"><!--// bof: categories //-->\n",
       "<div class=\"box\" id=\"categories\">\n",
       "<h3 class=\"box-head\" id=\"categoriesHeading\">Categories</h3>\n",
       "<div class=\"box-body\">\n",
       "<div class=\"sideBoxContent\" id=\"categoriesContent\"><ul>\n",
       "<li class=\"category-top\"><a href=\"https://www.voguebags.cn/apparel-c-93/\">Apparel</a></li>\n",
       "<li class=\"category-top\"><a href=\"https://www.voguebags.cn/handbags-c-1/\"><span class=\"category-subs-parent\">Handbags</span></a></li>\n",
       "<li class=\"category-products\"><a href=\"https://www.voguebags.cn/31-phillip-lim-c-1_2/\">3.1 Phillip Lim</a></li>\n",
       "<li class=\"category-products\"><a href=\"https://www.voguebags.cn/alexander-wang-c-1_3/\">Alexander Wang</a></li>\n",
       "<li class=\"category-products\"><a href=\"https://www.voguebags.cn/balenciaga-c-1_13/\">Balenciaga</a></li>\n",
       "<li class=\"category-products\"><a href=\"https://www.voguebags.cn/bottega-veneta-c-1_4/\">Bottega Veneta</a></li>\n",
       "<li class=\"category-products\"><a href=\"https://www.voguebags.cn/burberry-c-1_32/\">Burberry</a></li>\n",
       "<li class=\"category-products\"><a href=\"https://www.voguebags.cn/bvlgari-c-1_18/\">Bvlgari</a></li>\n",
       "<li class=\"category-products\"><a href=\"https://www.voguebags.cn/celine-c-1_14/\">Celine</a></li>\n",
       "<li class=\"category-products\"><a href=\"https://www.voguebags.cn/chloe-c-1_6/\">Chloe</a></li>\n",
       "<li class=\"category-products\"><a href=\"https://www.voguebags.cn/christian-dior-c-1_17/\">Christian Dior</a></li>\n",
       "<li class=\"category-products\"><a href=\"https://www.voguebags.cn/dolce-gabbana-c-1_5/\">Dolce &amp; Gabbana</a></li>\n",
       "<li class=\"category-products\"><a href=\"https://www.voguebags.cn/fendi-c-1_9/\">Fendi</a></li>\n",
       "<li class=\"category-products\"><a href=\"https://www.voguebags.cn/givenchy-c-1_11/\">Givenchy</a></li>\n",
       "<li class=\"category-products\"><a href=\"https://www.voguebags.cn/goyard-c-1_91/\">Goyard</a></li>\n",
       "<li class=\"category-products\"><a href=\"https://www.voguebags.cn/gucci-c-1_10/\">Gucci</a></li>\n",
       "<li class=\"category-products\"><a href=\"https://www.voguebags.cn/hermes-c-1_15/\">Hermes</a></li>\n",
       "<li class=\"category-products\"><a href=\"https://www.voguebags.cn/miu-miu-c-1_8/\">Miu Miu</a></li>\n",
       "<li class=\"category-products\"><a href=\"https://www.voguebags.cn/prada-c-1_12/\">Prada</a></li>\n",
       "<li class=\"category-products\"><a href=\"https://www.voguebags.cn/saint-laurent-c-1_7/\">Saint Laurent</a></li>\n",
       "<li class=\"category-products\"><a href=\"https://www.voguebags.cn/valentino-c-1_65/\">Valentino</a></li>\n",
       "<li class=\"category-top\"><a href=\"https://www.voguebags.cn/shoes-c-33/\">Shoes</a></li>\n",
       "<li class=\"category-top\"><a href=\"https://www.voguebags.cn/sunglasses-c-40/\">Sunglasses</a></li>\n",
       "<li class=\"category-top\"><a href=\"https://www.voguebags.cn/wallets-c-19/\">Wallets</a></li>\n",
       "<li class=\"category-top\"><a href=\"https://www.voguebags.cn/watches-c-80/\">Watches</a></li>\n",
       "<li class=\"category-top\"><a href=\"https://www.voguebags.cn/scarves-c-36/\">Scarves</a></li>\n",
       "<li class=\"category-top\"><a href=\"https://www.voguebags.cn/men-c-67/\">Men</a></li>\n",
       "</ul></div></div>\n",
       "</div>\n",
       "<!--// eof: categories //-->\n",
       "</div></td>\n",
       "<td style=\"width:10px;\"></td>\n",
       "<td valign=\"top\">\n",
       "<!-- bof upload alerts -->\n",
       "<!-- eof upload alerts -->\n",
       "<div class=\"centerColumn\" id=\"indexCategories\">\n",
       "<h1 id=\"indexCategoriesHeading\">Handbags</h1>\n",
       "<!-- BOF: Display grid of available sub-categories, if any -->\n",
       "<div class=\"mu_categories_m\">\n",
       "<div class=\"hotitem_main\">\n",
       "<div class=\"categoryListBoxContents mu_category0\"><a alt=\"3.1 Phillip Lim\" href=\"https://www.voguebags.cn/31-phillip-lim-c-1_2/\" title=\"3.1 Phillip Lim\"><span class=\"mu_category_img\"><img alt=\"3.1 Phillip Lim\" height=\"172\" src=\"images/3.1.jpg\" title=\" 3.1 Phillip Lim \" width=\"172\"/></span><span class=\"mu_category_name\">3.1 Phillip Lim</span></a></div>\n",
       "<div class=\"categoryListBoxContents mu_category1\"><a alt=\"Alexander Wang\" href=\"https://www.voguebags.cn/alexander-wang-c-1_3/\" title=\"Alexander Wang\"><span class=\"mu_category_img\"><img alt=\"Alexander Wang\" height=\"172\" src=\"images/alexander.jpg\" title=\" Alexander Wang \" width=\"172\"/></span><span class=\"mu_category_name\">Alexander Wang</span></a></div>\n",
       "<div class=\"categoryListBoxContents mu_category2\"><a alt=\"Balenciaga\" href=\"https://www.voguebags.cn/balenciaga-c-1_13/\" title=\"Balenciaga\"><span class=\"mu_category_img\"><img alt=\"Balenciaga\" height=\"172\" src=\"images/balenciaga.jpg\" title=\" Balenciaga \" width=\"172\"/></span><span class=\"mu_category_name\">Balenciaga</span></a></div>\n",
       "<div class=\"categoryListBoxContents mu_category3\"><a alt=\"Bottega Veneta\" href=\"https://www.voguebags.cn/bottega-veneta-c-1_4/\" title=\"Bottega Veneta\"><span class=\"mu_category_img\"><img alt=\"Bottega Veneta\" height=\"172\" src=\"images/BV.jpg\" title=\" Bottega Veneta \" width=\"172\"/></span><span class=\"mu_category_name\">Bottega Veneta</span></a></div>\n",
       "<div class=\"categoryListBoxContents mu_category4\"><a alt=\"Burberry\" href=\"https://www.voguebags.cn/burberry-c-1_32/\" title=\"Burberry\"><span class=\"mu_category_img\"><img alt=\"Burberry\" height=\"172\" src=\"images/burberry.jpg\" title=\" Burberry \" width=\"172\"/></span><span class=\"mu_category_name\">Burberry</span></a></div>\n",
       "<div class=\"categoryListBoxContents mu_category0\"><a alt=\"Bvlgari\" href=\"https://www.voguebags.cn/bvlgari-c-1_18/\" title=\"Bvlgari\"><span class=\"mu_category_img\"><img alt=\"Bvlgari\" height=\"172\" src=\"images/bvlgari.jpg\" title=\" Bvlgari \" width=\"172\"/></span><span class=\"mu_category_name\">Bvlgari</span></a></div>\n",
       "<div class=\"categoryListBoxContents mu_category1\"><a alt=\"Celine\" href=\"https://www.voguebags.cn/celine-c-1_14/\" title=\"Celine\"><span class=\"mu_category_img\"><img alt=\"Celine\" height=\"172\" src=\"images/celine.jpg\" title=\" Celine \" width=\"172\"/></span><span class=\"mu_category_name\">Celine</span></a></div>\n",
       "<div class=\"categoryListBoxContents mu_category2\"><a alt=\"Chloe\" href=\"https://www.voguebags.cn/chloe-c-1_6/\" title=\"Chloe\"><span class=\"mu_category_img\"><img alt=\"Chloe\" height=\"172\" src=\"images/chloe.jpg\" title=\" Chloe \" width=\"172\"/></span><span class=\"mu_category_name\">Chloe</span></a></div>\n",
       "<div class=\"categoryListBoxContents mu_category3\"><a alt=\"Christian Dior\" href=\"https://www.voguebags.cn/christian-dior-c-1_17/\" title=\"Christian Dior\"><span class=\"mu_category_img\"><img alt=\"Christian Dior\" height=\"172\" src=\"images/Dior.jpg\" title=\" Christian Dior \" width=\"172\"/></span><span class=\"mu_category_name\">Christian Dior</span></a></div>\n",
       "<div class=\"categoryListBoxContents mu_category4\"><a alt=\"Dolce &amp; Gabbana\" href=\"https://www.voguebags.cn/dolce-gabbana-c-1_5/\" title=\"Dolce &amp; Gabbana\"><span class=\"mu_category_img\"><img alt=\"Dolce &amp; Gabbana\" height=\"172\" src=\"images/dg.jpg\" title=\" Dolce &amp; Gabbana \" width=\"172\"/></span><span class=\"mu_category_name\">Dolce &amp; Gabbana</span></a></div>\n",
       "<div class=\"categoryListBoxContents mu_category0\"><a alt=\"Fendi\" href=\"https://www.voguebags.cn/fendi-c-1_9/\" title=\"Fendi\"><span class=\"mu_category_img\"><img alt=\"Fendi\" height=\"172\" src=\"images/fendi.jpg\" title=\" Fendi \" width=\"172\"/></span><span class=\"mu_category_name\">Fendi</span></a></div>\n",
       "<div class=\"categoryListBoxContents mu_category1\"><a alt=\"Givenchy\" href=\"https://www.voguebags.cn/givenchy-c-1_11/\" title=\"Givenchy\"><span class=\"mu_category_img\"><img alt=\"Givenchy\" height=\"172\" src=\"images/givenchy.jpg\" title=\" Givenchy \" width=\"172\"/></span><span class=\"mu_category_name\">Givenchy</span></a></div>\n",
       "<div class=\"categoryListBoxContents mu_category2\"><a alt=\"Goyard\" href=\"https://www.voguebags.cn/goyard-c-1_91/\" title=\"Goyard\"><span class=\"mu_category_img\"><img alt=\"Goyard\" height=\"172\" src=\"images/goyardhd.jpg\" title=\" Goyard \" width=\"172\"/></span><span class=\"mu_category_name\">Goyard</span></a></div>\n",
       "<div class=\"categoryListBoxContents mu_category3\"><a alt=\"Gucci\" href=\"https://www.voguebags.cn/gucci-c-1_10/\" title=\"Gucci\"><span class=\"mu_category_img\"><img alt=\"Gucci\" height=\"172\" src=\"images/gucci.jpg\" title=\" Gucci \" width=\"172\"/></span><span class=\"mu_category_name\">Gucci</span></a></div>\n",
       "<div class=\"categoryListBoxContents mu_category4\"><a alt=\"Hermes\" href=\"https://www.voguebags.cn/hermes-c-1_15/\" title=\"Hermes\"><span class=\"mu_category_img\"><img alt=\"Hermes\" height=\"172\" src=\"images/hermes.jpg\" title=\" Hermes \" width=\"172\"/></span><span class=\"mu_category_name\">Hermes</span></a></div>\n",
       "<div class=\"categoryListBoxContents mu_category0\"><a alt=\"Miu Miu\" href=\"https://www.voguebags.cn/miu-miu-c-1_8/\" title=\"Miu Miu\"><span class=\"mu_category_img\"><img alt=\"Miu Miu\" height=\"172\" src=\"images/miumiu.jpg\" title=\" Miu Miu \" width=\"172\"/></span><span class=\"mu_category_name\">Miu Miu</span></a></div>\n",
       "<div class=\"categoryListBoxContents mu_category1\"><a alt=\"Prada\" href=\"https://www.voguebags.cn/prada-c-1_12/\" title=\"Prada\"><span class=\"mu_category_img\"><img alt=\"Prada\" height=\"172\" src=\"images/prada.jpg\" title=\" Prada \" width=\"172\"/></span><span class=\"mu_category_name\">Prada</span></a></div>\n",
       "<div class=\"categoryListBoxContents mu_category2\"><a alt=\"Saint Laurent\" href=\"https://www.voguebags.cn/saint-laurent-c-1_7/\" title=\"Saint Laurent\"><span class=\"mu_category_img\"><img alt=\"Saint Laurent\" height=\"172\" src=\"images/ysl.jpg\" title=\" Saint Laurent \" width=\"172\"/></span><span class=\"mu_category_name\">Saint Laurent</span></a></div>\n",
       "<div class=\"categoryListBoxContents mu_category3\"><a alt=\"Valentino\" href=\"https://www.voguebags.cn/valentino-c-1_65/\" title=\"Valentino\"><span class=\"mu_category_img\"><img alt=\"Valentino\" height=\"172\" src=\"images/valentino.jpg\" title=\" Valentino \" width=\"172\"/></span><span class=\"mu_category_name\">Valentino</span></a></div>\n",
       "<div class=\"clear\"></div>\n",
       "</div>\n",
       "</div>\n",
       "<!-- EOF: Display grid of available sub-categories -->\n",
       "</div>\n",
       "</td>\n",
       "</tr>\n",
       "</table>\n",
       "</div>\n",
       "<div id=\"footer\">\n",
       "<div class=\"mu_footer\">\n",
       "<div class=\"alignL\" id=\"siteinfo\">\n",
       "<ul>\n",
       "<h3 class=\"fb c33\">Company Information</h3>\n",
       "<li><a href=\"about-us-ezp-8.html\" rel=\"nofollow\">About Us</a> </li>\n",
       "<li> <a href=\"faqs-ezp-15.html\" rel=\"nofollow\">Shopping FAQ</a> </li>\n",
       "<li><a href=\"privacy-policy-ezp-11.html\" rel=\"nofollow\">Privacy Policy</a> </li>\n",
       "<li> <a href=\"index.php?main_page=contact_us\" rel=\"nofollow\">Contact Us</a> </li>\n",
       "</ul>\n",
       "<ul>\n",
       "<h3 class=\"fb c33\">Customer Service</h3>\n",
       "<li> <a href=\"payment-security-ezp-18.html\" rel=\"nofollow\">Payment &amp; Security</a> </li>\n",
       "<li> <a href=\"payment-methods-ezp-1.html\" rel=\"nofollow\">Payment Methods</a> </li>\n",
       "<li><a href=\"western-union-ezp-6.html\" rel=\"nofollow\">Western Union</a> </li>\n",
       "<li> <a href=\"shipping-delivery-ezp-19.html\" rel=\"nofollow\">Shipping &amp; Delivery</a> </li>\n",
       "</ul>\n",
       "<ul>\n",
       "<h3 class=\"fb c33\">Wholesale</h3>\n",
       "<li><a href=\"return-policy-ezp-20.html\">Return Policy</a></li>\n",
       "<li><a href=\"guarantee-warranty-ezp-21.html\">Guarantee &amp; Warranty</a></li>\n",
       "<li><a href=\"Wholesale-ezp-22.html\">Wholesale</a></li>\n",
       "<li><a href=\"index.php?main_page=site_map\">Site Map</a></li>\n",
       "</ul>\n",
       "<ul>\n",
       "<h3 class=\"fb c33\">My Account</h3>\n",
       "<li><a href=\"account.html\">My Account</a></li>\n",
       "<li><a href=\"shopping_cart.html\">Shipping Cart</a></li>\n",
       "<li><a href=\"why-buy-from-us-ezp-17.html\">Why Buy From Us</a></li>\n",
       "<li><a href=\"mailto:support@voguebags.cn\">Email:support@voguebags.cn</a></li>\n",
       "</ul>\n",
       "<ul class=\"joinlinks\">\n",
       "<h3 class=\"fb c33\">Join Our Community</h3>\n",
       "<li class=\"f\"><a href=\"#\"></a></li>\n",
       "<li class=\"b\"><a href=\"#\"></a></li>\n",
       "<li class=\"t1\"><a href=\"#\"></a></li>\n",
       "<li class=\"y\"><a href=\"#\"></a></li>\n",
       "<li class=\"t2\"><a href=\"#\"></a></li>\n",
       "<div class=\"clear\"></div>\n",
       "<div class=\"newsletter mt10\">\n",
       "<h6>NewsLetter</h6>\n",
       "<form action=\"index.php?main_page=account_newsletters\" id=\"newsletterForm\" method=\"post\">\n",
       "<input class=\"lettertxt\" name=\"email\" type=\"text\"/>\n",
       "<input class=\"letterbtn\" type=\"submit\" value=\"\"/>\n",
       "<div class=\"clear\">\n",
       "</div>\n",
       "</form>\n",
       "</div>\n",
       "</ul>\n",
       "<div class=\"clear\"></div>\n",
       "</div>\n",
       "<div class=\"mu_footer_img\">\n",
       "<div class=\"mu_foot_img\">\n",
       "<img src=\"includes/templates/musheji/images/foot_img.png\"/>\n",
       "</div>\n",
       "<!-- A TO Z -->\n",
       "<div class=\"mutagsaz\">   \n",
       "Product Tags:\n",
       "<a href=\"https://www.voguebags.cn/producttags/A/\">A</a><a href=\"https://www.voguebags.cn/producttags/B/\">B</a><a href=\"https://www.voguebags.cn/producttags/C/\">C</a><a href=\"https://www.voguebags.cn/producttags/D/\">D</a><a href=\"https://www.voguebags.cn/producttags/E/\">E</a><a href=\"https://www.voguebags.cn/producttags/F/\">F</a><a href=\"https://www.voguebags.cn/producttags/G/\">G</a><a href=\"https://www.voguebags.cn/producttags/H/\">H</a><a href=\"https://www.voguebags.cn/producttags/I/\">I</a><a href=\"https://www.voguebags.cn/producttags/J/\">J</a><a href=\"https://www.voguebags.cn/producttags/K/\">K</a><a href=\"https://www.voguebags.cn/producttags/L/\">L</a><a href=\"https://www.voguebags.cn/producttags/M/\">M</a><a href=\"https://www.voguebags.cn/producttags/N/\">N</a><a href=\"https://www.voguebags.cn/producttags/O/\">O</a><a href=\"https://www.voguebags.cn/producttags/P/\">P</a><a href=\"https://www.voguebags.cn/producttags/Q/\">Q</a><a href=\"https://www.voguebags.cn/producttags/R/\">R</a><a href=\"https://www.voguebags.cn/producttags/S/\">S</a><a href=\"https://www.voguebags.cn/producttags/T/\">T</a><a href=\"https://www.voguebags.cn/producttags/U/\">U</a><a href=\"https://www.voguebags.cn/producttags/V/\">V</a><a href=\"https://www.voguebags.cn/producttags/W/\">W</a><a href=\"https://www.voguebags.cn/producttags/X/\">X</a><a href=\"https://www.voguebags.cn/producttags/Y/\">Y</a><a href=\"https://www.voguebags.cn/producttags/Z/\">Z</a><a href=\"https://www.voguebags.cn/producttags/0-9/\">0-9</a>\n",
       "</div>\n",
       "<!-- END A TO Z -->\n",
       "<div class=\"copyright\">\n",
       "      Copyright © 2019 <a href=\"https://www.voguebags.cn/\" target=\"_blank\">voguebag.net</a> All rights reserved.  <div style=\"display:none;\"><script language=\"JavaScript\" src=\"https://s95.cnzz.com/z_stat.php?id=1261456695&amp;web_id=1261456695\"></script></div></div>\n",
       "</div>\n",
       "</div>\n",
       "</div>\n",
       "<script type=\"text/javascript\">   \n",
       "    function gotoTop(min_height){   \n",
       "        var gotoTop_html = '<div id=\"gotoTop\"></div>';   \n",
       "        $(\"#footer\").append(gotoTop_html);   \n",
       "        $(\"#gotoTop\").click(   \n",
       "            function(){$('html,body').animate({scrollTop:0},700);   \n",
       "        }).hover(   \n",
       "            function(){$(this).addClass(\"hover\");},   \n",
       "            function(){$(this).removeClass(\"hover\");   \n",
       "        });   \n",
       "        min_height ? min_height = min_height : min_height = 600;   \n",
       "        $(window).scroll(function(){    \n",
       "            var s = $(window).scrollTop();   \n",
       "            if( s > min_height){   \n",
       "                $(\"#gotoTop\").fadeIn(100);   \n",
       "            }else{   \n",
       "                $(\"#gotoTop\").fadeOut(200);   \n",
       "            };   \n",
       "        });   \n",
       "    };   \n",
       "    gotoTop();   \n",
       "    </script>\n",
       "<!--bof- parse time display -->\n",
       "<!--eof- parse time display -->\n",
       "<!--bof- banner #6 display -->\n",
       "<!--eof- banner #6 display -->\n",
       "</body></html>"
      ]
     },
     "execution_count": 11,
     "metadata": {},
     "output_type": "execute_result"
    }
   ],
   "source": [
    "# Que contiene?\n",
    "html"
   ]
  },
  {
   "cell_type": "markdown",
   "metadata": {},
   "source": [
    "## Buscar elementos\n",
    "Ahora empieza la tarea de buscar aquellos elementos que contienen los datos que nos interesan.\n",
    "\n",
    "Utilizar:\n",
    "- **find** si solo se busca el primero (ej. un *id*)\n",
    "- **find_all** si se buscan varios elementos (ej. una clase o un tag)"
   ]
  },
  {
   "cell_type": "markdown",
   "metadata": {},
   "source": [
    "### Find"
   ]
  },
  {
   "cell_type": "code",
   "execution_count": 15,
   "metadata": {},
   "outputs": [
    {
     "data": {
      "text/plain": [
       "<div class=\"logo fleft\">\n",
       "<a href=\"https://www.voguebags.cn/\"><img alt=\"Replica Handbags, designer handbags wholesale, replica gucci handbags\" src=\"includes/templates/musheji/images/logo.png\" title=\"Designer Replica Handbags • Gucci® Prada | Hermes Online\"/></a> </div>"
      ]
     },
     "execution_count": 15,
     "metadata": {},
     "output_type": "execute_result"
    }
   ],
   "source": [
    "logo = html.find(class_='logo')\n",
    "logo"
   ]
  },
  {
   "cell_type": "raw",
   "metadata": {},
   "source": [
    "Resultado:\n",
    "\n",
    "<div class=\"logo fleft\">                          <--- caja externa \n",
    "    <a href=\"https://www.voguebags.cn/\">          <--- link\n",
    "         <img alt=\"Replica Handbags, designer handbags wholesale, replica gucci handbags\"\n",
    "              src=\"includes/templates/musheji/images/logo.png\"\n",
    "              title=\"Designer Replica Handbags • Gucci® Prada | Hermes Online\"/>\n",
    "    </a>\n",
    "</div>"
   ]
  },
  {
   "cell_type": "markdown",
   "metadata": {},
   "source": [
    "El primer elemento que tiene la clase 'logo' es un `div` que a su vez contiene un link (`a`) y ese, a su vez, una imagen (`img`)\n",
    "\n",
    "Como se obtiene el link al que apunta?\n",
    "\n",
    "Usando find nuevamente para recuperar el link y de este el valor del atributo `href`"
   ]
  },
  {
   "cell_type": "code",
   "execution_count": 16,
   "metadata": {},
   "outputs": [
    {
     "data": {
      "text/plain": [
       "<a href=\"https://www.voguebags.cn/\"><img alt=\"Replica Handbags, designer handbags wholesale, replica gucci handbags\" src=\"includes/templates/musheji/images/logo.png\" title=\"Designer Replica Handbags • Gucci® Prada | Hermes Online\"/></a>"
      ]
     },
     "execution_count": 16,
     "metadata": {},
     "output_type": "execute_result"
    }
   ],
   "source": [
    "logo.find('a')"
   ]
  },
  {
   "cell_type": "code",
   "execution_count": 18,
   "metadata": {},
   "outputs": [
    {
     "data": {
      "text/plain": [
       "'https://www.voguebags.cn/'"
      ]
     },
     "execution_count": 18,
     "metadata": {},
     "output_type": "execute_result"
    }
   ],
   "source": [
    "link_a_pagina_principal = logo.find('a')['href']\n",
    "link_a_pagina_principal"
   ]
  },
  {
   "cell_type": "markdown",
   "metadata": {},
   "source": [
    "Y si nos interesa la imagen, podemos obtener su texto alternativo () o el link a la imagen (`src`)"
   ]
  },
  {
   "cell_type": "code",
   "execution_count": 19,
   "metadata": {},
   "outputs": [
    {
     "data": {
      "text/plain": [
       "<img alt=\"Replica Handbags, designer handbags wholesale, replica gucci handbags\" src=\"includes/templates/musheji/images/logo.png\" title=\"Designer Replica Handbags • Gucci® Prada | Hermes Online\"/>"
      ]
     },
     "execution_count": 19,
     "metadata": {},
     "output_type": "execute_result"
    }
   ],
   "source": [
    "logo.find('img')"
   ]
  },
  {
   "cell_type": "code",
   "execution_count": 20,
   "metadata": {},
   "outputs": [
    {
     "data": {
      "text/plain": [
       "'includes/templates/musheji/images/logo.png'"
      ]
     },
     "execution_count": 20,
     "metadata": {},
     "output_type": "execute_result"
    }
   ],
   "source": [
    "logo.find('img')['src']"
   ]
  },
  {
   "cell_type": "code",
   "execution_count": 21,
   "metadata": {},
   "outputs": [
    {
     "data": {
      "text/plain": [
       "'Replica Handbags, designer handbags wholesale, replica gucci handbags'"
      ]
     },
     "execution_count": 21,
     "metadata": {},
     "output_type": "execute_result"
    }
   ],
   "source": [
    "logo.find('img')['alt']"
   ]
  },
  {
   "cell_type": "code",
   "execution_count": 22,
   "metadata": {},
   "outputs": [
    {
     "data": {
      "text/plain": [
       "'Designer Replica Handbags • Gucci® Prada | Hermes Online'"
      ]
     },
     "execution_count": 22,
     "metadata": {},
     "output_type": "execute_result"
    }
   ],
   "source": [
    "logo.find('img')['title']"
   ]
  },
  {
   "cell_type": "markdown",
   "metadata": {},
   "source": [
    "Tambien podriamos obtener el link primero y luego con un segundo find, la imagen."
   ]
  },
  {
   "cell_type": "code",
   "execution_count": 23,
   "metadata": {},
   "outputs": [
    {
     "data": {
      "text/plain": [
       "'includes/templates/musheji/images/logo.png'"
      ]
     },
     "execution_count": 23,
     "metadata": {},
     "output_type": "execute_result"
    }
   ],
   "source": [
    "logo.find('a').find('img')['src']"
   ]
  },
  {
   "cell_type": "code",
   "execution_count": 24,
   "metadata": {},
   "outputs": [
    {
     "data": {
      "text/plain": [
       "'includes/templates/musheji/images/logo.png'"
      ]
     },
     "execution_count": 24,
     "metadata": {},
     "output_type": "execute_result"
    }
   ],
   "source": [
    "logo.find('img')['src']"
   ]
  },
  {
   "cell_type": "markdown",
   "metadata": {},
   "source": [
    "De la forma que esta estructurado el html, ambos casos dan lo mismo."
   ]
  },
  {
   "cell_type": "markdown",
   "metadata": {},
   "source": [
    "### Find All"
   ]
  },
  {
   "cell_type": "markdown",
   "metadata": {},
   "source": [
    "Si deseo encontrar todos los elementos de la pagina, sea por tag o por clase, se usa `find_all`.\n",
    "\n",
    "Para buscar por clase se puede usar el parametro `class_`\n",
    "\n",
    "Para buscar por nombre de tag no hace falta usar la etiqueta del parametro `name` porque este es el parametro principal.\n",
    "\n",
    "Obtengamos todos los elementos que sean de la clase 'mu_category_name'"
   ]
  },
  {
   "cell_type": "code",
   "execution_count": 25,
   "metadata": {},
   "outputs": [],
   "source": [
    "categorias = html.find_all(class_= 'mu_category_name')"
   ]
  },
  {
   "cell_type": "code",
   "execution_count": 26,
   "metadata": {},
   "outputs": [
    {
     "data": {
      "text/plain": [
       "[<span class=\"mu_category_name\">3.1 Phillip Lim</span>,\n",
       " <span class=\"mu_category_name\">Alexander Wang</span>,\n",
       " <span class=\"mu_category_name\">Balenciaga</span>,\n",
       " <span class=\"mu_category_name\">Bottega Veneta</span>,\n",
       " <span class=\"mu_category_name\">Burberry</span>,\n",
       " <span class=\"mu_category_name\">Bvlgari</span>,\n",
       " <span class=\"mu_category_name\">Celine</span>,\n",
       " <span class=\"mu_category_name\">Chloe</span>,\n",
       " <span class=\"mu_category_name\">Christian Dior</span>,\n",
       " <span class=\"mu_category_name\">Dolce &amp; Gabbana</span>,\n",
       " <span class=\"mu_category_name\">Fendi</span>,\n",
       " <span class=\"mu_category_name\">Givenchy</span>,\n",
       " <span class=\"mu_category_name\">Goyard</span>,\n",
       " <span class=\"mu_category_name\">Gucci</span>,\n",
       " <span class=\"mu_category_name\">Hermes</span>,\n",
       " <span class=\"mu_category_name\">Miu Miu</span>,\n",
       " <span class=\"mu_category_name\">Prada</span>,\n",
       " <span class=\"mu_category_name\">Saint Laurent</span>,\n",
       " <span class=\"mu_category_name\">Valentino</span>]"
      ]
     },
     "execution_count": 26,
     "metadata": {},
     "output_type": "execute_result"
    }
   ],
   "source": [
    "categorias"
   ]
  },
  {
   "cell_type": "markdown",
   "metadata": {},
   "source": [
    "En este caso, el resultado es una lista. Puedo a su vez procesar cada uno de los elementos por separado, pero para eso hay que armar un loop."
   ]
  },
  {
   "cell_type": "markdown",
   "metadata": {},
   "source": [
    "### Extraccion de Texto (getText)\n",
    "El metodo `getText()` nos permite extraer el texto contenido en el elemento encontrado con *find* o *findall*"
   ]
  },
  {
   "cell_type": "code",
   "execution_count": 34,
   "metadata": {},
   "outputs": [
    {
     "data": {
      "text/plain": [
       "'Alexander Wang'"
      ]
     },
     "execution_count": 34,
     "metadata": {},
     "output_type": "execute_result"
    }
   ],
   "source": [
    "categorias[1].getText()"
   ]
  },
  {
   "cell_type": "markdown",
   "metadata": {},
   "source": [
    "Para extraer todos los diseñadores, aplico un for-loop"
   ]
  },
  {
   "cell_type": "code",
   "execution_count": 35,
   "metadata": {},
   "outputs": [
    {
     "data": {
      "text/plain": [
       "['3.1 Phillip Lim',\n",
       " 'Alexander Wang',\n",
       " 'Balenciaga',\n",
       " 'Bottega Veneta',\n",
       " 'Burberry',\n",
       " 'Bvlgari',\n",
       " 'Celine',\n",
       " 'Chloe',\n",
       " 'Christian Dior',\n",
       " 'Dolce & Gabbana',\n",
       " 'Fendi',\n",
       " 'Givenchy',\n",
       " 'Goyard',\n",
       " 'Gucci',\n",
       " 'Hermes',\n",
       " 'Miu Miu',\n",
       " 'Prada',\n",
       " 'Saint Laurent',\n",
       " 'Valentino']"
      ]
     },
     "execution_count": 35,
     "metadata": {},
     "output_type": "execute_result"
    }
   ],
   "source": [
    "diseñadores = []\n",
    "for cat in categorias:\n",
    "    diseñadores.append(cat.getText())\n",
    "diseñadores"
   ]
  },
  {
   "cell_type": "markdown",
   "metadata": {},
   "source": [
    "O de manera mas compacta"
   ]
  },
  {
   "cell_type": "code",
   "execution_count": 36,
   "metadata": {},
   "outputs": [],
   "source": [
    "guardar = [diseñador.getText() for diseñador in categorias]"
   ]
  },
  {
   "cell_type": "code",
   "execution_count": 37,
   "metadata": {},
   "outputs": [
    {
     "data": {
      "text/plain": [
       "['3.1 Phillip Lim',\n",
       " 'Alexander Wang',\n",
       " 'Balenciaga',\n",
       " 'Bottega Veneta',\n",
       " 'Burberry',\n",
       " 'Bvlgari',\n",
       " 'Celine',\n",
       " 'Chloe',\n",
       " 'Christian Dior',\n",
       " 'Dolce & Gabbana',\n",
       " 'Fendi',\n",
       " 'Givenchy',\n",
       " 'Goyard',\n",
       " 'Gucci',\n",
       " 'Hermes',\n",
       " 'Miu Miu',\n",
       " 'Prada',\n",
       " 'Saint Laurent',\n",
       " 'Valentino']"
      ]
     },
     "execution_count": 37,
     "metadata": {},
     "output_type": "execute_result"
    }
   ],
   "source": [
    "guardar"
   ]
  },
  {
   "cell_type": "markdown",
   "metadata": {},
   "source": [
    "## Ejemplos"
   ]
  },
  {
   "cell_type": "markdown",
   "metadata": {},
   "source": [
    "### Todos los links\n",
    "Si quiero extraer todos los links de la pagina hago:"
   ]
  },
  {
   "cell_type": "code",
   "execution_count": 38,
   "metadata": {},
   "outputs": [
    {
     "data": {
      "text/plain": [
       "[<a alt=\"My Account\" class=\"link-account\" href=\"https://www.voguebags.cn/account.html\" rel=\"nofollow\">My Account</a>,\n",
       " <a href=\"https://www.voguebags.cn/faqs-ezp-15.html\" rel=\"nofollow\">FAQs</a>,\n",
       " <a class=\"curr_text\" href=\"\" rel=\"nofollow\"><span>$</span> USD</a>,\n",
       " <a href=\"https://www.voguebags.cn/handbags-c-1/?currency=USD\" rel=\"nofollow\"><em>$</em>USD</a>,\n",
       " <a href=\"https://www.voguebags.cn/handbags-c-1/?currency=EUR\" rel=\"nofollow\"><em>€</em>EUR</a>,\n",
       " <a href=\"https://www.voguebags.cn/handbags-c-1/?currency=GBP\" rel=\"nofollow\"><em>£</em>GBP</a>,\n",
       " <a href=\"https://www.voguebags.cn/handbags-c-1/?currency=CAD\" rel=\"nofollow\"><em>$</em>CAD</a>,\n",
       " <a href=\"https://www.voguebags.cn/handbags-c-1/?currency=AUD\" rel=\"nofollow\"><em>$</em>AUD</a>,\n",
       " <a class=\"mu_login_s\" href=\"https://www.voguebags.cn/login.html\" rel=\"nofollow\">Sign in</a>,\n",
       " <a class=\"mu_login_r\" href=\"https://www.voguebags.cn/index.php?main_page=create_account\" rel=\"nofollow\">Join</a>,\n",
       " <a href=\"https://www.voguebags.cn/\"><img alt=\"Replica Handbags, designer handbags wholesale, replica gucci handbags\" src=\"includes/templates/musheji/images/logo.png\" title=\"Designer Replica Handbags • Gucci® Prada | Hermes Online\"/></a>,\n",
       " <a class=\"mu_cart_t\" href=\"https://www.voguebags.cn/shopping_cart.html\"><i>0</i></a>,\n",
       " <a href=\"#\"></a>,\n",
       " <a href=\"https://www.voguebags.cn/\">Home</a>,\n",
       " <a href=\"https://www.voguebags.cn/apparel-c-93/\"><span>Apparel</span></a>,\n",
       " <a href=\"https://www.voguebags.cn/fendi-c-93_95/\">Fendi</a>,\n",
       " <a href=\"https://www.voguebags.cn/gucci-c-93_94/\">Gucci</a>,\n",
       " <a href=\"https://www.voguebags.cn/handbags-c-1/\"><span>Handbags</span></a>,\n",
       " <a href=\"https://www.voguebags.cn/31-phillip-lim-c-1_2/\">3.1 Phillip Lim</a>,\n",
       " <a href=\"https://www.voguebags.cn/alexander-wang-c-1_3/\">Alexander Wang</a>,\n",
       " <a href=\"https://www.voguebags.cn/balenciaga-c-1_13/\">Balenciaga</a>,\n",
       " <a href=\"https://www.voguebags.cn/bottega-veneta-c-1_4/\">Bottega Veneta</a>,\n",
       " <a href=\"https://www.voguebags.cn/burberry-c-1_32/\">Burberry</a>,\n",
       " <a href=\"https://www.voguebags.cn/bvlgari-c-1_18/\">Bvlgari</a>,\n",
       " <a href=\"https://www.voguebags.cn/celine-c-1_14/\">Celine</a>,\n",
       " <a href=\"https://www.voguebags.cn/chloe-c-1_6/\">Chloe</a>,\n",
       " <a href=\"https://www.voguebags.cn/christian-dior-c-1_17/\">Christian Dior</a>,\n",
       " <a href=\"https://www.voguebags.cn/dolce-gabbana-c-1_5/\">Dolce &amp; Gabbana</a>,\n",
       " <a href=\"https://www.voguebags.cn/fendi-c-1_9/\">Fendi</a>,\n",
       " <a href=\"https://www.voguebags.cn/givenchy-c-1_11/\">Givenchy</a>,\n",
       " <a href=\"https://www.voguebags.cn/goyard-c-1_91/\">Goyard</a>,\n",
       " <a href=\"https://www.voguebags.cn/gucci-c-1_10/\">Gucci</a>,\n",
       " <a href=\"https://www.voguebags.cn/hermes-c-1_15/\">Hermes</a>,\n",
       " <a href=\"https://www.voguebags.cn/miu-miu-c-1_8/\">Miu Miu</a>,\n",
       " <a href=\"https://www.voguebags.cn/prada-c-1_12/\">Prada</a>,\n",
       " <a href=\"https://www.voguebags.cn/saint-laurent-c-1_7/\">Saint Laurent</a>,\n",
       " <a href=\"https://www.voguebags.cn/valentino-c-1_65/\">Valentino</a>,\n",
       " <a href=\"https://www.voguebags.cn/shoes-c-33/\"><span>Shoes</span></a>,\n",
       " <a href=\"https://www.voguebags.cn/aquazzura-c-33_35/\">Aquazzura</a>,\n",
       " <a href=\"https://www.voguebags.cn/bottega-veneta-c-33_56/\">Bottega Veneta</a>,\n",
       " <a href=\"https://www.voguebags.cn/christian-louboutin-c-33_85/\">Christian Louboutin</a>,\n",
       " <a href=\"https://www.voguebags.cn/givenchy-c-33_54/\">Givenchy</a>,\n",
       " <a href=\"https://www.voguebags.cn/gucci-c-33_53/\">Gucci</a>,\n",
       " <a href=\"https://www.voguebags.cn/jimmy-choo-c-33_78/\">Jimmy Choo</a>,\n",
       " <a href=\"https://www.voguebags.cn/manolo-blahnik-c-33_57/\">Manolo Blahnik</a>,\n",
       " <a href=\"https://www.voguebags.cn/prada-c-33_55/\">Prada</a>,\n",
       " <a href=\"https://www.voguebags.cn/roger-vivier-c-33_79/\">Roger Vivier</a>,\n",
       " <a href=\"https://www.voguebags.cn/saint-laurent-c-33_52/\">Saint Laurent</a>,\n",
       " <a href=\"https://www.voguebags.cn/salvatore-ferragamo-c-33_63/\">Salvatore Ferragamo</a>,\n",
       " <a href=\"https://www.voguebags.cn/stuart-weitzman-c-33_64/\">Stuart Weitzman</a>,\n",
       " <a href=\"https://www.voguebags.cn/valentino-c-33_34/\">Valentino</a>,\n",
       " <a href=\"https://www.voguebags.cn/sunglasses-c-40/\"><span>Sunglasses</span></a>,\n",
       " <a href=\"https://www.voguebags.cn/balenciaga-sunglasses-c-40_51/\">Balenciaga Sunglasses</a>,\n",
       " <a href=\"https://www.voguebags.cn/bottega-veneta-c-40_41/\">Bottega Veneta</a>,\n",
       " <a href=\"https://www.voguebags.cn/chloe-sunglasses-c-40_42/\">Chloe Sunglasses</a>,\n",
       " <a href=\"https://www.voguebags.cn/dior-sunglasses-c-40_43/\">Dior Sunglasses</a>,\n",
       " <a href=\"https://www.voguebags.cn/dolce-gabbana-c-40_44/\">Dolce &amp; Gabbana</a>,\n",
       " <a href=\"https://www.voguebags.cn/fendi-sunglasses-c-40_45/\">Fendi Sunglasses</a>,\n",
       " <a href=\"https://www.voguebags.cn/givenchy-sunglasses-c-40_46/\">Givenchy Sunglasses</a>,\n",
       " <a href=\"https://www.voguebags.cn/gucci-sunglasses-c-40_47/\">Gucci Sunglasses</a>,\n",
       " <a href=\"https://www.voguebags.cn/miu-miu-sunglasses-c-40_48/\">Miu Miu Sunglasses</a>,\n",
       " <a href=\"https://www.voguebags.cn/oliver-peoples-c-40_61/\">Oliver Peoples</a>,\n",
       " <a href=\"https://www.voguebags.cn/prada-sunglasses-c-40_50/\">Prada Sunglasses</a>,\n",
       " <a href=\"https://www.voguebags.cn/rayban-sunglasses-c-40_49/\">Ray-Ban Sunglasses</a>,\n",
       " <a href=\"https://www.voguebags.cn/tom-ford-sunglasses-c-40_62/\">Tom Ford Sunglasses</a>,\n",
       " <a href=\"https://www.voguebags.cn/wallets-c-19/\"><span>Wallets</span></a>,\n",
       " <a href=\"https://www.voguebags.cn/balenciaga-wallets-c-19_25/\">Balenciaga Wallets</a>,\n",
       " <a href=\"https://www.voguebags.cn/bvlgari-wallets-c-19_26/\">Bvlgari Wallets</a>,\n",
       " <a href=\"https://www.voguebags.cn/celine-wallets-c-19_27/\">Celine Wallets</a>,\n",
       " <a href=\"https://www.voguebags.cn/dior-wallets-c-19_28/\">Dior Wallets</a>,\n",
       " <a href=\"https://www.voguebags.cn/fendi-wallets-c-19_24/\">Fendi Wallets</a>,\n",
       " <a href=\"https://www.voguebags.cn/givenchy-wallets-c-19_29/\">Givenchy Wallets</a>,\n",
       " <a href=\"https://www.voguebags.cn/gucci-wallets-c-19_21/\">Gucci Wallets</a>,\n",
       " <a href=\"https://www.voguebags.cn/hermes-wallets-c-19_22/\">Hermes Wallets</a>,\n",
       " <a href=\"https://www.voguebags.cn/miu-miu-wallets-c-19_30/\">Miu Miu Wallets</a>,\n",
       " <a href=\"https://www.voguebags.cn/prada-wallets-c-19_23/\">Prada Wallets</a>,\n",
       " <a href=\"https://www.voguebags.cn/saint-laurent-wallets-c-19_31/\">Saint Laurent Wallets</a>,\n",
       " <a href=\"https://www.voguebags.cn/watches-c-80/\"><span>Watches</span></a>,\n",
       " <a href=\"https://www.voguebags.cn/bvlgari-watches-c-80_90/\">BVLGARI Watches</a>,\n",
       " <a href=\"https://www.voguebags.cn/cartier-watches-c-80_83/\">Cartier Watches</a>,\n",
       " <a href=\"https://www.voguebags.cn/chopard-watches-c-80_87/\">Chopard Watches</a>,\n",
       " <a href=\"https://www.voguebags.cn/dior-watches-c-80_84/\">Dior Watches</a>,\n",
       " <a href=\"https://www.voguebags.cn/fendi-watches-c-80_88/\">Fendi Watches</a>,\n",
       " <a href=\"https://www.voguebags.cn/gucci-watches-c-80_81/\">Gucci Watches</a>,\n",
       " <a href=\"https://www.voguebags.cn/hermes-watches-c-80_86/\">Hermes Watches</a>,\n",
       " <a href=\"https://www.voguebags.cn/piaget-watches-c-80_89/\">Piaget Watches</a>,\n",
       " <a href=\"https://www.voguebags.cn/scarves-c-36/\"><span>Scarves</span></a>,\n",
       " <a href=\"https://www.voguebags.cn/burberry-scarves-c-36_66/\">Burberry Scarves</a>,\n",
       " <a href=\"https://www.voguebags.cn/givenchy-scarves-c-36_37/\">Givenchy Scarves</a>,\n",
       " <a href=\"https://www.voguebags.cn/gucci-scarves-c-36_38/\">Gucci Scarves</a>,\n",
       " <a href=\"https://www.voguebags.cn/valentino-scarves-c-36_39/\">Valentino Scarves</a>,\n",
       " <a href=\"https://www.voguebags.cn/men-c-67/\"><span>Men</span></a>,\n",
       " <a href=\"https://www.voguebags.cn/bags-c-67_72/\">Bags</a>,\n",
       " <a href=\"https://www.voguebags.cn/burberry-c-67_72_77/\">Burberry</a>,\n",
       " <a href=\"https://www.voguebags.cn/fendi-c-67_72_75/\">Fendi</a>,\n",
       " <a href=\"https://www.voguebags.cn/givenchy-c-67_72_74/\">Givenchy</a>,\n",
       " <a href=\"https://www.voguebags.cn/gucci-c-67_72_73/\">Gucci</a>,\n",
       " <a href=\"https://www.voguebags.cn/prada-c-67_72_76/\">Prada</a>,\n",
       " <a href=\"https://www.voguebags.cn/shoes-c-67_68/\">Shoes</a>,\n",
       " <a href=\"https://www.voguebags.cn/fendi-c-67_68_71/\">Fendi</a>,\n",
       " <a href=\"https://www.voguebags.cn/gucci-c-67_68_69/\">Gucci</a>,\n",
       " <a href=\"https://www.voguebags.cn/prada-c-67_68_70/\">Prada</a>,\n",
       " <a href=\"https://www.voguebags.cn/watches-c-67_58/\">Watches</a>,\n",
       " <a href=\"https://www.voguebags.cn/breitling-c-67_58_59/\">Breitling</a>,\n",
       " <a href=\"https://www.voguebags.cn/rolex-c-67_58_60/\">Rolex</a>,\n",
       " <a href=\"https://www.voguebags.cn/index.php?main_page=contact_us\">Contact</a>,\n",
       " <a href=\"https://www.voguebags.cn/\">Home</a>,\n",
       " <a href=\"https://www.voguebags.cn/apparel-c-93/\">Apparel</a>,\n",
       " <a href=\"https://www.voguebags.cn/handbags-c-1/\"><span class=\"category-subs-parent\">Handbags</span></a>,\n",
       " <a href=\"https://www.voguebags.cn/31-phillip-lim-c-1_2/\">3.1 Phillip Lim</a>,\n",
       " <a href=\"https://www.voguebags.cn/alexander-wang-c-1_3/\">Alexander Wang</a>,\n",
       " <a href=\"https://www.voguebags.cn/balenciaga-c-1_13/\">Balenciaga</a>,\n",
       " <a href=\"https://www.voguebags.cn/bottega-veneta-c-1_4/\">Bottega Veneta</a>,\n",
       " <a href=\"https://www.voguebags.cn/burberry-c-1_32/\">Burberry</a>,\n",
       " <a href=\"https://www.voguebags.cn/bvlgari-c-1_18/\">Bvlgari</a>,\n",
       " <a href=\"https://www.voguebags.cn/celine-c-1_14/\">Celine</a>,\n",
       " <a href=\"https://www.voguebags.cn/chloe-c-1_6/\">Chloe</a>,\n",
       " <a href=\"https://www.voguebags.cn/christian-dior-c-1_17/\">Christian Dior</a>,\n",
       " <a href=\"https://www.voguebags.cn/dolce-gabbana-c-1_5/\">Dolce &amp; Gabbana</a>,\n",
       " <a href=\"https://www.voguebags.cn/fendi-c-1_9/\">Fendi</a>,\n",
       " <a href=\"https://www.voguebags.cn/givenchy-c-1_11/\">Givenchy</a>,\n",
       " <a href=\"https://www.voguebags.cn/goyard-c-1_91/\">Goyard</a>,\n",
       " <a href=\"https://www.voguebags.cn/gucci-c-1_10/\">Gucci</a>,\n",
       " <a href=\"https://www.voguebags.cn/hermes-c-1_15/\">Hermes</a>,\n",
       " <a href=\"https://www.voguebags.cn/miu-miu-c-1_8/\">Miu Miu</a>,\n",
       " <a href=\"https://www.voguebags.cn/prada-c-1_12/\">Prada</a>,\n",
       " <a href=\"https://www.voguebags.cn/saint-laurent-c-1_7/\">Saint Laurent</a>,\n",
       " <a href=\"https://www.voguebags.cn/valentino-c-1_65/\">Valentino</a>,\n",
       " <a href=\"https://www.voguebags.cn/shoes-c-33/\">Shoes</a>,\n",
       " <a href=\"https://www.voguebags.cn/sunglasses-c-40/\">Sunglasses</a>,\n",
       " <a href=\"https://www.voguebags.cn/wallets-c-19/\">Wallets</a>,\n",
       " <a href=\"https://www.voguebags.cn/watches-c-80/\">Watches</a>,\n",
       " <a href=\"https://www.voguebags.cn/scarves-c-36/\">Scarves</a>,\n",
       " <a href=\"https://www.voguebags.cn/men-c-67/\">Men</a>,\n",
       " <a alt=\"3.1 Phillip Lim\" href=\"https://www.voguebags.cn/31-phillip-lim-c-1_2/\" title=\"3.1 Phillip Lim\"><span class=\"mu_category_img\"><img alt=\"3.1 Phillip Lim\" height=\"172\" src=\"images/3.1.jpg\" title=\" 3.1 Phillip Lim \" width=\"172\"/></span><span class=\"mu_category_name\">3.1 Phillip Lim</span></a>,\n",
       " <a alt=\"Alexander Wang\" href=\"https://www.voguebags.cn/alexander-wang-c-1_3/\" title=\"Alexander Wang\"><span class=\"mu_category_img\"><img alt=\"Alexander Wang\" height=\"172\" src=\"images/alexander.jpg\" title=\" Alexander Wang \" width=\"172\"/></span><span class=\"mu_category_name\">Alexander Wang</span></a>,\n",
       " <a alt=\"Balenciaga\" href=\"https://www.voguebags.cn/balenciaga-c-1_13/\" title=\"Balenciaga\"><span class=\"mu_category_img\"><img alt=\"Balenciaga\" height=\"172\" src=\"images/balenciaga.jpg\" title=\" Balenciaga \" width=\"172\"/></span><span class=\"mu_category_name\">Balenciaga</span></a>,\n",
       " <a alt=\"Bottega Veneta\" href=\"https://www.voguebags.cn/bottega-veneta-c-1_4/\" title=\"Bottega Veneta\"><span class=\"mu_category_img\"><img alt=\"Bottega Veneta\" height=\"172\" src=\"images/BV.jpg\" title=\" Bottega Veneta \" width=\"172\"/></span><span class=\"mu_category_name\">Bottega Veneta</span></a>,\n",
       " <a alt=\"Burberry\" href=\"https://www.voguebags.cn/burberry-c-1_32/\" title=\"Burberry\"><span class=\"mu_category_img\"><img alt=\"Burberry\" height=\"172\" src=\"images/burberry.jpg\" title=\" Burberry \" width=\"172\"/></span><span class=\"mu_category_name\">Burberry</span></a>,\n",
       " <a alt=\"Bvlgari\" href=\"https://www.voguebags.cn/bvlgari-c-1_18/\" title=\"Bvlgari\"><span class=\"mu_category_img\"><img alt=\"Bvlgari\" height=\"172\" src=\"images/bvlgari.jpg\" title=\" Bvlgari \" width=\"172\"/></span><span class=\"mu_category_name\">Bvlgari</span></a>,\n",
       " <a alt=\"Celine\" href=\"https://www.voguebags.cn/celine-c-1_14/\" title=\"Celine\"><span class=\"mu_category_img\"><img alt=\"Celine\" height=\"172\" src=\"images/celine.jpg\" title=\" Celine \" width=\"172\"/></span><span class=\"mu_category_name\">Celine</span></a>,\n",
       " <a alt=\"Chloe\" href=\"https://www.voguebags.cn/chloe-c-1_6/\" title=\"Chloe\"><span class=\"mu_category_img\"><img alt=\"Chloe\" height=\"172\" src=\"images/chloe.jpg\" title=\" Chloe \" width=\"172\"/></span><span class=\"mu_category_name\">Chloe</span></a>,\n",
       " <a alt=\"Christian Dior\" href=\"https://www.voguebags.cn/christian-dior-c-1_17/\" title=\"Christian Dior\"><span class=\"mu_category_img\"><img alt=\"Christian Dior\" height=\"172\" src=\"images/Dior.jpg\" title=\" Christian Dior \" width=\"172\"/></span><span class=\"mu_category_name\">Christian Dior</span></a>,\n",
       " <a alt=\"Dolce &amp; Gabbana\" href=\"https://www.voguebags.cn/dolce-gabbana-c-1_5/\" title=\"Dolce &amp; Gabbana\"><span class=\"mu_category_img\"><img alt=\"Dolce &amp; Gabbana\" height=\"172\" src=\"images/dg.jpg\" title=\" Dolce &amp; Gabbana \" width=\"172\"/></span><span class=\"mu_category_name\">Dolce &amp; Gabbana</span></a>,\n",
       " <a alt=\"Fendi\" href=\"https://www.voguebags.cn/fendi-c-1_9/\" title=\"Fendi\"><span class=\"mu_category_img\"><img alt=\"Fendi\" height=\"172\" src=\"images/fendi.jpg\" title=\" Fendi \" width=\"172\"/></span><span class=\"mu_category_name\">Fendi</span></a>,\n",
       " <a alt=\"Givenchy\" href=\"https://www.voguebags.cn/givenchy-c-1_11/\" title=\"Givenchy\"><span class=\"mu_category_img\"><img alt=\"Givenchy\" height=\"172\" src=\"images/givenchy.jpg\" title=\" Givenchy \" width=\"172\"/></span><span class=\"mu_category_name\">Givenchy</span></a>,\n",
       " <a alt=\"Goyard\" href=\"https://www.voguebags.cn/goyard-c-1_91/\" title=\"Goyard\"><span class=\"mu_category_img\"><img alt=\"Goyard\" height=\"172\" src=\"images/goyardhd.jpg\" title=\" Goyard \" width=\"172\"/></span><span class=\"mu_category_name\">Goyard</span></a>,\n",
       " <a alt=\"Gucci\" href=\"https://www.voguebags.cn/gucci-c-1_10/\" title=\"Gucci\"><span class=\"mu_category_img\"><img alt=\"Gucci\" height=\"172\" src=\"images/gucci.jpg\" title=\" Gucci \" width=\"172\"/></span><span class=\"mu_category_name\">Gucci</span></a>,\n",
       " <a alt=\"Hermes\" href=\"https://www.voguebags.cn/hermes-c-1_15/\" title=\"Hermes\"><span class=\"mu_category_img\"><img alt=\"Hermes\" height=\"172\" src=\"images/hermes.jpg\" title=\" Hermes \" width=\"172\"/></span><span class=\"mu_category_name\">Hermes</span></a>,\n",
       " <a alt=\"Miu Miu\" href=\"https://www.voguebags.cn/miu-miu-c-1_8/\" title=\"Miu Miu\"><span class=\"mu_category_img\"><img alt=\"Miu Miu\" height=\"172\" src=\"images/miumiu.jpg\" title=\" Miu Miu \" width=\"172\"/></span><span class=\"mu_category_name\">Miu Miu</span></a>,\n",
       " <a alt=\"Prada\" href=\"https://www.voguebags.cn/prada-c-1_12/\" title=\"Prada\"><span class=\"mu_category_img\"><img alt=\"Prada\" height=\"172\" src=\"images/prada.jpg\" title=\" Prada \" width=\"172\"/></span><span class=\"mu_category_name\">Prada</span></a>,\n",
       " <a alt=\"Saint Laurent\" href=\"https://www.voguebags.cn/saint-laurent-c-1_7/\" title=\"Saint Laurent\"><span class=\"mu_category_img\"><img alt=\"Saint Laurent\" height=\"172\" src=\"images/ysl.jpg\" title=\" Saint Laurent \" width=\"172\"/></span><span class=\"mu_category_name\">Saint Laurent</span></a>,\n",
       " <a alt=\"Valentino\" href=\"https://www.voguebags.cn/valentino-c-1_65/\" title=\"Valentino\"><span class=\"mu_category_img\"><img alt=\"Valentino\" height=\"172\" src=\"images/valentino.jpg\" title=\" Valentino \" width=\"172\"/></span><span class=\"mu_category_name\">Valentino</span></a>,\n",
       " <a href=\"about-us-ezp-8.html\" rel=\"nofollow\">About Us</a>,\n",
       " <a href=\"faqs-ezp-15.html\" rel=\"nofollow\">Shopping FAQ</a>,\n",
       " <a href=\"privacy-policy-ezp-11.html\" rel=\"nofollow\">Privacy Policy</a>,\n",
       " <a href=\"index.php?main_page=contact_us\" rel=\"nofollow\">Contact Us</a>,\n",
       " <a href=\"payment-security-ezp-18.html\" rel=\"nofollow\">Payment &amp; Security</a>,\n",
       " <a href=\"payment-methods-ezp-1.html\" rel=\"nofollow\">Payment Methods</a>,\n",
       " <a href=\"western-union-ezp-6.html\" rel=\"nofollow\">Western Union</a>,\n",
       " <a href=\"shipping-delivery-ezp-19.html\" rel=\"nofollow\">Shipping &amp; Delivery</a>,\n",
       " <a href=\"return-policy-ezp-20.html\">Return Policy</a>,\n",
       " <a href=\"guarantee-warranty-ezp-21.html\">Guarantee &amp; Warranty</a>,\n",
       " <a href=\"Wholesale-ezp-22.html\">Wholesale</a>,\n",
       " <a href=\"index.php?main_page=site_map\">Site Map</a>,\n",
       " <a href=\"account.html\">My Account</a>,\n",
       " <a href=\"shopping_cart.html\">Shipping Cart</a>,\n",
       " <a href=\"why-buy-from-us-ezp-17.html\">Why Buy From Us</a>,\n",
       " <a href=\"mailto:support@voguebags.cn\">Email:support@voguebags.cn</a>,\n",
       " <a href=\"#\"></a>,\n",
       " <a href=\"#\"></a>,\n",
       " <a href=\"#\"></a>,\n",
       " <a href=\"#\"></a>,\n",
       " <a href=\"#\"></a>,\n",
       " <a href=\"https://www.voguebags.cn/producttags/A/\">A</a>,\n",
       " <a href=\"https://www.voguebags.cn/producttags/B/\">B</a>,\n",
       " <a href=\"https://www.voguebags.cn/producttags/C/\">C</a>,\n",
       " <a href=\"https://www.voguebags.cn/producttags/D/\">D</a>,\n",
       " <a href=\"https://www.voguebags.cn/producttags/E/\">E</a>,\n",
       " <a href=\"https://www.voguebags.cn/producttags/F/\">F</a>,\n",
       " <a href=\"https://www.voguebags.cn/producttags/G/\">G</a>,\n",
       " <a href=\"https://www.voguebags.cn/producttags/H/\">H</a>,\n",
       " <a href=\"https://www.voguebags.cn/producttags/I/\">I</a>,\n",
       " <a href=\"https://www.voguebags.cn/producttags/J/\">J</a>,\n",
       " <a href=\"https://www.voguebags.cn/producttags/K/\">K</a>,\n",
       " <a href=\"https://www.voguebags.cn/producttags/L/\">L</a>,\n",
       " <a href=\"https://www.voguebags.cn/producttags/M/\">M</a>,\n",
       " <a href=\"https://www.voguebags.cn/producttags/N/\">N</a>,\n",
       " <a href=\"https://www.voguebags.cn/producttags/O/\">O</a>,\n",
       " <a href=\"https://www.voguebags.cn/producttags/P/\">P</a>,\n",
       " <a href=\"https://www.voguebags.cn/producttags/Q/\">Q</a>,\n",
       " <a href=\"https://www.voguebags.cn/producttags/R/\">R</a>,\n",
       " <a href=\"https://www.voguebags.cn/producttags/S/\">S</a>,\n",
       " <a href=\"https://www.voguebags.cn/producttags/T/\">T</a>,\n",
       " <a href=\"https://www.voguebags.cn/producttags/U/\">U</a>,\n",
       " <a href=\"https://www.voguebags.cn/producttags/V/\">V</a>,\n",
       " <a href=\"https://www.voguebags.cn/producttags/W/\">W</a>,\n",
       " <a href=\"https://www.voguebags.cn/producttags/X/\">X</a>,\n",
       " <a href=\"https://www.voguebags.cn/producttags/Y/\">Y</a>,\n",
       " <a href=\"https://www.voguebags.cn/producttags/Z/\">Z</a>,\n",
       " <a href=\"https://www.voguebags.cn/producttags/0-9/\">0-9</a>,\n",
       " <a href=\"https://www.voguebags.cn/\" target=\"_blank\">voguebag.net</a>]"
      ]
     },
     "execution_count": 38,
     "metadata": {},
     "output_type": "execute_result"
    }
   ],
   "source": [
    "html.find_all('a')"
   ]
  },
  {
   "cell_type": "code",
   "execution_count": 39,
   "metadata": {},
   "outputs": [],
   "source": [
    "todos_links = html.find_all('a')"
   ]
  },
  {
   "cell_type": "code",
   "execution_count": 40,
   "metadata": {},
   "outputs": [],
   "source": [
    "todos_links_texto = [ lnk['href']  for lnk in todos_links]"
   ]
  },
  {
   "cell_type": "code",
   "execution_count": 41,
   "metadata": {},
   "outputs": [
    {
     "data": {
      "text/plain": [
       "['https://www.voguebags.cn/account.html',\n",
       " 'https://www.voguebags.cn/faqs-ezp-15.html',\n",
       " '',\n",
       " 'https://www.voguebags.cn/handbags-c-1/?currency=USD',\n",
       " 'https://www.voguebags.cn/handbags-c-1/?currency=EUR',\n",
       " 'https://www.voguebags.cn/handbags-c-1/?currency=GBP',\n",
       " 'https://www.voguebags.cn/handbags-c-1/?currency=CAD',\n",
       " 'https://www.voguebags.cn/handbags-c-1/?currency=AUD',\n",
       " 'https://www.voguebags.cn/login.html',\n",
       " 'https://www.voguebags.cn/index.php?main_page=create_account',\n",
       " 'https://www.voguebags.cn/',\n",
       " 'https://www.voguebags.cn/shopping_cart.html',\n",
       " '#',\n",
       " 'https://www.voguebags.cn/',\n",
       " 'https://www.voguebags.cn/apparel-c-93/',\n",
       " 'https://www.voguebags.cn/fendi-c-93_95/',\n",
       " 'https://www.voguebags.cn/gucci-c-93_94/',\n",
       " 'https://www.voguebags.cn/handbags-c-1/',\n",
       " 'https://www.voguebags.cn/31-phillip-lim-c-1_2/',\n",
       " 'https://www.voguebags.cn/alexander-wang-c-1_3/',\n",
       " 'https://www.voguebags.cn/balenciaga-c-1_13/',\n",
       " 'https://www.voguebags.cn/bottega-veneta-c-1_4/',\n",
       " 'https://www.voguebags.cn/burberry-c-1_32/',\n",
       " 'https://www.voguebags.cn/bvlgari-c-1_18/',\n",
       " 'https://www.voguebags.cn/celine-c-1_14/',\n",
       " 'https://www.voguebags.cn/chloe-c-1_6/',\n",
       " 'https://www.voguebags.cn/christian-dior-c-1_17/',\n",
       " 'https://www.voguebags.cn/dolce-gabbana-c-1_5/',\n",
       " 'https://www.voguebags.cn/fendi-c-1_9/',\n",
       " 'https://www.voguebags.cn/givenchy-c-1_11/',\n",
       " 'https://www.voguebags.cn/goyard-c-1_91/',\n",
       " 'https://www.voguebags.cn/gucci-c-1_10/',\n",
       " 'https://www.voguebags.cn/hermes-c-1_15/',\n",
       " 'https://www.voguebags.cn/miu-miu-c-1_8/',\n",
       " 'https://www.voguebags.cn/prada-c-1_12/',\n",
       " 'https://www.voguebags.cn/saint-laurent-c-1_7/',\n",
       " 'https://www.voguebags.cn/valentino-c-1_65/',\n",
       " 'https://www.voguebags.cn/shoes-c-33/',\n",
       " 'https://www.voguebags.cn/aquazzura-c-33_35/',\n",
       " 'https://www.voguebags.cn/bottega-veneta-c-33_56/',\n",
       " 'https://www.voguebags.cn/christian-louboutin-c-33_85/',\n",
       " 'https://www.voguebags.cn/givenchy-c-33_54/',\n",
       " 'https://www.voguebags.cn/gucci-c-33_53/',\n",
       " 'https://www.voguebags.cn/jimmy-choo-c-33_78/',\n",
       " 'https://www.voguebags.cn/manolo-blahnik-c-33_57/',\n",
       " 'https://www.voguebags.cn/prada-c-33_55/',\n",
       " 'https://www.voguebags.cn/roger-vivier-c-33_79/',\n",
       " 'https://www.voguebags.cn/saint-laurent-c-33_52/',\n",
       " 'https://www.voguebags.cn/salvatore-ferragamo-c-33_63/',\n",
       " 'https://www.voguebags.cn/stuart-weitzman-c-33_64/',\n",
       " 'https://www.voguebags.cn/valentino-c-33_34/',\n",
       " 'https://www.voguebags.cn/sunglasses-c-40/',\n",
       " 'https://www.voguebags.cn/balenciaga-sunglasses-c-40_51/',\n",
       " 'https://www.voguebags.cn/bottega-veneta-c-40_41/',\n",
       " 'https://www.voguebags.cn/chloe-sunglasses-c-40_42/',\n",
       " 'https://www.voguebags.cn/dior-sunglasses-c-40_43/',\n",
       " 'https://www.voguebags.cn/dolce-gabbana-c-40_44/',\n",
       " 'https://www.voguebags.cn/fendi-sunglasses-c-40_45/',\n",
       " 'https://www.voguebags.cn/givenchy-sunglasses-c-40_46/',\n",
       " 'https://www.voguebags.cn/gucci-sunglasses-c-40_47/',\n",
       " 'https://www.voguebags.cn/miu-miu-sunglasses-c-40_48/',\n",
       " 'https://www.voguebags.cn/oliver-peoples-c-40_61/',\n",
       " 'https://www.voguebags.cn/prada-sunglasses-c-40_50/',\n",
       " 'https://www.voguebags.cn/rayban-sunglasses-c-40_49/',\n",
       " 'https://www.voguebags.cn/tom-ford-sunglasses-c-40_62/',\n",
       " 'https://www.voguebags.cn/wallets-c-19/',\n",
       " 'https://www.voguebags.cn/balenciaga-wallets-c-19_25/',\n",
       " 'https://www.voguebags.cn/bvlgari-wallets-c-19_26/',\n",
       " 'https://www.voguebags.cn/celine-wallets-c-19_27/',\n",
       " 'https://www.voguebags.cn/dior-wallets-c-19_28/',\n",
       " 'https://www.voguebags.cn/fendi-wallets-c-19_24/',\n",
       " 'https://www.voguebags.cn/givenchy-wallets-c-19_29/',\n",
       " 'https://www.voguebags.cn/gucci-wallets-c-19_21/',\n",
       " 'https://www.voguebags.cn/hermes-wallets-c-19_22/',\n",
       " 'https://www.voguebags.cn/miu-miu-wallets-c-19_30/',\n",
       " 'https://www.voguebags.cn/prada-wallets-c-19_23/',\n",
       " 'https://www.voguebags.cn/saint-laurent-wallets-c-19_31/',\n",
       " 'https://www.voguebags.cn/watches-c-80/',\n",
       " 'https://www.voguebags.cn/bvlgari-watches-c-80_90/',\n",
       " 'https://www.voguebags.cn/cartier-watches-c-80_83/',\n",
       " 'https://www.voguebags.cn/chopard-watches-c-80_87/',\n",
       " 'https://www.voguebags.cn/dior-watches-c-80_84/',\n",
       " 'https://www.voguebags.cn/fendi-watches-c-80_88/',\n",
       " 'https://www.voguebags.cn/gucci-watches-c-80_81/',\n",
       " 'https://www.voguebags.cn/hermes-watches-c-80_86/',\n",
       " 'https://www.voguebags.cn/piaget-watches-c-80_89/',\n",
       " 'https://www.voguebags.cn/scarves-c-36/',\n",
       " 'https://www.voguebags.cn/burberry-scarves-c-36_66/',\n",
       " 'https://www.voguebags.cn/givenchy-scarves-c-36_37/',\n",
       " 'https://www.voguebags.cn/gucci-scarves-c-36_38/',\n",
       " 'https://www.voguebags.cn/valentino-scarves-c-36_39/',\n",
       " 'https://www.voguebags.cn/men-c-67/',\n",
       " 'https://www.voguebags.cn/bags-c-67_72/',\n",
       " 'https://www.voguebags.cn/burberry-c-67_72_77/',\n",
       " 'https://www.voguebags.cn/fendi-c-67_72_75/',\n",
       " 'https://www.voguebags.cn/givenchy-c-67_72_74/',\n",
       " 'https://www.voguebags.cn/gucci-c-67_72_73/',\n",
       " 'https://www.voguebags.cn/prada-c-67_72_76/',\n",
       " 'https://www.voguebags.cn/shoes-c-67_68/',\n",
       " 'https://www.voguebags.cn/fendi-c-67_68_71/',\n",
       " 'https://www.voguebags.cn/gucci-c-67_68_69/',\n",
       " 'https://www.voguebags.cn/prada-c-67_68_70/',\n",
       " 'https://www.voguebags.cn/watches-c-67_58/',\n",
       " 'https://www.voguebags.cn/breitling-c-67_58_59/',\n",
       " 'https://www.voguebags.cn/rolex-c-67_58_60/',\n",
       " 'https://www.voguebags.cn/index.php?main_page=contact_us',\n",
       " 'https://www.voguebags.cn/',\n",
       " 'https://www.voguebags.cn/apparel-c-93/',\n",
       " 'https://www.voguebags.cn/handbags-c-1/',\n",
       " 'https://www.voguebags.cn/31-phillip-lim-c-1_2/',\n",
       " 'https://www.voguebags.cn/alexander-wang-c-1_3/',\n",
       " 'https://www.voguebags.cn/balenciaga-c-1_13/',\n",
       " 'https://www.voguebags.cn/bottega-veneta-c-1_4/',\n",
       " 'https://www.voguebags.cn/burberry-c-1_32/',\n",
       " 'https://www.voguebags.cn/bvlgari-c-1_18/',\n",
       " 'https://www.voguebags.cn/celine-c-1_14/',\n",
       " 'https://www.voguebags.cn/chloe-c-1_6/',\n",
       " 'https://www.voguebags.cn/christian-dior-c-1_17/',\n",
       " 'https://www.voguebags.cn/dolce-gabbana-c-1_5/',\n",
       " 'https://www.voguebags.cn/fendi-c-1_9/',\n",
       " 'https://www.voguebags.cn/givenchy-c-1_11/',\n",
       " 'https://www.voguebags.cn/goyard-c-1_91/',\n",
       " 'https://www.voguebags.cn/gucci-c-1_10/',\n",
       " 'https://www.voguebags.cn/hermes-c-1_15/',\n",
       " 'https://www.voguebags.cn/miu-miu-c-1_8/',\n",
       " 'https://www.voguebags.cn/prada-c-1_12/',\n",
       " 'https://www.voguebags.cn/saint-laurent-c-1_7/',\n",
       " 'https://www.voguebags.cn/valentino-c-1_65/',\n",
       " 'https://www.voguebags.cn/shoes-c-33/',\n",
       " 'https://www.voguebags.cn/sunglasses-c-40/',\n",
       " 'https://www.voguebags.cn/wallets-c-19/',\n",
       " 'https://www.voguebags.cn/watches-c-80/',\n",
       " 'https://www.voguebags.cn/scarves-c-36/',\n",
       " 'https://www.voguebags.cn/men-c-67/',\n",
       " 'https://www.voguebags.cn/31-phillip-lim-c-1_2/',\n",
       " 'https://www.voguebags.cn/alexander-wang-c-1_3/',\n",
       " 'https://www.voguebags.cn/balenciaga-c-1_13/',\n",
       " 'https://www.voguebags.cn/bottega-veneta-c-1_4/',\n",
       " 'https://www.voguebags.cn/burberry-c-1_32/',\n",
       " 'https://www.voguebags.cn/bvlgari-c-1_18/',\n",
       " 'https://www.voguebags.cn/celine-c-1_14/',\n",
       " 'https://www.voguebags.cn/chloe-c-1_6/',\n",
       " 'https://www.voguebags.cn/christian-dior-c-1_17/',\n",
       " 'https://www.voguebags.cn/dolce-gabbana-c-1_5/',\n",
       " 'https://www.voguebags.cn/fendi-c-1_9/',\n",
       " 'https://www.voguebags.cn/givenchy-c-1_11/',\n",
       " 'https://www.voguebags.cn/goyard-c-1_91/',\n",
       " 'https://www.voguebags.cn/gucci-c-1_10/',\n",
       " 'https://www.voguebags.cn/hermes-c-1_15/',\n",
       " 'https://www.voguebags.cn/miu-miu-c-1_8/',\n",
       " 'https://www.voguebags.cn/prada-c-1_12/',\n",
       " 'https://www.voguebags.cn/saint-laurent-c-1_7/',\n",
       " 'https://www.voguebags.cn/valentino-c-1_65/',\n",
       " 'about-us-ezp-8.html',\n",
       " 'faqs-ezp-15.html',\n",
       " 'privacy-policy-ezp-11.html',\n",
       " 'index.php?main_page=contact_us',\n",
       " 'payment-security-ezp-18.html',\n",
       " 'payment-methods-ezp-1.html',\n",
       " 'western-union-ezp-6.html',\n",
       " 'shipping-delivery-ezp-19.html',\n",
       " 'return-policy-ezp-20.html',\n",
       " 'guarantee-warranty-ezp-21.html',\n",
       " 'Wholesale-ezp-22.html',\n",
       " 'index.php?main_page=site_map',\n",
       " 'account.html',\n",
       " 'shopping_cart.html',\n",
       " 'why-buy-from-us-ezp-17.html',\n",
       " 'mailto:support@voguebags.cn',\n",
       " '#',\n",
       " '#',\n",
       " '#',\n",
       " '#',\n",
       " '#',\n",
       " 'https://www.voguebags.cn/producttags/A/',\n",
       " 'https://www.voguebags.cn/producttags/B/',\n",
       " 'https://www.voguebags.cn/producttags/C/',\n",
       " 'https://www.voguebags.cn/producttags/D/',\n",
       " 'https://www.voguebags.cn/producttags/E/',\n",
       " 'https://www.voguebags.cn/producttags/F/',\n",
       " 'https://www.voguebags.cn/producttags/G/',\n",
       " 'https://www.voguebags.cn/producttags/H/',\n",
       " 'https://www.voguebags.cn/producttags/I/',\n",
       " 'https://www.voguebags.cn/producttags/J/',\n",
       " 'https://www.voguebags.cn/producttags/K/',\n",
       " 'https://www.voguebags.cn/producttags/L/',\n",
       " 'https://www.voguebags.cn/producttags/M/',\n",
       " 'https://www.voguebags.cn/producttags/N/',\n",
       " 'https://www.voguebags.cn/producttags/O/',\n",
       " 'https://www.voguebags.cn/producttags/P/',\n",
       " 'https://www.voguebags.cn/producttags/Q/',\n",
       " 'https://www.voguebags.cn/producttags/R/',\n",
       " 'https://www.voguebags.cn/producttags/S/',\n",
       " 'https://www.voguebags.cn/producttags/T/',\n",
       " 'https://www.voguebags.cn/producttags/U/',\n",
       " 'https://www.voguebags.cn/producttags/V/',\n",
       " 'https://www.voguebags.cn/producttags/W/',\n",
       " 'https://www.voguebags.cn/producttags/X/',\n",
       " 'https://www.voguebags.cn/producttags/Y/',\n",
       " 'https://www.voguebags.cn/producttags/Z/',\n",
       " 'https://www.voguebags.cn/producttags/0-9/',\n",
       " 'https://www.voguebags.cn/']"
      ]
     },
     "execution_count": 41,
     "metadata": {},
     "output_type": "execute_result"
    }
   ],
   "source": [
    "todos_links_texto"
   ]
  },
  {
   "cell_type": "markdown",
   "metadata": {},
   "source": [
    "### Obtener el listado de links a las paginas de los diseñadores\n",
    "Esta claro que obtener todos los links de la pagina no es muy util. Si solo nos interesan los links a los diseñadores entonces tenemos que encontrar el elemento que contiene solamente estos links (podria no existir)."
   ]
  },
  {
   "cell_type": "code",
   "execution_count": 42,
   "metadata": {},
   "outputs": [],
   "source": [
    "items_menu = html.find_all(class_='categoryListBoxContents')"
   ]
  },
  {
   "cell_type": "code",
   "execution_count": 49,
   "metadata": {},
   "outputs": [
    {
     "data": {
      "text/plain": [
       "<a alt=\"3.1 Phillip Lim\" href=\"https://www.voguebags.cn/31-phillip-lim-c-1_2/\" title=\"3.1 Phillip Lim\"><span class=\"mu_category_img\"><img alt=\"3.1 Phillip Lim\" height=\"172\" src=\"images/3.1.jpg\" title=\" 3.1 Phillip Lim \" width=\"172\"/></span><span class=\"mu_category_name\">3.1 Phillip Lim</span></a>"
      ]
     },
     "execution_count": 49,
     "metadata": {},
     "output_type": "execute_result"
    }
   ],
   "source": [
    "items_menu[0].find('a')"
   ]
  },
  {
   "cell_type": "code",
   "execution_count": 58,
   "metadata": {},
   "outputs": [
    {
     "data": {
      "text/plain": [
       "'https://www.voguebags.cn/31-phillip-lim-c-1_2/'"
      ]
     },
     "execution_count": 58,
     "metadata": {},
     "output_type": "execute_result"
    }
   ],
   "source": [
    "items_menu[0].find('a')['href']"
   ]
  },
  {
   "cell_type": "code",
   "execution_count": 43,
   "metadata": {},
   "outputs": [
    {
     "data": {
      "text/plain": [
       "[<div class=\"categoryListBoxContents mu_category0\"><a alt=\"3.1 Phillip Lim\" href=\"https://www.voguebags.cn/31-phillip-lim-c-1_2/\" title=\"3.1 Phillip Lim\"><span class=\"mu_category_img\"><img alt=\"3.1 Phillip Lim\" height=\"172\" src=\"images/3.1.jpg\" title=\" 3.1 Phillip Lim \" width=\"172\"/></span><span class=\"mu_category_name\">3.1 Phillip Lim</span></a></div>,\n",
       " <div class=\"categoryListBoxContents mu_category1\"><a alt=\"Alexander Wang\" href=\"https://www.voguebags.cn/alexander-wang-c-1_3/\" title=\"Alexander Wang\"><span class=\"mu_category_img\"><img alt=\"Alexander Wang\" height=\"172\" src=\"images/alexander.jpg\" title=\" Alexander Wang \" width=\"172\"/></span><span class=\"mu_category_name\">Alexander Wang</span></a></div>,\n",
       " <div class=\"categoryListBoxContents mu_category2\"><a alt=\"Balenciaga\" href=\"https://www.voguebags.cn/balenciaga-c-1_13/\" title=\"Balenciaga\"><span class=\"mu_category_img\"><img alt=\"Balenciaga\" height=\"172\" src=\"images/balenciaga.jpg\" title=\" Balenciaga \" width=\"172\"/></span><span class=\"mu_category_name\">Balenciaga</span></a></div>,\n",
       " <div class=\"categoryListBoxContents mu_category3\"><a alt=\"Bottega Veneta\" href=\"https://www.voguebags.cn/bottega-veneta-c-1_4/\" title=\"Bottega Veneta\"><span class=\"mu_category_img\"><img alt=\"Bottega Veneta\" height=\"172\" src=\"images/BV.jpg\" title=\" Bottega Veneta \" width=\"172\"/></span><span class=\"mu_category_name\">Bottega Veneta</span></a></div>,\n",
       " <div class=\"categoryListBoxContents mu_category4\"><a alt=\"Burberry\" href=\"https://www.voguebags.cn/burberry-c-1_32/\" title=\"Burberry\"><span class=\"mu_category_img\"><img alt=\"Burberry\" height=\"172\" src=\"images/burberry.jpg\" title=\" Burberry \" width=\"172\"/></span><span class=\"mu_category_name\">Burberry</span></a></div>,\n",
       " <div class=\"categoryListBoxContents mu_category0\"><a alt=\"Bvlgari\" href=\"https://www.voguebags.cn/bvlgari-c-1_18/\" title=\"Bvlgari\"><span class=\"mu_category_img\"><img alt=\"Bvlgari\" height=\"172\" src=\"images/bvlgari.jpg\" title=\" Bvlgari \" width=\"172\"/></span><span class=\"mu_category_name\">Bvlgari</span></a></div>,\n",
       " <div class=\"categoryListBoxContents mu_category1\"><a alt=\"Celine\" href=\"https://www.voguebags.cn/celine-c-1_14/\" title=\"Celine\"><span class=\"mu_category_img\"><img alt=\"Celine\" height=\"172\" src=\"images/celine.jpg\" title=\" Celine \" width=\"172\"/></span><span class=\"mu_category_name\">Celine</span></a></div>,\n",
       " <div class=\"categoryListBoxContents mu_category2\"><a alt=\"Chloe\" href=\"https://www.voguebags.cn/chloe-c-1_6/\" title=\"Chloe\"><span class=\"mu_category_img\"><img alt=\"Chloe\" height=\"172\" src=\"images/chloe.jpg\" title=\" Chloe \" width=\"172\"/></span><span class=\"mu_category_name\">Chloe</span></a></div>,\n",
       " <div class=\"categoryListBoxContents mu_category3\"><a alt=\"Christian Dior\" href=\"https://www.voguebags.cn/christian-dior-c-1_17/\" title=\"Christian Dior\"><span class=\"mu_category_img\"><img alt=\"Christian Dior\" height=\"172\" src=\"images/Dior.jpg\" title=\" Christian Dior \" width=\"172\"/></span><span class=\"mu_category_name\">Christian Dior</span></a></div>,\n",
       " <div class=\"categoryListBoxContents mu_category4\"><a alt=\"Dolce &amp; Gabbana\" href=\"https://www.voguebags.cn/dolce-gabbana-c-1_5/\" title=\"Dolce &amp; Gabbana\"><span class=\"mu_category_img\"><img alt=\"Dolce &amp; Gabbana\" height=\"172\" src=\"images/dg.jpg\" title=\" Dolce &amp; Gabbana \" width=\"172\"/></span><span class=\"mu_category_name\">Dolce &amp; Gabbana</span></a></div>,\n",
       " <div class=\"categoryListBoxContents mu_category0\"><a alt=\"Fendi\" href=\"https://www.voguebags.cn/fendi-c-1_9/\" title=\"Fendi\"><span class=\"mu_category_img\"><img alt=\"Fendi\" height=\"172\" src=\"images/fendi.jpg\" title=\" Fendi \" width=\"172\"/></span><span class=\"mu_category_name\">Fendi</span></a></div>,\n",
       " <div class=\"categoryListBoxContents mu_category1\"><a alt=\"Givenchy\" href=\"https://www.voguebags.cn/givenchy-c-1_11/\" title=\"Givenchy\"><span class=\"mu_category_img\"><img alt=\"Givenchy\" height=\"172\" src=\"images/givenchy.jpg\" title=\" Givenchy \" width=\"172\"/></span><span class=\"mu_category_name\">Givenchy</span></a></div>,\n",
       " <div class=\"categoryListBoxContents mu_category2\"><a alt=\"Goyard\" href=\"https://www.voguebags.cn/goyard-c-1_91/\" title=\"Goyard\"><span class=\"mu_category_img\"><img alt=\"Goyard\" height=\"172\" src=\"images/goyardhd.jpg\" title=\" Goyard \" width=\"172\"/></span><span class=\"mu_category_name\">Goyard</span></a></div>,\n",
       " <div class=\"categoryListBoxContents mu_category3\"><a alt=\"Gucci\" href=\"https://www.voguebags.cn/gucci-c-1_10/\" title=\"Gucci\"><span class=\"mu_category_img\"><img alt=\"Gucci\" height=\"172\" src=\"images/gucci.jpg\" title=\" Gucci \" width=\"172\"/></span><span class=\"mu_category_name\">Gucci</span></a></div>,\n",
       " <div class=\"categoryListBoxContents mu_category4\"><a alt=\"Hermes\" href=\"https://www.voguebags.cn/hermes-c-1_15/\" title=\"Hermes\"><span class=\"mu_category_img\"><img alt=\"Hermes\" height=\"172\" src=\"images/hermes.jpg\" title=\" Hermes \" width=\"172\"/></span><span class=\"mu_category_name\">Hermes</span></a></div>,\n",
       " <div class=\"categoryListBoxContents mu_category0\"><a alt=\"Miu Miu\" href=\"https://www.voguebags.cn/miu-miu-c-1_8/\" title=\"Miu Miu\"><span class=\"mu_category_img\"><img alt=\"Miu Miu\" height=\"172\" src=\"images/miumiu.jpg\" title=\" Miu Miu \" width=\"172\"/></span><span class=\"mu_category_name\">Miu Miu</span></a></div>,\n",
       " <div class=\"categoryListBoxContents mu_category1\"><a alt=\"Prada\" href=\"https://www.voguebags.cn/prada-c-1_12/\" title=\"Prada\"><span class=\"mu_category_img\"><img alt=\"Prada\" height=\"172\" src=\"images/prada.jpg\" title=\" Prada \" width=\"172\"/></span><span class=\"mu_category_name\">Prada</span></a></div>,\n",
       " <div class=\"categoryListBoxContents mu_category2\"><a alt=\"Saint Laurent\" href=\"https://www.voguebags.cn/saint-laurent-c-1_7/\" title=\"Saint Laurent\"><span class=\"mu_category_img\"><img alt=\"Saint Laurent\" height=\"172\" src=\"images/ysl.jpg\" title=\" Saint Laurent \" width=\"172\"/></span><span class=\"mu_category_name\">Saint Laurent</span></a></div>,\n",
       " <div class=\"categoryListBoxContents mu_category3\"><a alt=\"Valentino\" href=\"https://www.voguebags.cn/valentino-c-1_65/\" title=\"Valentino\"><span class=\"mu_category_img\"><img alt=\"Valentino\" height=\"172\" src=\"images/valentino.jpg\" title=\" Valentino \" width=\"172\"/></span><span class=\"mu_category_name\">Valentino</span></a></div>]"
      ]
     },
     "execution_count": 43,
     "metadata": {},
     "output_type": "execute_result"
    }
   ],
   "source": [
    "items_menu"
   ]
  },
  {
   "cell_type": "markdown",
   "metadata": {},
   "source": [
    "Veamos a que link apunta alguno de ellos:"
   ]
  },
  {
   "cell_type": "code",
   "execution_count": 59,
   "metadata": {},
   "outputs": [
    {
     "data": {
      "text/plain": [
       "<a alt=\"Balenciaga\" href=\"https://www.voguebags.cn/balenciaga-c-1_13/\" title=\"Balenciaga\"><span class=\"mu_category_img\"><img alt=\"Balenciaga\" height=\"172\" src=\"images/balenciaga.jpg\" title=\" Balenciaga \" width=\"172\"/></span><span class=\"mu_category_name\">Balenciaga</span></a>"
      ]
     },
     "execution_count": 59,
     "metadata": {},
     "output_type": "execute_result"
    }
   ],
   "source": [
    "items_menu[2].find('a')"
   ]
  },
  {
   "cell_type": "code",
   "execution_count": 60,
   "metadata": {},
   "outputs": [
    {
     "data": {
      "text/plain": [
       "'https://www.voguebags.cn/balenciaga-c-1_13/'"
      ]
     },
     "execution_count": 60,
     "metadata": {},
     "output_type": "execute_result"
    }
   ],
   "source": [
    "items_menu[2].find('a')['href']"
   ]
  },
  {
   "cell_type": "markdown",
   "metadata": {},
   "source": [
    "Si generalizamos esto con un for-loop o con una lista comprensiva (comprehension list):"
   ]
  },
  {
   "cell_type": "code",
   "execution_count": 61,
   "metadata": {},
   "outputs": [
    {
     "data": {
      "text/plain": [
       "['https://www.voguebags.cn/31-phillip-lim-c-1_2/',\n",
       " 'https://www.voguebags.cn/alexander-wang-c-1_3/',\n",
       " 'https://www.voguebags.cn/balenciaga-c-1_13/',\n",
       " 'https://www.voguebags.cn/bottega-veneta-c-1_4/',\n",
       " 'https://www.voguebags.cn/burberry-c-1_32/',\n",
       " 'https://www.voguebags.cn/bvlgari-c-1_18/',\n",
       " 'https://www.voguebags.cn/celine-c-1_14/',\n",
       " 'https://www.voguebags.cn/chloe-c-1_6/',\n",
       " 'https://www.voguebags.cn/christian-dior-c-1_17/',\n",
       " 'https://www.voguebags.cn/dolce-gabbana-c-1_5/',\n",
       " 'https://www.voguebags.cn/fendi-c-1_9/',\n",
       " 'https://www.voguebags.cn/givenchy-c-1_11/',\n",
       " 'https://www.voguebags.cn/goyard-c-1_91/',\n",
       " 'https://www.voguebags.cn/gucci-c-1_10/',\n",
       " 'https://www.voguebags.cn/hermes-c-1_15/',\n",
       " 'https://www.voguebags.cn/miu-miu-c-1_8/',\n",
       " 'https://www.voguebags.cn/prada-c-1_12/',\n",
       " 'https://www.voguebags.cn/saint-laurent-c-1_7/',\n",
       " 'https://www.voguebags.cn/valentino-c-1_65/']"
      ]
     },
     "execution_count": 61,
     "metadata": {},
     "output_type": "execute_result"
    }
   ],
   "source": [
    "links = [item.find('a')['href'] for item in items_menu]\n",
    "links"
   ]
  },
  {
   "cell_type": "markdown",
   "metadata": {},
   "source": [
    "Otra forma de obtener lo mismo es buscando los elementos con clase 'category-products'"
   ]
  },
  {
   "cell_type": "code",
   "execution_count": 62,
   "metadata": {},
   "outputs": [],
   "source": [
    "links_diseñadores = html.find_all(class_='category-products')"
   ]
  },
  {
   "cell_type": "code",
   "execution_count": 63,
   "metadata": {},
   "outputs": [],
   "source": [
    "links_todos = [link.find('a')['href'] for link in links_diseñadores]"
   ]
  },
  {
   "cell_type": "code",
   "execution_count": 64,
   "metadata": {},
   "outputs": [
    {
     "data": {
      "text/plain": [
       "['https://www.voguebags.cn/31-phillip-lim-c-1_2/',\n",
       " 'https://www.voguebags.cn/alexander-wang-c-1_3/',\n",
       " 'https://www.voguebags.cn/balenciaga-c-1_13/',\n",
       " 'https://www.voguebags.cn/bottega-veneta-c-1_4/',\n",
       " 'https://www.voguebags.cn/burberry-c-1_32/',\n",
       " 'https://www.voguebags.cn/bvlgari-c-1_18/',\n",
       " 'https://www.voguebags.cn/celine-c-1_14/',\n",
       " 'https://www.voguebags.cn/chloe-c-1_6/',\n",
       " 'https://www.voguebags.cn/christian-dior-c-1_17/',\n",
       " 'https://www.voguebags.cn/dolce-gabbana-c-1_5/',\n",
       " 'https://www.voguebags.cn/fendi-c-1_9/',\n",
       " 'https://www.voguebags.cn/givenchy-c-1_11/',\n",
       " 'https://www.voguebags.cn/goyard-c-1_91/',\n",
       " 'https://www.voguebags.cn/gucci-c-1_10/',\n",
       " 'https://www.voguebags.cn/hermes-c-1_15/',\n",
       " 'https://www.voguebags.cn/miu-miu-c-1_8/',\n",
       " 'https://www.voguebags.cn/prada-c-1_12/',\n",
       " 'https://www.voguebags.cn/saint-laurent-c-1_7/',\n",
       " 'https://www.voguebags.cn/valentino-c-1_65/']"
      ]
     },
     "execution_count": 64,
     "metadata": {},
     "output_type": "execute_result"
    }
   ],
   "source": [
    "links_todos"
   ]
  },
  {
   "cell_type": "code",
   "execution_count": 65,
   "metadata": {},
   "outputs": [],
   "source": [
    "arte = html.find_all(class_ = 'mu_nav_ico')"
   ]
  },
  {
   "cell_type": "code",
   "execution_count": 68,
   "metadata": {},
   "outputs": [
    {
     "data": {
      "text/plain": [
       "[<a href=\"https://www.voguebags.cn/handbags-c-1/\"><span>Handbags</span></a>,\n",
       " <a href=\"https://www.voguebags.cn/31-phillip-lim-c-1_2/\">3.1 Phillip Lim</a>,\n",
       " <a href=\"https://www.voguebags.cn/alexander-wang-c-1_3/\">Alexander Wang</a>,\n",
       " <a href=\"https://www.voguebags.cn/balenciaga-c-1_13/\">Balenciaga</a>,\n",
       " <a href=\"https://www.voguebags.cn/bottega-veneta-c-1_4/\">Bottega Veneta</a>,\n",
       " <a href=\"https://www.voguebags.cn/burberry-c-1_32/\">Burberry</a>,\n",
       " <a href=\"https://www.voguebags.cn/bvlgari-c-1_18/\">Bvlgari</a>,\n",
       " <a href=\"https://www.voguebags.cn/celine-c-1_14/\">Celine</a>,\n",
       " <a href=\"https://www.voguebags.cn/chloe-c-1_6/\">Chloe</a>,\n",
       " <a href=\"https://www.voguebags.cn/christian-dior-c-1_17/\">Christian Dior</a>,\n",
       " <a href=\"https://www.voguebags.cn/dolce-gabbana-c-1_5/\">Dolce &amp; Gabbana</a>,\n",
       " <a href=\"https://www.voguebags.cn/fendi-c-1_9/\">Fendi</a>,\n",
       " <a href=\"https://www.voguebags.cn/givenchy-c-1_11/\">Givenchy</a>,\n",
       " <a href=\"https://www.voguebags.cn/goyard-c-1_91/\">Goyard</a>,\n",
       " <a href=\"https://www.voguebags.cn/gucci-c-1_10/\">Gucci</a>,\n",
       " <a href=\"https://www.voguebags.cn/hermes-c-1_15/\">Hermes</a>,\n",
       " <a href=\"https://www.voguebags.cn/miu-miu-c-1_8/\">Miu Miu</a>,\n",
       " <a href=\"https://www.voguebags.cn/prada-c-1_12/\">Prada</a>,\n",
       " <a href=\"https://www.voguebags.cn/saint-laurent-c-1_7/\">Saint Laurent</a>,\n",
       " <a href=\"https://www.voguebags.cn/valentino-c-1_65/\">Valentino</a>]"
      ]
     },
     "execution_count": 68,
     "metadata": {},
     "output_type": "execute_result"
    }
   ],
   "source": [
    "arte[2].find_all('a')"
   ]
  },
  {
   "cell_type": "markdown",
   "metadata": {},
   "source": [
    "# Ejemplo 2:\n",
    "\n",
    "**Objetivo:** obtener todas las carteras de Bottega\n",
    "\n",
    "* Determinar los links a escrapear\n",
    "* Escrapear todas las paginas de carteras\n",
    "* Juntar todos los resultados en un DataFrame\n",
    "\n",
    "## Cuantas carteras?\n",
    "Si nos metemos en la pagina de un diseñador vamos a ver que los resultados abarcan mas de una pagina"
   ]
  },
  {
   "cell_type": "code",
   "execution_count": 69,
   "metadata": {},
   "outputs": [
    {
     "data": {
      "text/plain": [
       "'https://www.voguebags.cn/bottega-veneta-c-1_4/'"
      ]
     },
     "execution_count": 69,
     "metadata": {},
     "output_type": "execute_result"
    }
   ],
   "source": [
    "links_todos[3]"
   ]
  },
  {
   "cell_type": "code",
   "execution_count": 75,
   "metadata": {},
   "outputs": [],
   "source": [
    "bottega_pagina = get(links_todos[3])\n",
    "bottega = BeautifulSoup(bottega_pagina.content)"
   ]
  },
  {
   "cell_type": "markdown",
   "metadata": {},
   "source": [
    "Y si buscamos todos los 'musheji_box' vemos que solo hay 30 por pagina."
   ]
  },
  {
   "cell_type": "code",
   "execution_count": 76,
   "metadata": {},
   "outputs": [
    {
     "data": {
      "text/plain": [
       "30"
      ]
     },
     "execution_count": 76,
     "metadata": {},
     "output_type": "execute_result"
    }
   ],
   "source": [
    "len(bottega.find_all(class_='centerBoxContentsProducts'))"
   ]
  },
  {
   "cell_type": "markdown",
   "metadata": {},
   "source": [
    "#### Buscando por *id*"
   ]
  },
  {
   "cell_type": "markdown",
   "metadata": {},
   "source": [
    "Hay un elemento de la pagina que tiene la cantidad total de carteras.  Este elemento se lo puede identificar por un `id`."
   ]
  },
  {
   "cell_type": "code",
   "execution_count": 77,
   "metadata": {},
   "outputs": [
    {
     "data": {
      "text/plain": [
       "<div class=\"navSplitPagesResult back\" id=\"productsListingTopNumber\">Displaying <strong>1</strong> to <strong>30</strong> (of <strong>212</strong> products)</div>"
      ]
     },
     "execution_count": 77,
     "metadata": {},
     "output_type": "execute_result"
    }
   ],
   "source": [
    "bottega.find(id='productsListingTopNumber')"
   ]
  },
  {
   "cell_type": "markdown",
   "metadata": {},
   "source": [
    "Y los numeros que estan dentro de este `div` estan a su vez dentro de elementos `strong`"
   ]
  },
  {
   "cell_type": "code",
   "execution_count": 78,
   "metadata": {},
   "outputs": [
    {
     "data": {
      "text/plain": [
       "[<strong>1</strong>, <strong>30</strong>, <strong>212</strong>]"
      ]
     },
     "execution_count": 78,
     "metadata": {},
     "output_type": "execute_result"
    }
   ],
   "source": [
    "bottega.find(id='productsListingTopNumber').find_all('strong')"
   ]
  },
  {
   "cell_type": "markdown",
   "metadata": {},
   "source": [
    "La cantidad de anteojos de un diseñador son el tercer elemento (indice 2). Ademas usamos `getText()` para extraer el dato"
   ]
  },
  {
   "cell_type": "code",
   "execution_count": 81,
   "metadata": {},
   "outputs": [
    {
     "data": {
      "text/plain": [
       "'212'"
      ]
     },
     "execution_count": 81,
     "metadata": {},
     "output_type": "execute_result"
    }
   ],
   "source": [
    "total = bottega.find(id='productsListingTopNumber').find_all('strong')[2].getText()\n",
    "total"
   ]
  },
  {
   "cell_type": "code",
   "execution_count": 83,
   "metadata": {},
   "outputs": [
    {
     "data": {
      "text/plain": [
       "212"
      ]
     },
     "execution_count": 83,
     "metadata": {},
     "output_type": "execute_result"
    }
   ],
   "source": [
    "int(total)"
   ]
  },
  {
   "cell_type": "code",
   "execution_count": 82,
   "metadata": {},
   "outputs": [
    {
     "data": {
      "text/plain": [
       "7.066666666666666"
      ]
     },
     "execution_count": 82,
     "metadata": {},
     "output_type": "execute_result"
    }
   ],
   "source": [
    "int(total)/30"
   ]
  },
  {
   "cell_type": "markdown",
   "metadata": {},
   "source": [
    "Hay un total de 8 paginas (hay redondear hacia arriba)"
   ]
  },
  {
   "cell_type": "code",
   "execution_count": 85,
   "metadata": {},
   "outputs": [
    {
     "data": {
      "text/plain": [
       "8"
      ]
     },
     "execution_count": 85,
     "metadata": {},
     "output_type": "execute_result"
    }
   ],
   "source": [
    "import math\n",
    "math.ceil(int(total)/30)"
   ]
  },
  {
   "cell_type": "markdown",
   "metadata": {},
   "source": [
    "### Paginas individuales\n",
    "Ahora que ya tenemos los links a las paginas individuales podemos scrappearlas.\n",
    "\n",
    "Empecemos por la primera (de manera manual, despues automatizaremos)"
   ]
  },
  {
   "cell_type": "code",
   "execution_count": 86,
   "metadata": {},
   "outputs": [
    {
     "data": {
      "text/plain": [
       "['https://www.voguebags.cn/31-phillip-lim-c-1_2/',\n",
       " 'https://www.voguebags.cn/alexander-wang-c-1_3/',\n",
       " 'https://www.voguebags.cn/balenciaga-c-1_13/',\n",
       " 'https://www.voguebags.cn/bottega-veneta-c-1_4/',\n",
       " 'https://www.voguebags.cn/burberry-c-1_32/',\n",
       " 'https://www.voguebags.cn/bvlgari-c-1_18/',\n",
       " 'https://www.voguebags.cn/celine-c-1_14/',\n",
       " 'https://www.voguebags.cn/chloe-c-1_6/',\n",
       " 'https://www.voguebags.cn/christian-dior-c-1_17/',\n",
       " 'https://www.voguebags.cn/dolce-gabbana-c-1_5/',\n",
       " 'https://www.voguebags.cn/fendi-c-1_9/',\n",
       " 'https://www.voguebags.cn/givenchy-c-1_11/',\n",
       " 'https://www.voguebags.cn/goyard-c-1_91/',\n",
       " 'https://www.voguebags.cn/gucci-c-1_10/',\n",
       " 'https://www.voguebags.cn/hermes-c-1_15/',\n",
       " 'https://www.voguebags.cn/miu-miu-c-1_8/',\n",
       " 'https://www.voguebags.cn/prada-c-1_12/',\n",
       " 'https://www.voguebags.cn/saint-laurent-c-1_7/',\n",
       " 'https://www.voguebags.cn/valentino-c-1_65/']"
      ]
     },
     "execution_count": 86,
     "metadata": {},
     "output_type": "execute_result"
    }
   ],
   "source": [
    "links"
   ]
  },
  {
   "cell_type": "markdown",
   "metadata": {},
   "source": [
    "Ejemplo:\n",
    "\n",
    "Para acceder a la 3a pagina de resultados de Bottega le sumo el texto `'?page=3&sort=20a'` al link"
   ]
  },
  {
   "cell_type": "code",
   "execution_count": 88,
   "metadata": {},
   "outputs": [
    {
     "data": {
      "text/plain": [
       "'https://www.voguebags.cn/bottega-veneta-c-1_4/?page=2&sort=20a'"
      ]
     },
     "execution_count": 88,
     "metadata": {},
     "output_type": "execute_result"
    }
   ],
   "source": [
    "links[3] + '?page=2&sort=20a'"
   ]
  },
  {
   "cell_type": "code",
   "execution_count": 89,
   "metadata": {},
   "outputs": [
    {
     "data": {
      "text/plain": [
       "'https://www.voguebags.cn/bottega-veneta-c-1_4/?page=3&sort=20a'"
      ]
     },
     "execution_count": 89,
     "metadata": {},
     "output_type": "execute_result"
    }
   ],
   "source": [
    "links[3] + '?page=3&sort=20a'"
   ]
  },
  {
   "cell_type": "code",
   "execution_count": 90,
   "metadata": {},
   "outputs": [],
   "source": [
    "pag = get(links[3]+'?page=3&sort=20a')"
   ]
  },
  {
   "cell_type": "code",
   "execution_count": 91,
   "metadata": {},
   "outputs": [],
   "source": [
    "pag = BeautifulSoup(pag.content)"
   ]
  },
  {
   "cell_type": "markdown",
   "metadata": {},
   "source": [
    "### Precios de los carteras\n",
    "Busco los elementos con clase `musheji_price`"
   ]
  },
  {
   "cell_type": "code",
   "execution_count": 92,
   "metadata": {},
   "outputs": [
    {
     "data": {
      "text/plain": [
       "[<li class=\"musheji_price\">$259.00<!-- end musheji_price--><div class=\"clear\"></div></li>,\n",
       " <li class=\"musheji_price\">$259.00<!-- end musheji_price--><div class=\"clear\"></div></li>,\n",
       " <li class=\"musheji_price\">$259.00<!-- end musheji_price--><div class=\"clear\"></div></li>,\n",
       " <li class=\"musheji_price\">$245.00<!-- end musheji_price--><div class=\"clear\"></div></li>,\n",
       " <li class=\"musheji_price\">$245.00<!-- end musheji_price--><div class=\"clear\"></div></li>,\n",
       " <li class=\"musheji_price\">$245.00<!-- end musheji_price--><div class=\"clear\"></div></li>,\n",
       " <li class=\"musheji_price\">$245.00<!-- end musheji_price--><div class=\"clear\"></div></li>,\n",
       " <li class=\"musheji_price\">$245.00<!-- end musheji_price--><div class=\"clear\"></div></li>,\n",
       " <li class=\"musheji_price\">$245.00<!-- end musheji_price--><div class=\"clear\"></div></li>,\n",
       " <li class=\"musheji_price\">$245.00<!-- end musheji_price--><div class=\"clear\"></div></li>,\n",
       " <li class=\"musheji_price\">$259.00<!-- end musheji_price--><div class=\"clear\"></div></li>,\n",
       " <li class=\"musheji_price\">$259.00<!-- end musheji_price--><div class=\"clear\"></div></li>,\n",
       " <li class=\"musheji_price\">$245.00<!-- end musheji_price--><div class=\"clear\"></div></li>,\n",
       " <li class=\"musheji_price\">$245.00<!-- end musheji_price--><div class=\"clear\"></div></li>,\n",
       " <li class=\"musheji_price\">$245.00<!-- end musheji_price--><div class=\"clear\"></div></li>,\n",
       " <li class=\"musheji_price\">$245.00<!-- end musheji_price--><div class=\"clear\"></div></li>,\n",
       " <li class=\"musheji_price\">$245.00<!-- end musheji_price--><div class=\"clear\"></div></li>,\n",
       " <li class=\"musheji_price\">$245.00<!-- end musheji_price--><div class=\"clear\"></div></li>,\n",
       " <li class=\"musheji_price\">$245.00<!-- end musheji_price--><div class=\"clear\"></div></li>,\n",
       " <li class=\"musheji_price\">$245.00<!-- end musheji_price--><div class=\"clear\"></div></li>,\n",
       " <li class=\"musheji_price\">$245.00<!-- end musheji_price--><div class=\"clear\"></div></li>,\n",
       " <li class=\"musheji_price\">$245.00<!-- end musheji_price--><div class=\"clear\"></div></li>,\n",
       " <li class=\"musheji_price\">$245.00<!-- end musheji_price--><div class=\"clear\"></div></li>,\n",
       " <li class=\"musheji_price\">$245.00<!-- end musheji_price--><div class=\"clear\"></div></li>,\n",
       " <li class=\"musheji_price\">$259.00<!-- end musheji_price--><div class=\"clear\"></div></li>,\n",
       " <li class=\"musheji_price\">$245.00<!-- end musheji_price--><div class=\"clear\"></div></li>,\n",
       " <li class=\"musheji_price\">$245.00<!-- end musheji_price--><div class=\"clear\"></div></li>,\n",
       " <li class=\"musheji_price\">$245.00<!-- end musheji_price--><div class=\"clear\"></div></li>,\n",
       " <li class=\"musheji_price\">$245.00<!-- end musheji_price--><div class=\"clear\"></div></li>,\n",
       " <li class=\"musheji_price\">$245.00<!-- end musheji_price--><div class=\"clear\"></div></li>]"
      ]
     },
     "execution_count": 92,
     "metadata": {},
     "output_type": "execute_result"
    }
   ],
   "source": [
    "precios = pag.find_all(class_='musheji_price')\n",
    "precios"
   ]
  },
  {
   "cell_type": "code",
   "execution_count": 93,
   "metadata": {},
   "outputs": [
    {
     "data": {
      "text/plain": [
       "['$259.00',\n",
       " '$259.00',\n",
       " '$259.00',\n",
       " '$245.00',\n",
       " '$245.00',\n",
       " '$245.00',\n",
       " '$245.00',\n",
       " '$245.00',\n",
       " '$245.00',\n",
       " '$245.00',\n",
       " '$259.00',\n",
       " '$259.00',\n",
       " '$245.00',\n",
       " '$245.00',\n",
       " '$245.00',\n",
       " '$245.00',\n",
       " '$245.00',\n",
       " '$245.00',\n",
       " '$245.00',\n",
       " '$245.00',\n",
       " '$245.00',\n",
       " '$245.00',\n",
       " '$245.00',\n",
       " '$245.00',\n",
       " '$259.00',\n",
       " '$245.00',\n",
       " '$245.00',\n",
       " '$245.00',\n",
       " '$245.00',\n",
       " '$245.00']"
      ]
     },
     "execution_count": 93,
     "metadata": {},
     "output_type": "execute_result"
    }
   ],
   "source": [
    "precios = [p.getText() for p in precios]\n",
    "precios"
   ]
  },
  {
   "cell_type": "code",
   "execution_count": 94,
   "metadata": {},
   "outputs": [
    {
     "data": {
      "text/plain": [
       "[<li class=\"musheji_name\"><a alt=\"Bottega Veneta Baby Olimpia Intrecciato Shoulder Bag Slate\" href=\"https://www.voguebags.cn/bottega-veneta-baby-olimpia-intrecciato-shoulder-bag-slate-p-9822.html\" title=\"Bottega Veneta Baby Olimpia Intrecciato Shoulder Bag Slate\">Bottega Veneta Baby Olimpia Intrecciato Shoulder Bag Slate</a></li>,\n",
       " <li class=\"musheji_name\"><a alt=\"Bottega Veneta Olimpia Small Shoulder Bag Black\" href=\"https://www.voguebags.cn/bottega-veneta-olimpia-small-shoulder-bag-black-p-9821.html\" title=\"Bottega Veneta Olimpia Small Shoulder Bag Black\">Bottega Veneta Olimpia Small Shoulder Bag Black</a></li>,\n",
       " <li class=\"musheji_name\"><a alt=\"Bottega Veneta Olimpia Small Shoulder Bag, Light Gray\" href=\"https://www.voguebags.cn/bottega-veneta-olimpia-small-shoulder-bag-light-gray-p-9820.html\" title=\"Bottega Veneta Olimpia Small Shoulder Bag, Light Gray\">Bottega Veneta Olimpia Small Shoulder Bag, Light Gray</a></li>,\n",
       " <li class=\"musheji_name\"><a alt=\"Bottega Veneta Olimpia Intrecciato Quilted Velvet Shoulder Bag, Black\" href=\"https://www.voguebags.cn/bottega-veneta-olimpia-intrecciato-quilted-velvet-shoulder-bag-black-p-9819.html\" title=\"Bottega Veneta Olimpia Intrecciato Quilted Velvet Shoulder Bag, Black\">Bottega Veneta Olimpia Intrecciato Quilted Velvet Shoulder Bag, Black</a></li>,\n",
       " <li class=\"musheji_name\"><a alt=\"Bottega Veneta Olimpia velvet and snakeskin shoulder bag Black\" href=\"https://www.voguebags.cn/bottega-veneta-olimpia-velvet-and-snakeskin-shoulder-bag-black-p-9818.html\" title=\"Bottega Veneta Olimpia velvet and snakeskin shoulder bag Black\">Bottega Veneta Olimpia velvet and snakeskin shoulder bag Black</a></li>,\n",
       " <li class=\"musheji_name\"><a alt=\"Bottega Veneta Olimpia quilted velvet and snakeskin shoulder bag Glicine\" href=\"https://www.voguebags.cn/bottega-veneta-olimpia-quilted-velvet-and-snakeskin-shoulder-bag-glicine-p-9817.html\" title=\"Bottega Veneta Olimpia quilted velvet and snakeskin shoulder bag Glicine\">Bottega Veneta Olimpia quilted velvet and snakeskin shoulder bag Glicine</a></li>,\n",
       " <li class=\"musheji_name\"><a alt=\"Bottega Veneta Snakeskin-trimmed velvet shoulder bag Artichoke\" href=\"https://www.voguebags.cn/bottega-veneta-snakeskintrimmed-velvet-shoulder-bag-artichoke-p-9816.html\" title=\"Bottega Veneta Snakeskin-trimmed velvet shoulder bag Artichoke\">Bottega Veneta Snakeskin-trimmed velvet shoulder bag Artichoke</a></li>,\n",
       " <li class=\"musheji_name\"><a alt=\"Bottega Veneta Intrecciato Leather Double-Zip Pillow Bag Steel\" href=\"https://www.voguebags.cn/bottega-veneta-intrecciato-leather-doublezip-pillow-bag-steel-p-9815.html\" title=\"Bottega Veneta Intrecciato Leather Double-Zip Pillow Bag Steel\">Bottega Veneta Intrecciato Leather Double-Zip Pillow Bag Steel</a></li>,\n",
       " <li class=\"musheji_name\"><a alt=\"Bottega Veneta Lambskin Messenger Bag Silver\" href=\"https://www.voguebags.cn/bottega-veneta-lambskin-messenger-bag-silver-p-9814.html\" title=\"Bottega Veneta Lambskin Messenger Bag Silver\">Bottega Veneta Lambskin Messenger Bag Silver</a></li>,\n",
       " <li class=\"musheji_name\"><a alt=\"Bottega Veneta Intrecciato Small Zip Crossbody Bag, Red\" href=\"https://www.voguebags.cn/bottega-veneta-intrecciato-small-zip-crossbody-bag-red-p-9813.html\" title=\"Bottega Veneta Intrecciato Small Zip Crossbody Bag, Red\">Bottega Veneta Intrecciato Small Zip Crossbody Bag, Red</a></li>,\n",
       " <li class=\"musheji_name\"><a alt=\"Bottega Veneta Intrecciato leather shoulder bag Purple\" href=\"https://www.voguebags.cn/bottega-veneta-intrecciato-leather-shoulder-bag-purple-p-9812.html\" title=\"Bottega Veneta Intrecciato leather shoulder bag Purple\">Bottega Veneta Intrecciato leather shoulder bag Purple</a></li>,\n",
       " <li class=\"musheji_name\"><a alt=\"Bottega Veneta Intrecciato leather shoulder bag Fume'N-Steel\" href=\"https://www.voguebags.cn/bottega-veneta-intrecciato-leather-shoulder-bag-fumensteel-p-9811.html\" title=\"Bottega Veneta Intrecciato leather shoulder bag Fume'N-Steel\">Bottega Veneta Intrecciato leather shoulder bag Fume'N-Steel</a></li>,\n",
       " <li class=\"musheji_name\"><a alt=\"Bottega Veneta Intrecciato metallic leather shoulder bag gunmetal grey\" href=\"https://www.voguebags.cn/bottega-veneta-intrecciato-metallic-leather-shoulder-bag-gunmetal-grey-p-9810.html\" title=\"Bottega Veneta Intrecciato metallic leather shoulder bag gunmetal grey\">Bottega Veneta Intrecciato metallic leather shoulder bag gunmetal grey</a></li>,\n",
       " <li class=\"musheji_name\"><a alt=\"Bottega Veneta Intrecciato metallic leather shoulder bag Gold\" href=\"https://www.voguebags.cn/bottega-veneta-intrecciato-metallic-leather-shoulder-bag-gold-p-9809.html\" title=\"Bottega Veneta Intrecciato metallic leather shoulder bag Gold\">Bottega Veneta Intrecciato metallic leather shoulder bag Gold</a></li>,\n",
       " <li class=\"musheji_name\"><a alt=\"Bottega Veneta Intrecciato Small Zip Crossbody Bag Barolo\" href=\"https://www.voguebags.cn/bottega-veneta-intrecciato-small-zip-crossbody-bag-barolo-p-9808.html\" title=\"Bottega Veneta Intrecciato Small Zip Crossbody Bag Barolo\">Bottega Veneta Intrecciato Small Zip Crossbody Bag Barolo</a></li>,\n",
       " <li class=\"musheji_name\"><a alt=\"Bottega Veneta Intrecciato Small Zip Crossbody Bag, Cobalt Blue\" href=\"https://www.voguebags.cn/bottega-veneta-intrecciato-small-zip-crossbody-bag-cobalt-blue-p-9807.html\" title=\"Bottega Veneta Intrecciato Small Zip Crossbody Bag, Cobalt Blue\">Bottega Veneta Intrecciato Small Zip Crossbody Bag, Cobalt Blue</a></li>,\n",
       " <li class=\"musheji_name\"><a alt=\"Bottega Veneta Nodini leather crossbody bag Blue\" href=\"https://www.voguebags.cn/bottega-veneta-nodini-leather-crossbody-bag-blue-p-9806.html\" title=\"Bottega Veneta Nodini leather crossbody bag Blue\">Bottega Veneta Nodini leather crossbody bag Blue</a></li>,\n",
       " <li class=\"musheji_name\"><a alt=\"\" href=\"https://www.voguebags.cn/-p-9805.html\" title=\"\"></a></li>,\n",
       " <li class=\"musheji_name\"><a alt=\"Bottega Veneta Nodini leather crossbody bag Black\" href=\"https://www.voguebags.cn/bottega-veneta-nodini-leather-crossbody-bag-black-p-9804.html\" title=\"Bottega Veneta Nodini leather crossbody bag Black\">Bottega Veneta Nodini leather crossbody bag Black</a></li>,\n",
       " <li class=\"musheji_name\"><a alt=\"Bottega Veneta Intrecciato leather shoulder bag Black\" href=\"https://www.voguebags.cn/bottega-veneta-intrecciato-leather-shoulder-bag-black-p-9803.html\" title=\"Bottega Veneta Intrecciato leather shoulder bag Black\">Bottega Veneta Intrecciato leather shoulder bag Black</a></li>,\n",
       " <li class=\"musheji_name\"><a alt=\"Bottega Veneta Intrecciato shoulder bag Black\" href=\"https://www.voguebags.cn/bottega-veneta-intrecciato-shoulder-bag-black-p-9802.html\" title=\"Bottega Veneta Intrecciato shoulder bag Black\">Bottega Veneta Intrecciato shoulder bag Black</a></li>,\n",
       " <li class=\"musheji_name\"><a alt=\"Bottega Veneta Nodini leather crossbody bag gunmetal grey\" href=\"https://www.voguebags.cn/bottega-veneta-nodini-leather-crossbody-bag-gunmetal-grey-p-9801.html\" title=\"Bottega Veneta Nodini leather crossbody bag gunmetal grey\">Bottega Veneta Nodini leather crossbody bag gunmetal grey</a></li>,\n",
       " <li class=\"musheji_name\"><a alt=\"Bottega Veneta Intrecciato leather shoulder bag Glicine\" href=\"https://www.voguebags.cn/bottega-veneta-intrecciato-leather-shoulder-bag-glicine-p-9800.html\" title=\"Bottega Veneta Intrecciato leather shoulder bag Glicine\">Bottega Veneta Intrecciato leather shoulder bag Glicine</a></li>,\n",
       " <li class=\"musheji_name\"><a alt=\"Bottega Veneta Intrecciato leather shoulder bag gunmetal grey\" href=\"https://www.voguebags.cn/bottega-veneta-intrecciato-leather-shoulder-bag-gunmetal-grey-p-9799.html\" title=\"Bottega Veneta Intrecciato leather shoulder bag gunmetal grey\">Bottega Veneta Intrecciato leather shoulder bag gunmetal grey</a></li>,\n",
       " <li class=\"musheji_name\"><a alt=\"Bottega Veneta Knot Studded Snakeskin Clutch Bag Nero &amp; Gold\" href=\"https://www.voguebags.cn/bottega-veneta-knot-studded-snakeskin-clutch-bag-nero-gold-p-9798.html\" title=\"Bottega Veneta Knot Studded Snakeskin Clutch Bag Nero &amp; Gold\">Bottega Veneta Knot Studded Snakeskin Clutch Bag Nero &amp; Gold</a></li>,\n",
       " <li class=\"musheji_name\"><a alt=\"Bottega Veneta Elongated Snake-Embossed Clutch Bag Silver\" href=\"https://www.voguebags.cn/bottega-veneta-elongated-snakeembossed-clutch-bag-silver-p-9797.html\" title=\"Bottega Veneta Elongated Snake-Embossed Clutch Bag Silver\">Bottega Veneta Elongated Snake-Embossed Clutch Bag Silver</a></li>,\n",
       " <li class=\"musheji_name\"><a alt=\"Bottega Veneta Small Stretch Knot Clutch Bag, Off White/Black\" href=\"https://www.voguebags.cn/bottega-veneta-small-stretch-knot-clutch-bag-off-whiteblack-p-9796.html\" title=\"Bottega Veneta Small Stretch Knot Clutch Bag, Off White/Black\">Bottega Veneta Small Stretch Knot Clutch Bag, Off White/Black</a></li>,\n",
       " <li class=\"musheji_name\"><a alt=\"Bottega Veneta Snakeskin-Trim Quilted-Velvet Knot Clutch Bag, Pink\" href=\"https://www.voguebags.cn/bottega-veneta-snakeskintrim-quiltedvelvet-knot-clutch-bag-pink-p-9795.html\" title=\"Bottega Veneta Snakeskin-Trim Quilted-Velvet Knot Clutch Bag, Pink\">Bottega Veneta Snakeskin-Trim Quilted-Velvet Knot Clutch Bag, Pink</a></li>,\n",
       " <li class=\"musheji_name\"><a alt=\"Bottega Veneta Knot Satin Elongated Minaudiere, Ancient Gold\" href=\"https://www.voguebags.cn/bottega-veneta-knot-satin-elongated-minaudiere-ancient-gold-p-9794.html\" title=\"Bottega Veneta Knot Satin Elongated Minaudiere, Ancient Gold\">Bottega Veneta Knot Satin Elongated Minaudiere, Ancient Gold</a></li>,\n",
       " <li class=\"musheji_name\"><a alt=\"Bottega Veneta Knot Satin Elongated Minaudiere, Bluette\" href=\"https://www.voguebags.cn/bottega-veneta-knot-satin-elongated-minaudiere-bluette-p-9793.html\" title=\"Bottega Veneta Knot Satin Elongated Minaudiere, Bluette\">Bottega Veneta Knot Satin Elongated Minaudiere, Bluette</a></li>]"
      ]
     },
     "execution_count": 94,
     "metadata": {},
     "output_type": "execute_result"
    }
   ],
   "source": [
    "carteras = pag.find_all(class_='musheji_name')\n",
    "carteras"
   ]
  },
  {
   "cell_type": "code",
   "execution_count": 96,
   "metadata": {},
   "outputs": [
    {
     "data": {
      "text/plain": [
       "['Bottega Veneta Baby Olimpia Intrecciato Shoulder Bag Slate',\n",
       " 'Bottega Veneta Olimpia Small Shoulder Bag Black',\n",
       " 'Bottega Veneta Olimpia Small Shoulder Bag, Light Gray',\n",
       " 'Bottega Veneta Olimpia Intrecciato Quilted Velvet Shoulder Bag, Black',\n",
       " 'Bottega Veneta Olimpia velvet and snakeskin shoulder bag Black',\n",
       " 'Bottega Veneta Olimpia quilted velvet and snakeskin shoulder bag Glicine',\n",
       " 'Bottega Veneta Snakeskin-trimmed velvet shoulder bag Artichoke',\n",
       " 'Bottega Veneta Intrecciato Leather Double-Zip Pillow Bag Steel',\n",
       " 'Bottega Veneta Lambskin Messenger Bag Silver',\n",
       " 'Bottega Veneta Intrecciato Small Zip Crossbody Bag, Red',\n",
       " 'Bottega Veneta Intrecciato leather shoulder bag Purple',\n",
       " \"Bottega Veneta Intrecciato leather shoulder bag Fume'N-Steel\",\n",
       " 'Bottega Veneta Intrecciato metallic leather shoulder bag gunmetal grey',\n",
       " 'Bottega Veneta Intrecciato metallic leather shoulder bag Gold',\n",
       " 'Bottega Veneta Intrecciato Small Zip Crossbody Bag Barolo',\n",
       " 'Bottega Veneta Intrecciato Small Zip Crossbody Bag, Cobalt Blue',\n",
       " 'Bottega Veneta Nodini leather crossbody bag Blue',\n",
       " '',\n",
       " 'Bottega Veneta Nodini leather crossbody bag Black',\n",
       " 'Bottega Veneta Intrecciato leather shoulder bag Black',\n",
       " 'Bottega Veneta Intrecciato shoulder bag Black',\n",
       " 'Bottega Veneta Nodini leather crossbody bag gunmetal grey',\n",
       " 'Bottega Veneta Intrecciato leather shoulder bag Glicine',\n",
       " 'Bottega Veneta Intrecciato leather shoulder bag gunmetal grey',\n",
       " 'Bottega Veneta Knot Studded Snakeskin Clutch Bag Nero & Gold',\n",
       " 'Bottega Veneta Elongated Snake-Embossed Clutch Bag Silver',\n",
       " 'Bottega Veneta Small Stretch Knot Clutch Bag, Off White/Black',\n",
       " 'Bottega Veneta Snakeskin-Trim Quilted-Velvet Knot Clutch Bag, Pink',\n",
       " 'Bottega Veneta Knot Satin Elongated Minaudiere, Ancient Gold',\n",
       " 'Bottega Veneta Knot Satin Elongated Minaudiere, Bluette']"
      ]
     },
     "execution_count": 96,
     "metadata": {},
     "output_type": "execute_result"
    }
   ],
   "source": [
    "carteras_texto = [c.getText() for c in carteras]\n",
    "carteras_texto"
   ]
  },
  {
   "cell_type": "code",
   "execution_count": 97,
   "metadata": {},
   "outputs": [
    {
     "data": {
      "text/plain": [
       "['$259.00',\n",
       " '$259.00',\n",
       " '$259.00',\n",
       " '$245.00',\n",
       " '$245.00',\n",
       " '$245.00',\n",
       " '$245.00',\n",
       " '$245.00',\n",
       " '$245.00',\n",
       " '$245.00',\n",
       " '$259.00',\n",
       " '$259.00',\n",
       " '$245.00',\n",
       " '$245.00',\n",
       " '$245.00',\n",
       " '$245.00',\n",
       " '$245.00',\n",
       " '$245.00',\n",
       " '$245.00',\n",
       " '$245.00',\n",
       " '$245.00',\n",
       " '$245.00',\n",
       " '$245.00',\n",
       " '$245.00',\n",
       " '$259.00',\n",
       " '$245.00',\n",
       " '$245.00',\n",
       " '$245.00',\n",
       " '$245.00',\n",
       " '$245.00']"
      ]
     },
     "execution_count": 97,
     "metadata": {},
     "output_type": "execute_result"
    }
   ],
   "source": [
    "precios"
   ]
  },
  {
   "cell_type": "code",
   "execution_count": 98,
   "metadata": {},
   "outputs": [],
   "source": [
    "import pandas as pd\n",
    "carteras_scrap = pd.DataFrame({'Carteras':carteras_texto, 'Precio':precios})"
   ]
  },
  {
   "cell_type": "code",
   "execution_count": 99,
   "metadata": {},
   "outputs": [
    {
     "data": {
      "text/html": [
       "<div>\n",
       "<style scoped>\n",
       "    .dataframe tbody tr th:only-of-type {\n",
       "        vertical-align: middle;\n",
       "    }\n",
       "\n",
       "    .dataframe tbody tr th {\n",
       "        vertical-align: top;\n",
       "    }\n",
       "\n",
       "    .dataframe thead th {\n",
       "        text-align: right;\n",
       "    }\n",
       "</style>\n",
       "<table border=\"1\" class=\"dataframe\">\n",
       "  <thead>\n",
       "    <tr style=\"text-align: right;\">\n",
       "      <th></th>\n",
       "      <th>Carteras</th>\n",
       "      <th>Precio</th>\n",
       "    </tr>\n",
       "  </thead>\n",
       "  <tbody>\n",
       "    <tr>\n",
       "      <th>0</th>\n",
       "      <td>Bottega Veneta Baby Olimpia Intrecciato Should...</td>\n",
       "      <td>$259.00</td>\n",
       "    </tr>\n",
       "    <tr>\n",
       "      <th>1</th>\n",
       "      <td>Bottega Veneta Olimpia Small Shoulder Bag Black</td>\n",
       "      <td>$259.00</td>\n",
       "    </tr>\n",
       "    <tr>\n",
       "      <th>2</th>\n",
       "      <td>Bottega Veneta Olimpia Small Shoulder Bag, Lig...</td>\n",
       "      <td>$259.00</td>\n",
       "    </tr>\n",
       "    <tr>\n",
       "      <th>3</th>\n",
       "      <td>Bottega Veneta Olimpia Intrecciato Quilted Vel...</td>\n",
       "      <td>$245.00</td>\n",
       "    </tr>\n",
       "    <tr>\n",
       "      <th>4</th>\n",
       "      <td>Bottega Veneta Olimpia velvet and snakeskin sh...</td>\n",
       "      <td>$245.00</td>\n",
       "    </tr>\n",
       "    <tr>\n",
       "      <th>5</th>\n",
       "      <td>Bottega Veneta Olimpia quilted velvet and snak...</td>\n",
       "      <td>$245.00</td>\n",
       "    </tr>\n",
       "    <tr>\n",
       "      <th>6</th>\n",
       "      <td>Bottega Veneta Snakeskin-trimmed velvet should...</td>\n",
       "      <td>$245.00</td>\n",
       "    </tr>\n",
       "    <tr>\n",
       "      <th>7</th>\n",
       "      <td>Bottega Veneta Intrecciato Leather Double-Zip ...</td>\n",
       "      <td>$245.00</td>\n",
       "    </tr>\n",
       "    <tr>\n",
       "      <th>8</th>\n",
       "      <td>Bottega Veneta Lambskin Messenger Bag Silver</td>\n",
       "      <td>$245.00</td>\n",
       "    </tr>\n",
       "    <tr>\n",
       "      <th>9</th>\n",
       "      <td>Bottega Veneta Intrecciato Small Zip Crossbody...</td>\n",
       "      <td>$245.00</td>\n",
       "    </tr>\n",
       "    <tr>\n",
       "      <th>10</th>\n",
       "      <td>Bottega Veneta Intrecciato leather shoulder ba...</td>\n",
       "      <td>$259.00</td>\n",
       "    </tr>\n",
       "    <tr>\n",
       "      <th>11</th>\n",
       "      <td>Bottega Veneta Intrecciato leather shoulder ba...</td>\n",
       "      <td>$259.00</td>\n",
       "    </tr>\n",
       "    <tr>\n",
       "      <th>12</th>\n",
       "      <td>Bottega Veneta Intrecciato metallic leather sh...</td>\n",
       "      <td>$245.00</td>\n",
       "    </tr>\n",
       "    <tr>\n",
       "      <th>13</th>\n",
       "      <td>Bottega Veneta Intrecciato metallic leather sh...</td>\n",
       "      <td>$245.00</td>\n",
       "    </tr>\n",
       "    <tr>\n",
       "      <th>14</th>\n",
       "      <td>Bottega Veneta Intrecciato Small Zip Crossbody...</td>\n",
       "      <td>$245.00</td>\n",
       "    </tr>\n",
       "    <tr>\n",
       "      <th>15</th>\n",
       "      <td>Bottega Veneta Intrecciato Small Zip Crossbody...</td>\n",
       "      <td>$245.00</td>\n",
       "    </tr>\n",
       "    <tr>\n",
       "      <th>16</th>\n",
       "      <td>Bottega Veneta Nodini leather crossbody bag Blue</td>\n",
       "      <td>$245.00</td>\n",
       "    </tr>\n",
       "    <tr>\n",
       "      <th>17</th>\n",
       "      <td></td>\n",
       "      <td>$245.00</td>\n",
       "    </tr>\n",
       "    <tr>\n",
       "      <th>18</th>\n",
       "      <td>Bottega Veneta Nodini leather crossbody bag Black</td>\n",
       "      <td>$245.00</td>\n",
       "    </tr>\n",
       "    <tr>\n",
       "      <th>19</th>\n",
       "      <td>Bottega Veneta Intrecciato leather shoulder ba...</td>\n",
       "      <td>$245.00</td>\n",
       "    </tr>\n",
       "    <tr>\n",
       "      <th>20</th>\n",
       "      <td>Bottega Veneta Intrecciato shoulder bag Black</td>\n",
       "      <td>$245.00</td>\n",
       "    </tr>\n",
       "    <tr>\n",
       "      <th>21</th>\n",
       "      <td>Bottega Veneta Nodini leather crossbody bag gu...</td>\n",
       "      <td>$245.00</td>\n",
       "    </tr>\n",
       "    <tr>\n",
       "      <th>22</th>\n",
       "      <td>Bottega Veneta Intrecciato leather shoulder ba...</td>\n",
       "      <td>$245.00</td>\n",
       "    </tr>\n",
       "    <tr>\n",
       "      <th>23</th>\n",
       "      <td>Bottega Veneta Intrecciato leather shoulder ba...</td>\n",
       "      <td>$245.00</td>\n",
       "    </tr>\n",
       "    <tr>\n",
       "      <th>24</th>\n",
       "      <td>Bottega Veneta Knot Studded Snakeskin Clutch B...</td>\n",
       "      <td>$259.00</td>\n",
       "    </tr>\n",
       "    <tr>\n",
       "      <th>25</th>\n",
       "      <td>Bottega Veneta Elongated Snake-Embossed Clutch...</td>\n",
       "      <td>$245.00</td>\n",
       "    </tr>\n",
       "    <tr>\n",
       "      <th>26</th>\n",
       "      <td>Bottega Veneta Small Stretch Knot Clutch Bag, ...</td>\n",
       "      <td>$245.00</td>\n",
       "    </tr>\n",
       "    <tr>\n",
       "      <th>27</th>\n",
       "      <td>Bottega Veneta Snakeskin-Trim Quilted-Velvet K...</td>\n",
       "      <td>$245.00</td>\n",
       "    </tr>\n",
       "    <tr>\n",
       "      <th>28</th>\n",
       "      <td>Bottega Veneta Knot Satin Elongated Minaudiere...</td>\n",
       "      <td>$245.00</td>\n",
       "    </tr>\n",
       "    <tr>\n",
       "      <th>29</th>\n",
       "      <td>Bottega Veneta Knot Satin Elongated Minaudiere...</td>\n",
       "      <td>$245.00</td>\n",
       "    </tr>\n",
       "  </tbody>\n",
       "</table>\n",
       "</div>"
      ],
      "text/plain": [
       "                                             Carteras   Precio\n",
       "0   Bottega Veneta Baby Olimpia Intrecciato Should...  $259.00\n",
       "1     Bottega Veneta Olimpia Small Shoulder Bag Black  $259.00\n",
       "2   Bottega Veneta Olimpia Small Shoulder Bag, Lig...  $259.00\n",
       "3   Bottega Veneta Olimpia Intrecciato Quilted Vel...  $245.00\n",
       "4   Bottega Veneta Olimpia velvet and snakeskin sh...  $245.00\n",
       "5   Bottega Veneta Olimpia quilted velvet and snak...  $245.00\n",
       "6   Bottega Veneta Snakeskin-trimmed velvet should...  $245.00\n",
       "7   Bottega Veneta Intrecciato Leather Double-Zip ...  $245.00\n",
       "8        Bottega Veneta Lambskin Messenger Bag Silver  $245.00\n",
       "9   Bottega Veneta Intrecciato Small Zip Crossbody...  $245.00\n",
       "10  Bottega Veneta Intrecciato leather shoulder ba...  $259.00\n",
       "11  Bottega Veneta Intrecciato leather shoulder ba...  $259.00\n",
       "12  Bottega Veneta Intrecciato metallic leather sh...  $245.00\n",
       "13  Bottega Veneta Intrecciato metallic leather sh...  $245.00\n",
       "14  Bottega Veneta Intrecciato Small Zip Crossbody...  $245.00\n",
       "15  Bottega Veneta Intrecciato Small Zip Crossbody...  $245.00\n",
       "16   Bottega Veneta Nodini leather crossbody bag Blue  $245.00\n",
       "17                                                     $245.00\n",
       "18  Bottega Veneta Nodini leather crossbody bag Black  $245.00\n",
       "19  Bottega Veneta Intrecciato leather shoulder ba...  $245.00\n",
       "20      Bottega Veneta Intrecciato shoulder bag Black  $245.00\n",
       "21  Bottega Veneta Nodini leather crossbody bag gu...  $245.00\n",
       "22  Bottega Veneta Intrecciato leather shoulder ba...  $245.00\n",
       "23  Bottega Veneta Intrecciato leather shoulder ba...  $245.00\n",
       "24  Bottega Veneta Knot Studded Snakeskin Clutch B...  $259.00\n",
       "25  Bottega Veneta Elongated Snake-Embossed Clutch...  $245.00\n",
       "26  Bottega Veneta Small Stretch Knot Clutch Bag, ...  $245.00\n",
       "27  Bottega Veneta Snakeskin-Trim Quilted-Velvet K...  $245.00\n",
       "28  Bottega Veneta Knot Satin Elongated Minaudiere...  $245.00\n",
       "29  Bottega Veneta Knot Satin Elongated Minaudiere...  $245.00"
      ]
     },
     "execution_count": 99,
     "metadata": {},
     "output_type": "execute_result"
    }
   ],
   "source": [
    "carteras_scrap"
   ]
  },
  {
   "cell_type": "markdown",
   "metadata": {},
   "source": [
    "## Tooooodas las de Bottega"
   ]
  },
  {
   "cell_type": "code",
   "execution_count": 100,
   "metadata": {},
   "outputs": [
    {
     "data": {
      "text/plain": [
       "'https://www.voguebags.cn/bottega-veneta-c-1_4/'"
      ]
     },
     "execution_count": 100,
     "metadata": {},
     "output_type": "execute_result"
    }
   ],
   "source": [
    "link_B = links[3]\n",
    "link_B"
   ]
  },
  {
   "cell_type": "markdown",
   "metadata": {},
   "source": [
    "Traigo la pagina"
   ]
  },
  {
   "cell_type": "code",
   "execution_count": 101,
   "metadata": {},
   "outputs": [],
   "source": [
    "pagina_0 = get(link_B)"
   ]
  },
  {
   "cell_type": "markdown",
   "metadata": {},
   "source": [
    "Parseo content"
   ]
  },
  {
   "cell_type": "code",
   "execution_count": 102,
   "metadata": {},
   "outputs": [],
   "source": [
    "pagina_0 = BeautifulSoup(pagina_0.content)"
   ]
  },
  {
   "cell_type": "markdown",
   "metadata": {},
   "source": [
    "Ahora puedo buscar elementos"
   ]
  },
  {
   "cell_type": "markdown",
   "metadata": {},
   "source": [
    "Paginas totales de resultados:\n",
    "- obtener cuantas carteras hay\n",
    "- extraer el dato\n",
    "- convertirlo a numero / 30 y redondearlo hacia arriba\n",
    "\n",
    "Resultado: cantidad de paginas a scrapear"
   ]
  },
  {
   "cell_type": "code",
   "execution_count": 103,
   "metadata": {},
   "outputs": [
    {
     "data": {
      "text/plain": [
       "'212'"
      ]
     },
     "execution_count": 103,
     "metadata": {},
     "output_type": "execute_result"
    }
   ],
   "source": [
    "carteras_totales = pagina_0.find(id='productsListingTopNumber').find_all('strong')[2].getText()\n",
    "carteras_totales"
   ]
  },
  {
   "cell_type": "code",
   "execution_count": 104,
   "metadata": {},
   "outputs": [
    {
     "data": {
      "text/plain": [
       "8"
      ]
     },
     "execution_count": 104,
     "metadata": {},
     "output_type": "execute_result"
    }
   ],
   "source": [
    "paginas_totales = math.ceil(int(carteras_totales)/30)\n",
    "paginas_totales"
   ]
  },
  {
   "cell_type": "markdown",
   "metadata": {},
   "source": [
    "Hay que scrapear 8 paginas para Bottega (`links[3]`)"
   ]
  },
  {
   "cell_type": "markdown",
   "metadata": {},
   "source": [
    "Cuales son esos links?"
   ]
  },
  {
   "cell_type": "code",
   "execution_count": 105,
   "metadata": {},
   "outputs": [
    {
     "name": "stdout",
     "output_type": "stream",
     "text": [
      "https://www.voguebags.cn/bottega-veneta-c-1_4/?page=1&sort=20a\n",
      "https://www.voguebags.cn/bottega-veneta-c-1_4/?page=2&sort=20a\n",
      "https://www.voguebags.cn/bottega-veneta-c-1_4/?page=3&sort=20a\n",
      "https://www.voguebags.cn/bottega-veneta-c-1_4/?page=4&sort=20a\n",
      "https://www.voguebags.cn/bottega-veneta-c-1_4/?page=5&sort=20a\n",
      "https://www.voguebags.cn/bottega-veneta-c-1_4/?page=6&sort=20a\n",
      "https://www.voguebags.cn/bottega-veneta-c-1_4/?page=7&sort=20a\n",
      "https://www.voguebags.cn/bottega-veneta-c-1_4/?page=8&sort=20a\n"
     ]
    }
   ],
   "source": [
    "for p in range(paginas_totales):\n",
    "    print(links[3] + '?page='+ str(p+1) +'&sort=20a')"
   ]
  },
  {
   "cell_type": "markdown",
   "metadata": {},
   "source": [
    "Para cada uno de estos hay que extraer el precio y el nombre"
   ]
  },
  {
   "cell_type": "code",
   "execution_count": 106,
   "metadata": {},
   "outputs": [],
   "source": [
    "precios_totales = []\n",
    "carteras_totales = []\n",
    "\n",
    "for p in range(paginas_totales):\n",
    "    pagina_individual = links[3] + '?page='+ str(p+1) +'&sort=20a'\n",
    "    pagina_0 = get(pagina_individual)\n",
    "    pagina_0 = BeautifulSoup(pagina_0.content)\n",
    "    \n",
    "    #Precios\n",
    "    precios = pagina_0.find_all(class_='musheji_price')\n",
    "    precios = [p.getText() for p in precios]\n",
    "    precios_totales = precios_totales + precios\n",
    "\n",
    "    #Nombres\n",
    "    carteras = pagina_0.find_all(class_='musheji_name')\n",
    "    carteras = [c.getText() for c in carteras]\n",
    "    carteras_totales = carteras_totales + carteras"
   ]
  },
  {
   "cell_type": "code",
   "execution_count": 107,
   "metadata": {},
   "outputs": [
    {
     "data": {
      "text/plain": [
       "['Bottega Veneta Medium Convertible Intrecciato Leather Tote Brown',\n",
       " 'Bottega Veneta Convertible Intrecciato Leather Tote Black',\n",
       " 'Bottega Veneta Veneta Maxi Convertible Tote Bag Light Gray',\n",
       " 'Bottega Veneta Intrecciato leather tote Bag Black',\n",
       " 'Bottega Veneta Intrecciato leather tote Denim',\n",
       " 'Bottega Veneta Medium Top Handle leather tote Blue',\n",
       " 'Bottega Veneta Medium Top Handle leather tote Purple',\n",
       " 'Bottega Veneta Intrecciato leather tote light pink',\n",
       " 'Bottega Veneta Intrecciato leather tote Bag Brunito',\n",
       " 'Bottega Veneta Intrecciato leather handbag Black',\n",
       " 'Bottega Veneta Intrecciato Large Accordion Tote Bag, Black',\n",
       " 'Bottega Veneta Intrecciato Medium Accordion Tote Bag, Light Gray',\n",
       " 'Bottega Veneta Intrecciato Medium Accordion Tote Bag, Black',\n",
       " 'Bottega Veneta Intrecciato Medium Accordion Tote Bag Blue',\n",
       " 'Bottega Veneta Intrecciato leather shopper Purple',\n",
       " 'Bottega Veneta Intrecciato leather shopper Multi',\n",
       " 'Bottega Veneta Intrecciato Medium A-Shaped Tote Bag, Red',\n",
       " 'Bottega Veneta Intrecciato Medium A-Shaped Tote Bag, Light Gray',\n",
       " 'Bottega Veneta Large Intrecciato leather tote Red',\n",
       " 'Bottega Veneta Large Double-Strap A-Shape Tote Bag, Black',\n",
       " 'Bottega Veneta Small Intrecciato Napa Tote Bag Black',\n",
       " 'Bottega Veneta A-Shape Woven Tote Bag Black',\n",
       " 'Bottega Veneta Basket-Weave Tote Dark Blue',\n",
       " 'Bottega Veneta Small Bucket leather shoulder bag Black',\n",
       " 'Bottega Veneta Intrecciato leather bucket bag Grey',\n",
       " 'Bottega Veneta Woven Intrecciato Pleated Tote Bag Gray',\n",
       " 'Bottega Veneta Intrecciato Leather Bucket Bag China Red',\n",
       " 'Bottega Veneta Small Loop Intrecciato Woven Hobo Bag Off White',\n",
       " 'Bottega Veneta Intrecciato leather tote bronze',\n",
       " 'Bottega Veneta Intrecciato leather tote Copper',\n",
       " 'Bottega Veneta Intrecciato leather tote Bag Gold',\n",
       " 'Bottega Veneta Intrecciato leather tote Gold',\n",
       " 'Bottega Veneta Loop intrecciato leather shoulder bag Dark Red',\n",
       " 'Bottega Veneta Loop intrecciato leather shoulder bag Light Blue',\n",
       " 'Bottega Veneta Intrecciato leather tote Black',\n",
       " 'Bottega Veneta Intrecciato leather tote Blue',\n",
       " 'Bottega Veneta Intrecciato leather tote bag Nero',\n",
       " 'Bottega Veneta Intrecciato leather tote Fume New',\n",
       " 'Bottega Veneta Medium Double Chain Intrecciato Tote Espresso',\n",
       " 'Bottega Veneta Intrecciato leather tote Bag Brown',\n",
       " 'Bottega Veneta Intrecciato Double Chain Tote Bag Medium Gray',\n",
       " 'Bottega Veneta Olimpia Small intrecciato leather shoulder bag Rose',\n",
       " 'Bottega Veneta Olimpia Small intrecciato leather shoulder bag Black',\n",
       " 'Bottega Veneta ntrecciato leather shoulder bag Black',\n",
       " 'Bottega Veneta Intrecciato leather shoulder bag Dark Brown',\n",
       " 'Bottega Veneta Olimpia Small leather shoulder bag  Moss New',\n",
       " 'Bottega Veneta Olimpia Small leather shoulder bag Dark Purple',\n",
       " 'Bottega Veneta Olimpia Small leather shoulder bag Blue',\n",
       " 'Bottega Veneta Olimpia Small intrecciato leather shoulder bag Brighton',\n",
       " 'Bottega Veneta Olimpia Small intrecciato leather shoulder bag Camel',\n",
       " 'Bottega Veneta Olimpia Small intrecciato leather shoulder bag cream',\n",
       " 'Bottega Veneta Small Olimpia Intrecciato Leather Chain Shoulder Bag Tan',\n",
       " 'Bottega Veneta Olimpia Baby Intrecciato Leather Crossbody Bag Pink',\n",
       " 'Bottega Veneta Olimpia Small Intrecciato Leather Shoulder Bag Red',\n",
       " 'Bottega Veneta Baby Olimpia Shoulder Bag Grey',\n",
       " 'Bottega Veneta Olimpia Small Intrecciato Shoulder Bag, Bordeaux',\n",
       " 'Bottega Veneta Intrecciato Medium Double-Chain Tote Bag Black',\n",
       " 'Bottega Veneta Intrecciato Double Chain Shoulder Bag Sage',\n",
       " 'Bottega Veneta Olimpia Medium Shoulder Bag, Black',\n",
       " 'Bottega Veneta Baby Olimpia Intrecciato Shoulder Bag, Black',\n",
       " 'Bottega Veneta Baby Olimpia Intrecciato Shoulder Bag Slate',\n",
       " 'Bottega Veneta Olimpia Small Shoulder Bag Black',\n",
       " 'Bottega Veneta Olimpia Small Shoulder Bag, Light Gray',\n",
       " 'Bottega Veneta Olimpia Intrecciato Quilted Velvet Shoulder Bag, Black',\n",
       " 'Bottega Veneta Olimpia velvet and snakeskin shoulder bag Black',\n",
       " 'Bottega Veneta Olimpia quilted velvet and snakeskin shoulder bag Glicine',\n",
       " 'Bottega Veneta Snakeskin-trimmed velvet shoulder bag Artichoke',\n",
       " 'Bottega Veneta Intrecciato Leather Double-Zip Pillow Bag Steel',\n",
       " 'Bottega Veneta Lambskin Messenger Bag Silver',\n",
       " 'Bottega Veneta Intrecciato Small Zip Crossbody Bag, Red',\n",
       " 'Bottega Veneta Intrecciato leather shoulder bag Purple',\n",
       " \"Bottega Veneta Intrecciato leather shoulder bag Fume'N-Steel\",\n",
       " 'Bottega Veneta Intrecciato metallic leather shoulder bag gunmetal grey',\n",
       " 'Bottega Veneta Intrecciato metallic leather shoulder bag Gold',\n",
       " 'Bottega Veneta Intrecciato Small Zip Crossbody Bag Barolo',\n",
       " 'Bottega Veneta Intrecciato Small Zip Crossbody Bag, Cobalt Blue',\n",
       " 'Bottega Veneta Nodini leather crossbody bag Blue',\n",
       " '',\n",
       " 'Bottega Veneta Nodini leather crossbody bag Black',\n",
       " 'Bottega Veneta Intrecciato leather shoulder bag Black',\n",
       " 'Bottega Veneta Intrecciato shoulder bag Black',\n",
       " 'Bottega Veneta Nodini leather crossbody bag gunmetal grey',\n",
       " 'Bottega Veneta Intrecciato leather shoulder bag Glicine',\n",
       " 'Bottega Veneta Intrecciato leather shoulder bag gunmetal grey',\n",
       " 'Bottega Veneta Knot Studded Snakeskin Clutch Bag Nero & Gold',\n",
       " 'Bottega Veneta Elongated Snake-Embossed Clutch Bag Silver',\n",
       " 'Bottega Veneta Small Stretch Knot Clutch Bag, Off White/Black',\n",
       " 'Bottega Veneta Snakeskin-Trim Quilted-Velvet Knot Clutch Bag, Pink',\n",
       " 'Bottega Veneta Knot Satin Elongated Minaudiere, Ancient Gold',\n",
       " 'Bottega Veneta Knot Satin Elongated Minaudiere, Bluette',\n",
       " 'Bottega Veneta Satin-Snakeskin Stretch Knot Minaudiere Bag Light Blue',\n",
       " 'Bottega Veneta Knot Satin Elongated Minaudiere Mink',\n",
       " 'Bottega Veneta Satin Elongated Knot Clutch Bag Medium Pink',\n",
       " 'Bottega Veneta Knot snakeskin-trimmed satin box clutch Pink',\n",
       " 'Bottega Veneta Satin Elongated Knot Clutch Bag, Light Gray',\n",
       " 'Bottega Veneta Stretch Knot intrecciato satin and snakeskin box clutch Black',\n",
       " 'Bottega Veneta Woven Faille Large Knot Clutch Bag Black',\n",
       " 'Bottega Veneta Knot Clutch Bag Black',\n",
       " 'Bottega Veneta Knot box clutch Medium Grey',\n",
       " 'Bottega Veneta Woven Faille Large Knot Clutch Bag, Blue',\n",
       " 'Bottega Veneta Faille Stretch Knot Minaudiere Bag, Medium Gray',\n",
       " 'Bottega Veneta Knot box clutch Desert Rose',\n",
       " 'Bottega Veneta Knot box clutch Cement',\n",
       " 'Bottega Veneta Metal Lattice Mini Knot Clutch Bag',\n",
       " 'Bottega Veneta Multi Pebbled Woven Clutch Ebano Peony',\n",
       " 'Bottega Veneta Small Knot Snakeskin Box Clutch Bag Red',\n",
       " 'Bottega Veneta Knot snakeskin-trimmed printed leather box clutch',\n",
       " 'Bottega Veneta Knot cotton and snakeskin clutch Blue',\n",
       " 'Bottega Veneta Woven Metallic Mini Knot Clutch Lotus',\n",
       " 'Bottega Veneta Crystal Knot Clutch Black',\n",
       " 'Bottega Veneta Crystal Knot Framed Clutch Bag Bronze',\n",
       " 'Bottega Veneta Crystal Knot Framed Clutch Bag, Bronze',\n",
       " 'Bottega Veneta Knot box clutch Gold',\n",
       " 'Bottega Veneta Knot box clutch Silvertone',\n",
       " 'Bottega Veneta Knot satin and snakeskin clutch Desert Rose',\n",
       " 'Bottega Veneta Woven Satin Knot Minaudiere, Pink',\n",
       " 'Bottega Veneta Medium Chain Knot Clutch Bag Black',\n",
       " 'Bottega Veneta Woven Satin Clutch Light Blue',\n",
       " 'Bottega Veneta Knot satin and snakeskin clutch Krim',\n",
       " 'Bottega Veneta Knot satin and snakeskin clutch N.L.Grey',\n",
       " 'Bottega Veneta Knot satin and snakeskin clutch Artichoke',\n",
       " 'Bottega Veneta Knot Satin Oval Minaudiere w/Snake Trim White',\n",
       " 'Bottega Veneta Woven Mini Knot Clutch Silver',\n",
       " 'Bottega Veneta Knot Satin Oval Minaudiere w/Snake Trim Gray',\n",
       " 'Bottega Veneta Woven Satin Knot Minaudiere Pink',\n",
       " 'Bottega Veneta Woven Satin Knot Minaudiere Sand',\n",
       " 'Bottega Veneta Satin Oval Minaudiere w/Snake Trim Loteo',\n",
       " 'Bottega Veneta Woven Satin Knot Minaudiere Banane Pale Yellow',\n",
       " 'Bottega Veneta Woven Satin Knot Minaudiere Royal',\n",
       " 'Bottega Veneta Woven Satin Knot Minaudiere Black',\n",
       " 'Bottega Veneta Woven Mini Knot Clutch Black',\n",
       " 'Bottega Veneta Woven Knot Clutch Bag Black',\n",
       " 'Bottega Veneta Knot Satin Oval Minaudiere Royal Blue',\n",
       " 'Bottega Veneta Woven Satin Knot Minaudiere Royal Blue',\n",
       " 'Bottega Veneta Intrecciato Brass Knot Clutch Argento-Silver',\n",
       " 'Bottega Veneta Knot Crocodile Clutch Bag Black',\n",
       " 'Bottega Veneta Watersnake Knot Box Clutch Cobalt',\n",
       " 'Bottega Veneta Leather & Brass Knot Clutch Ebano',\n",
       " 'Bottega Veneta Knot Crocodile Clutch Bag Gray',\n",
       " 'Bottega Veneta Intrecciato Snakeskin Knot Clutch Cigar',\n",
       " 'Bottega Veneta Rectangular Quilted Snake Minaudiere Pink',\n",
       " 'Bottega Veneta Knot-Clasp Jeweled Clutch Bag',\n",
       " 'Bottega Veneta Snakeskin Knot Minaudiere Tan Multi',\n",
       " 'Bottega Veneta Woven Faille Large Knot Clutch Bag Purple',\n",
       " 'Bottega Veneta Ayers-Trimmed Intrecciato Satin Knot Clutch',\n",
       " 'Bottega Veneta Woven-Chain Knot Minaudiere Gold',\n",
       " 'Bottega Veneta Woven Napa & Snakeskin Flap Bag Black',\n",
       " 'Bottega Veneta Olimpia Medium Shoulder Bag Light Gray',\n",
       " 'Bottega Veneta Olimpia Medium Intrecciato Shoulder Bag Mink',\n",
       " 'Bottega Veneta Olimpia Large Shoulder Bag Off White',\n",
       " 'Bottega Veneta Veneta Small Crossbody Bag Camel',\n",
       " 'Bottega Veneta Intrecciato Messenger Bag Navy',\n",
       " 'Bottega Veneta Intrecciato Small Zip Messenger Bag Cobalt',\n",
       " 'Bottega Veneta Small Woven Leather Pillow Bag Mint',\n",
       " 'Bottega Veneta Small Woven Leather Pillow Bag Grey',\n",
       " 'Bottega Veneta Woven Leather & Snakeskin Mini Bag',\n",
       " 'Bottega Veneta Intrecciato Mini Messenger Vesuvio',\n",
       " 'Bottega Veneta Olimpia Small Intrecciato Leather Bag Magnoli',\n",
       " 'Bottega Veneta Olimpia Intrecciato Leather Crossbody Bag',\n",
       " 'Bottega Veneta Monaco Small Intrecciato Satchel Bag Black',\n",
       " 'Bottega Veneta Monaco Snakeskin Satchel Bag Navy',\n",
       " 'Bottega Veneta Roma Leggero Small Tote Bag Gray',\n",
       " 'Bottega Veneta Roma Medium Woven Compartment Tote Bag',\n",
       " 'Bottega Veneta Small Madras Intrecciato Flap Shoulder Bag Gray',\n",
       " 'Bottega Veneta Small Madras Intrecciato Flap Shoulder Bag Black',\n",
       " 'Bottega Veneta Olimpia Large Top-Handle Bag Black',\n",
       " 'Bottega Veneta Olimpia Small Intrecciato Leather Shoulder Bag',\n",
       " 'Bottega Veneta Olimpia Medium Intrecciato Leather Shoulder Bag',\n",
       " 'Bottega Veneta Multicolor Intrecciato Leather Blue-Multi',\n",
       " 'Bottega Veneta Ayers Snakeskin Small Shoulder Bag Yellow',\n",
       " 'Bottega Veneta Olimpia Intrecciato Leather Bags Black',\n",
       " 'Bottega Veneta Olimpia Intrecciato Leather Bag Natural',\n",
       " 'Bottega Veneta Intrecciato Ayers Top-Handle Bag Pink',\n",
       " 'Bottega Veneta Intrecciato Ayers Top-Handle Bag Navy',\n",
       " 'Bottega Veneta Olimpia Tobu Ayers Shoulder Bag Black',\n",
       " 'Bottega Veneta Olimpia Tobu Ayers Shoulder Bag Natural',\n",
       " 'Bottega Veneta Olimpia Medium Napa Leather Shoulder Black',\n",
       " 'Bottega Veneta Olimpia Medium Napa Leather Shoulder Camel',\n",
       " 'Bottega Veneta Parachute Intrecciato Tote Bag Black',\n",
       " 'Bottega Veneta Woven-Side Medium Tote Bag Black',\n",
       " 'Bottega Veneta A-Shape Large Woven Tote Bag Pewter',\n",
       " 'Bottega Veneta A-Shape Medium Woven Tote Bag Dark Brown',\n",
       " 'Bottega Veneta A-Shape Large Woven Tote Bag Bronze',\n",
       " 'Bottega Veneta Cervo Large Shoulder Bag Light Gray',\n",
       " 'Bottega Veneta Medium A-Shaped Tote Bag Bronze',\n",
       " 'Bottega Veneta Intrecciato Leather Tote Bag Black',\n",
       " 'Bottega Veneta Intrecciato Double Chain Tote Bag Gray',\n",
       " 'Bottega Veneta Woven Leather Shoulder Bag Dark Brown',\n",
       " 'Bottega Veneta Olimpia Medium Shoulder Bag Charcoal',\n",
       " 'Bottega Veneta Medium Intrecciato Snakeskin Tote Bag Black/Navy',\n",
       " 'Bottega Veneta Large Woven A-Shape Tote Bag Dark Brown',\n",
       " 'Bottega Veneta Maxi Convertible Woven Tote Bag Gray',\n",
       " 'Bottega Veneta Medium Snake & Napa Tote Bag Navy',\n",
       " 'Bottega Veneta Large Snake & Napa Tote Bag Mist White',\n",
       " 'Bottega Veneta Montebello Intrecciato Medium Woven Clutch',\n",
       " 'Bottega Veneta Intrecciato Medium Woven Clutch Bag Gray',\n",
       " 'Bottega Veneta Piano Crocodile Crisscross Clutch Bag',\n",
       " 'Bottega Veneta Turn-Lock Clutch Bag Light Gray',\n",
       " 'Bottega Veneta Medium Hobo Bag Beige',\n",
       " 'Bottega Veneta Maxi Hobo Bag Ebano-Brown',\n",
       " 'Bottega Veneta Intrecciato Medium Hobo Bag Black',\n",
       " 'Bottega Veneta Intrecciato Extra-Large Hobo Bag Gray',\n",
       " 'Bottega Veneta Intrecciato Medium Hobo Bag Dark Navy',\n",
       " 'Bottega Veneta Intrecciato Large Hobo Bag Navy',\n",
       " 'Bottega Veneta Medium Sac Hobo Bag Gray',\n",
       " 'Bottega Veneta Veneta Large Sac Hobo Bag Red',\n",
       " 'Bottega Veneta Intrecciato Large Hobo Bag Gray',\n",
       " 'Bottega Veneta Large Sac Hobo Bag Cobalt',\n",
       " 'Bottega Veneta Intrecciato Large Shadow Hobo Bag Camel',\n",
       " 'Bottega Veneta Large Sac Hobo Bag Byzan',\n",
       " 'Bottega Veneta Intrecciato Large Shadow Hobo Bag Light Gray',\n",
       " 'Bottega Veneta Intrecciato Large Shadow Hobo Bag Nero']"
      ]
     },
     "execution_count": 107,
     "metadata": {},
     "output_type": "execute_result"
    }
   ],
   "source": [
    "carteras_totales"
   ]
  },
  {
   "cell_type": "code",
   "execution_count": 108,
   "metadata": {},
   "outputs": [
    {
     "data": {
      "text/plain": [
       "212"
      ]
     },
     "execution_count": 108,
     "metadata": {},
     "output_type": "execute_result"
    }
   ],
   "source": [
    "len(carteras_totales)"
   ]
  },
  {
   "cell_type": "code",
   "execution_count": 109,
   "metadata": {},
   "outputs": [
    {
     "data": {
      "text/plain": [
       "212"
      ]
     },
     "execution_count": 109,
     "metadata": {},
     "output_type": "execute_result"
    }
   ],
   "source": [
    "len(precios_totales)"
   ]
  },
  {
   "cell_type": "code",
   "execution_count": 110,
   "metadata": {},
   "outputs": [],
   "source": [
    "Bottega = pd.DataFrame({'Cartera': carteras_totales, 'Precio':precios_totales})"
   ]
  },
  {
   "cell_type": "code",
   "execution_count": 111,
   "metadata": {},
   "outputs": [
    {
     "data": {
      "text/html": [
       "<div>\n",
       "<style scoped>\n",
       "    .dataframe tbody tr th:only-of-type {\n",
       "        vertical-align: middle;\n",
       "    }\n",
       "\n",
       "    .dataframe tbody tr th {\n",
       "        vertical-align: top;\n",
       "    }\n",
       "\n",
       "    .dataframe thead th {\n",
       "        text-align: right;\n",
       "    }\n",
       "</style>\n",
       "<table border=\"1\" class=\"dataframe\">\n",
       "  <thead>\n",
       "    <tr style=\"text-align: right;\">\n",
       "      <th></th>\n",
       "      <th>Cartera</th>\n",
       "      <th>Precio</th>\n",
       "    </tr>\n",
       "  </thead>\n",
       "  <tbody>\n",
       "    <tr>\n",
       "      <th>0</th>\n",
       "      <td>Bottega Veneta Medium Convertible Intrecciato ...</td>\n",
       "      <td>$339.00</td>\n",
       "    </tr>\n",
       "    <tr>\n",
       "      <th>1</th>\n",
       "      <td>Bottega Veneta Convertible Intrecciato Leather...</td>\n",
       "      <td>$339.00</td>\n",
       "    </tr>\n",
       "    <tr>\n",
       "      <th>2</th>\n",
       "      <td>Bottega Veneta Veneta Maxi Convertible Tote Ba...</td>\n",
       "      <td>$339.00</td>\n",
       "    </tr>\n",
       "    <tr>\n",
       "      <th>3</th>\n",
       "      <td>Bottega Veneta Intrecciato leather tote Bag Black</td>\n",
       "      <td>$299.00</td>\n",
       "    </tr>\n",
       "    <tr>\n",
       "      <th>4</th>\n",
       "      <td>Bottega Veneta Intrecciato leather tote Denim</td>\n",
       "      <td>$299.00</td>\n",
       "    </tr>\n",
       "    <tr>\n",
       "      <th>5</th>\n",
       "      <td>Bottega Veneta Medium Top Handle leather tote ...</td>\n",
       "      <td>$289.00</td>\n",
       "    </tr>\n",
       "    <tr>\n",
       "      <th>6</th>\n",
       "      <td>Bottega Veneta Medium Top Handle leather tote ...</td>\n",
       "      <td>$289.00</td>\n",
       "    </tr>\n",
       "    <tr>\n",
       "      <th>7</th>\n",
       "      <td>Bottega Veneta Intrecciato leather tote light ...</td>\n",
       "      <td>$289.00</td>\n",
       "    </tr>\n",
       "    <tr>\n",
       "      <th>8</th>\n",
       "      <td>Bottega Veneta Intrecciato leather tote Bag Br...</td>\n",
       "      <td>$289.00</td>\n",
       "    </tr>\n",
       "    <tr>\n",
       "      <th>9</th>\n",
       "      <td>Bottega Veneta Intrecciato leather handbag Black</td>\n",
       "      <td>$339.00</td>\n",
       "    </tr>\n",
       "    <tr>\n",
       "      <th>10</th>\n",
       "      <td>Bottega Veneta Intrecciato Large Accordion Tot...</td>\n",
       "      <td>$339.00</td>\n",
       "    </tr>\n",
       "    <tr>\n",
       "      <th>11</th>\n",
       "      <td>Bottega Veneta Intrecciato Medium Accordion To...</td>\n",
       "      <td>$289.00</td>\n",
       "    </tr>\n",
       "    <tr>\n",
       "      <th>12</th>\n",
       "      <td>Bottega Veneta Intrecciato Medium Accordion To...</td>\n",
       "      <td>$289.00</td>\n",
       "    </tr>\n",
       "    <tr>\n",
       "      <th>13</th>\n",
       "      <td>Bottega Veneta Intrecciato Medium Accordion To...</td>\n",
       "      <td>$289.00</td>\n",
       "    </tr>\n",
       "    <tr>\n",
       "      <th>14</th>\n",
       "      <td>Bottega Veneta Intrecciato leather shopper Purple</td>\n",
       "      <td>$309.00</td>\n",
       "    </tr>\n",
       "    <tr>\n",
       "      <th>15</th>\n",
       "      <td>Bottega Veneta Intrecciato leather shopper Multi</td>\n",
       "      <td>$309.00</td>\n",
       "    </tr>\n",
       "    <tr>\n",
       "      <th>16</th>\n",
       "      <td>Bottega Veneta Intrecciato Medium A-Shaped Tot...</td>\n",
       "      <td>$309.00</td>\n",
       "    </tr>\n",
       "    <tr>\n",
       "      <th>17</th>\n",
       "      <td>Bottega Veneta Intrecciato Medium A-Shaped Tot...</td>\n",
       "      <td>$309.00</td>\n",
       "    </tr>\n",
       "    <tr>\n",
       "      <th>18</th>\n",
       "      <td>Bottega Veneta Large Intrecciato leather tote Red</td>\n",
       "      <td>$339.00</td>\n",
       "    </tr>\n",
       "    <tr>\n",
       "      <th>19</th>\n",
       "      <td>Bottega Veneta Large Double-Strap A-Shape Tote...</td>\n",
       "      <td>$339.00</td>\n",
       "    </tr>\n",
       "    <tr>\n",
       "      <th>20</th>\n",
       "      <td>Bottega Veneta Small Intrecciato Napa Tote Bag...</td>\n",
       "      <td>$289.00</td>\n",
       "    </tr>\n",
       "    <tr>\n",
       "      <th>21</th>\n",
       "      <td>Bottega Veneta A-Shape Woven Tote Bag Black</td>\n",
       "      <td>$289.00</td>\n",
       "    </tr>\n",
       "    <tr>\n",
       "      <th>22</th>\n",
       "      <td>Bottega Veneta Basket-Weave Tote Dark Blue</td>\n",
       "      <td>$245.00</td>\n",
       "    </tr>\n",
       "    <tr>\n",
       "      <th>23</th>\n",
       "      <td>Bottega Veneta Small Bucket leather shoulder b...</td>\n",
       "      <td>$339.00</td>\n",
       "    </tr>\n",
       "    <tr>\n",
       "      <th>24</th>\n",
       "      <td>Bottega Veneta Intrecciato leather bucket bag ...</td>\n",
       "      <td>$299.00</td>\n",
       "    </tr>\n",
       "    <tr>\n",
       "      <th>25</th>\n",
       "      <td>Bottega Veneta Woven Intrecciato Pleated Tote ...</td>\n",
       "      <td>$339.00</td>\n",
       "    </tr>\n",
       "    <tr>\n",
       "      <th>26</th>\n",
       "      <td>Bottega Veneta Intrecciato Leather Bucket Bag ...</td>\n",
       "      <td>$339.00</td>\n",
       "    </tr>\n",
       "    <tr>\n",
       "      <th>27</th>\n",
       "      <td>Bottega Veneta Small Loop Intrecciato Woven Ho...</td>\n",
       "      <td>$259.00</td>\n",
       "    </tr>\n",
       "    <tr>\n",
       "      <th>28</th>\n",
       "      <td>Bottega Veneta Intrecciato leather tote bronze</td>\n",
       "      <td>$299.00</td>\n",
       "    </tr>\n",
       "    <tr>\n",
       "      <th>29</th>\n",
       "      <td>Bottega Veneta Intrecciato leather tote Copper</td>\n",
       "      <td>$339.00</td>\n",
       "    </tr>\n",
       "    <tr>\n",
       "      <th>...</th>\n",
       "      <td>...</td>\n",
       "      <td>...</td>\n",
       "    </tr>\n",
       "    <tr>\n",
       "      <th>182</th>\n",
       "      <td>Bottega Veneta A-Shape Large Woven Tote Bag Br...</td>\n",
       "      <td>$289.00</td>\n",
       "    </tr>\n",
       "    <tr>\n",
       "      <th>183</th>\n",
       "      <td>Bottega Veneta Cervo Large Shoulder Bag Light ...</td>\n",
       "      <td>$245.00</td>\n",
       "    </tr>\n",
       "    <tr>\n",
       "      <th>184</th>\n",
       "      <td>Bottega Veneta Medium A-Shaped Tote Bag Bronze</td>\n",
       "      <td>$289.00</td>\n",
       "    </tr>\n",
       "    <tr>\n",
       "      <th>185</th>\n",
       "      <td>Bottega Veneta Intrecciato Leather Tote Bag Black</td>\n",
       "      <td>$289.00</td>\n",
       "    </tr>\n",
       "    <tr>\n",
       "      <th>186</th>\n",
       "      <td>Bottega Veneta Intrecciato Double Chain Tote B...</td>\n",
       "      <td>$289.00</td>\n",
       "    </tr>\n",
       "    <tr>\n",
       "      <th>187</th>\n",
       "      <td>Bottega Veneta Woven Leather Shoulder Bag Dark...</td>\n",
       "      <td>$235.00</td>\n",
       "    </tr>\n",
       "    <tr>\n",
       "      <th>188</th>\n",
       "      <td>Bottega Veneta Olimpia Medium Shoulder Bag Cha...</td>\n",
       "      <td>$255.00</td>\n",
       "    </tr>\n",
       "    <tr>\n",
       "      <th>189</th>\n",
       "      <td>Bottega Veneta Medium Intrecciato Snakeskin To...</td>\n",
       "      <td>$289.00</td>\n",
       "    </tr>\n",
       "    <tr>\n",
       "      <th>190</th>\n",
       "      <td>Bottega Veneta Large Woven A-Shape Tote Bag Da...</td>\n",
       "      <td>$289.00</td>\n",
       "    </tr>\n",
       "    <tr>\n",
       "      <th>191</th>\n",
       "      <td>Bottega Veneta Maxi Convertible Woven Tote Bag...</td>\n",
       "      <td>$289.00</td>\n",
       "    </tr>\n",
       "    <tr>\n",
       "      <th>192</th>\n",
       "      <td>Bottega Veneta Medium Snake &amp; Napa Tote Bag Navy</td>\n",
       "      <td>$235.00</td>\n",
       "    </tr>\n",
       "    <tr>\n",
       "      <th>193</th>\n",
       "      <td>Bottega Veneta Large Snake &amp; Napa Tote Bag Mis...</td>\n",
       "      <td>$235.00</td>\n",
       "    </tr>\n",
       "    <tr>\n",
       "      <th>194</th>\n",
       "      <td>Bottega Veneta Montebello Intrecciato Medium W...</td>\n",
       "      <td>$189.00</td>\n",
       "    </tr>\n",
       "    <tr>\n",
       "      <th>195</th>\n",
       "      <td>Bottega Veneta Intrecciato Medium Woven Clutch...</td>\n",
       "      <td>$189.00</td>\n",
       "    </tr>\n",
       "    <tr>\n",
       "      <th>196</th>\n",
       "      <td>Bottega Veneta Piano Crocodile Crisscross Clut...</td>\n",
       "      <td>$255.00</td>\n",
       "    </tr>\n",
       "    <tr>\n",
       "      <th>197</th>\n",
       "      <td>Bottega Veneta Turn-Lock Clutch Bag Light Gray</td>\n",
       "      <td>$189.00</td>\n",
       "    </tr>\n",
       "    <tr>\n",
       "      <th>198</th>\n",
       "      <td>Bottega Veneta Medium Hobo Bag Beige</td>\n",
       "      <td>$289.00</td>\n",
       "    </tr>\n",
       "    <tr>\n",
       "      <th>199</th>\n",
       "      <td>Bottega Veneta Maxi Hobo Bag Ebano-Brown</td>\n",
       "      <td>$289.00</td>\n",
       "    </tr>\n",
       "    <tr>\n",
       "      <th>200</th>\n",
       "      <td>Bottega Veneta Intrecciato Medium Hobo Bag Black</td>\n",
       "      <td>$255.00</td>\n",
       "    </tr>\n",
       "    <tr>\n",
       "      <th>201</th>\n",
       "      <td>Bottega Veneta Intrecciato Extra-Large Hobo Ba...</td>\n",
       "      <td>$289.00</td>\n",
       "    </tr>\n",
       "    <tr>\n",
       "      <th>202</th>\n",
       "      <td>Bottega Veneta Intrecciato Medium Hobo Bag Dar...</td>\n",
       "      <td>$255.00</td>\n",
       "    </tr>\n",
       "    <tr>\n",
       "      <th>203</th>\n",
       "      <td>Bottega Veneta Intrecciato Large Hobo Bag Navy</td>\n",
       "      <td>$289.00</td>\n",
       "    </tr>\n",
       "    <tr>\n",
       "      <th>204</th>\n",
       "      <td>Bottega Veneta Medium Sac Hobo Bag Gray</td>\n",
       "      <td>$255.00</td>\n",
       "    </tr>\n",
       "    <tr>\n",
       "      <th>205</th>\n",
       "      <td>Bottega Veneta Veneta Large Sac Hobo Bag Red</td>\n",
       "      <td>$289.00</td>\n",
       "    </tr>\n",
       "    <tr>\n",
       "      <th>206</th>\n",
       "      <td>Bottega Veneta Intrecciato Large Hobo Bag Gray</td>\n",
       "      <td>$289.00</td>\n",
       "    </tr>\n",
       "    <tr>\n",
       "      <th>207</th>\n",
       "      <td>Bottega Veneta Large Sac Hobo Bag Cobalt</td>\n",
       "      <td>$289.00</td>\n",
       "    </tr>\n",
       "    <tr>\n",
       "      <th>208</th>\n",
       "      <td>Bottega Veneta Intrecciato Large Shadow Hobo B...</td>\n",
       "      <td>$289.00</td>\n",
       "    </tr>\n",
       "    <tr>\n",
       "      <th>209</th>\n",
       "      <td>Bottega Veneta Large Sac Hobo Bag Byzan</td>\n",
       "      <td>$245.00</td>\n",
       "    </tr>\n",
       "    <tr>\n",
       "      <th>210</th>\n",
       "      <td>Bottega Veneta Intrecciato Large Shadow Hobo B...</td>\n",
       "      <td>$245.00</td>\n",
       "    </tr>\n",
       "    <tr>\n",
       "      <th>211</th>\n",
       "      <td>Bottega Veneta Intrecciato Large Shadow Hobo B...</td>\n",
       "      <td>$245.00</td>\n",
       "    </tr>\n",
       "  </tbody>\n",
       "</table>\n",
       "<p>212 rows × 2 columns</p>\n",
       "</div>"
      ],
      "text/plain": [
       "                                               Cartera   Precio\n",
       "0    Bottega Veneta Medium Convertible Intrecciato ...  $339.00\n",
       "1    Bottega Veneta Convertible Intrecciato Leather...  $339.00\n",
       "2    Bottega Veneta Veneta Maxi Convertible Tote Ba...  $339.00\n",
       "3    Bottega Veneta Intrecciato leather tote Bag Black  $299.00\n",
       "4        Bottega Veneta Intrecciato leather tote Denim  $299.00\n",
       "5    Bottega Veneta Medium Top Handle leather tote ...  $289.00\n",
       "6    Bottega Veneta Medium Top Handle leather tote ...  $289.00\n",
       "7    Bottega Veneta Intrecciato leather tote light ...  $289.00\n",
       "8    Bottega Veneta Intrecciato leather tote Bag Br...  $289.00\n",
       "9     Bottega Veneta Intrecciato leather handbag Black  $339.00\n",
       "10   Bottega Veneta Intrecciato Large Accordion Tot...  $339.00\n",
       "11   Bottega Veneta Intrecciato Medium Accordion To...  $289.00\n",
       "12   Bottega Veneta Intrecciato Medium Accordion To...  $289.00\n",
       "13   Bottega Veneta Intrecciato Medium Accordion To...  $289.00\n",
       "14   Bottega Veneta Intrecciato leather shopper Purple  $309.00\n",
       "15    Bottega Veneta Intrecciato leather shopper Multi  $309.00\n",
       "16   Bottega Veneta Intrecciato Medium A-Shaped Tot...  $309.00\n",
       "17   Bottega Veneta Intrecciato Medium A-Shaped Tot...  $309.00\n",
       "18   Bottega Veneta Large Intrecciato leather tote Red  $339.00\n",
       "19   Bottega Veneta Large Double-Strap A-Shape Tote...  $339.00\n",
       "20   Bottega Veneta Small Intrecciato Napa Tote Bag...  $289.00\n",
       "21         Bottega Veneta A-Shape Woven Tote Bag Black  $289.00\n",
       "22          Bottega Veneta Basket-Weave Tote Dark Blue  $245.00\n",
       "23   Bottega Veneta Small Bucket leather shoulder b...  $339.00\n",
       "24   Bottega Veneta Intrecciato leather bucket bag ...  $299.00\n",
       "25   Bottega Veneta Woven Intrecciato Pleated Tote ...  $339.00\n",
       "26   Bottega Veneta Intrecciato Leather Bucket Bag ...  $339.00\n",
       "27   Bottega Veneta Small Loop Intrecciato Woven Ho...  $259.00\n",
       "28      Bottega Veneta Intrecciato leather tote bronze  $299.00\n",
       "29      Bottega Veneta Intrecciato leather tote Copper  $339.00\n",
       "..                                                 ...      ...\n",
       "182  Bottega Veneta A-Shape Large Woven Tote Bag Br...  $289.00\n",
       "183  Bottega Veneta Cervo Large Shoulder Bag Light ...  $245.00\n",
       "184     Bottega Veneta Medium A-Shaped Tote Bag Bronze  $289.00\n",
       "185  Bottega Veneta Intrecciato Leather Tote Bag Black  $289.00\n",
       "186  Bottega Veneta Intrecciato Double Chain Tote B...  $289.00\n",
       "187  Bottega Veneta Woven Leather Shoulder Bag Dark...  $235.00\n",
       "188  Bottega Veneta Olimpia Medium Shoulder Bag Cha...  $255.00\n",
       "189  Bottega Veneta Medium Intrecciato Snakeskin To...  $289.00\n",
       "190  Bottega Veneta Large Woven A-Shape Tote Bag Da...  $289.00\n",
       "191  Bottega Veneta Maxi Convertible Woven Tote Bag...  $289.00\n",
       "192   Bottega Veneta Medium Snake & Napa Tote Bag Navy  $235.00\n",
       "193  Bottega Veneta Large Snake & Napa Tote Bag Mis...  $235.00\n",
       "194  Bottega Veneta Montebello Intrecciato Medium W...  $189.00\n",
       "195  Bottega Veneta Intrecciato Medium Woven Clutch...  $189.00\n",
       "196  Bottega Veneta Piano Crocodile Crisscross Clut...  $255.00\n",
       "197     Bottega Veneta Turn-Lock Clutch Bag Light Gray  $189.00\n",
       "198               Bottega Veneta Medium Hobo Bag Beige  $289.00\n",
       "199           Bottega Veneta Maxi Hobo Bag Ebano-Brown  $289.00\n",
       "200   Bottega Veneta Intrecciato Medium Hobo Bag Black  $255.00\n",
       "201  Bottega Veneta Intrecciato Extra-Large Hobo Ba...  $289.00\n",
       "202  Bottega Veneta Intrecciato Medium Hobo Bag Dar...  $255.00\n",
       "203     Bottega Veneta Intrecciato Large Hobo Bag Navy  $289.00\n",
       "204            Bottega Veneta Medium Sac Hobo Bag Gray  $255.00\n",
       "205       Bottega Veneta Veneta Large Sac Hobo Bag Red  $289.00\n",
       "206     Bottega Veneta Intrecciato Large Hobo Bag Gray  $289.00\n",
       "207           Bottega Veneta Large Sac Hobo Bag Cobalt  $289.00\n",
       "208  Bottega Veneta Intrecciato Large Shadow Hobo B...  $289.00\n",
       "209            Bottega Veneta Large Sac Hobo Bag Byzan  $245.00\n",
       "210  Bottega Veneta Intrecciato Large Shadow Hobo B...  $245.00\n",
       "211  Bottega Veneta Intrecciato Large Shadow Hobo B...  $245.00\n",
       "\n",
       "[212 rows x 2 columns]"
      ]
     },
     "execution_count": 111,
     "metadata": {},
     "output_type": "execute_result"
    }
   ],
   "source": [
    "Bottega"
   ]
  },
  {
   "cell_type": "code",
   "execution_count": 112,
   "metadata": {},
   "outputs": [
    {
     "name": "stdout",
     "output_type": "stream",
     "text": [
      "<class 'pandas.core.frame.DataFrame'>\n",
      "RangeIndex: 212 entries, 0 to 211\n",
      "Data columns (total 2 columns):\n",
      "Cartera    212 non-null object\n",
      "Precio     212 non-null object\n",
      "dtypes: object(2)\n",
      "memory usage: 3.4+ KB\n"
     ]
    }
   ],
   "source": [
    "Bottega.info()"
   ]
  },
  {
   "cell_type": "markdown",
   "metadata": {},
   "source": [
    "Elimino el signo $ para luego pasarlo a numerico"
   ]
  },
  {
   "cell_type": "code",
   "execution_count": 113,
   "metadata": {},
   "outputs": [],
   "source": [
    "Bottega['Precio'] = Bottega['Precio'].str.replace('$','')"
   ]
  },
  {
   "cell_type": "code",
   "execution_count": 114,
   "metadata": {},
   "outputs": [],
   "source": [
    "Bottega['Precio'] = pd.to_numeric(Bottega.Precio)"
   ]
  },
  {
   "cell_type": "code",
   "execution_count": 115,
   "metadata": {},
   "outputs": [
    {
     "name": "stdout",
     "output_type": "stream",
     "text": [
      "<class 'pandas.core.frame.DataFrame'>\n",
      "RangeIndex: 212 entries, 0 to 211\n",
      "Data columns (total 2 columns):\n",
      "Cartera    212 non-null object\n",
      "Precio     212 non-null float64\n",
      "dtypes: float64(1), object(1)\n",
      "memory usage: 3.4+ KB\n"
     ]
    }
   ],
   "source": [
    "Bottega.info()"
   ]
  },
  {
   "cell_type": "code",
   "execution_count": 116,
   "metadata": {},
   "outputs": [
    {
     "data": {
      "text/plain": [
       "268.58490566037733"
      ]
     },
     "execution_count": 116,
     "metadata": {},
     "output_type": "execute_result"
    }
   ],
   "source": [
    "Bottega.Precio.mean()"
   ]
  },
  {
   "cell_type": "code",
   "execution_count": 117,
   "metadata": {},
   "outputs": [
    {
     "data": {
      "text/plain": [
       "339.0"
      ]
     },
     "execution_count": 117,
     "metadata": {},
     "output_type": "execute_result"
    }
   ],
   "source": [
    "Bottega.Precio.max()"
   ]
  },
  {
   "cell_type": "code",
   "execution_count": 118,
   "metadata": {},
   "outputs": [
    {
     "data": {
      "text/plain": [
       "189.0"
      ]
     },
     "execution_count": 118,
     "metadata": {},
     "output_type": "execute_result"
    }
   ],
   "source": [
    "Bottega.Precio.min()"
   ]
  },
  {
   "cell_type": "code",
   "execution_count": 119,
   "metadata": {},
   "outputs": [
    {
     "data": {
      "text/html": [
       "<div>\n",
       "<style scoped>\n",
       "    .dataframe tbody tr th:only-of-type {\n",
       "        vertical-align: middle;\n",
       "    }\n",
       "\n",
       "    .dataframe tbody tr th {\n",
       "        vertical-align: top;\n",
       "    }\n",
       "\n",
       "    .dataframe thead th {\n",
       "        text-align: right;\n",
       "    }\n",
       "</style>\n",
       "<table border=\"1\" class=\"dataframe\">\n",
       "  <thead>\n",
       "    <tr style=\"text-align: right;\">\n",
       "      <th></th>\n",
       "      <th>Precio</th>\n",
       "    </tr>\n",
       "  </thead>\n",
       "  <tbody>\n",
       "    <tr>\n",
       "      <th>count</th>\n",
       "      <td>212.000000</td>\n",
       "    </tr>\n",
       "    <tr>\n",
       "      <th>mean</th>\n",
       "      <td>268.584906</td>\n",
       "    </tr>\n",
       "    <tr>\n",
       "      <th>std</th>\n",
       "      <td>27.994200</td>\n",
       "    </tr>\n",
       "    <tr>\n",
       "      <th>min</th>\n",
       "      <td>189.000000</td>\n",
       "    </tr>\n",
       "    <tr>\n",
       "      <th>25%</th>\n",
       "      <td>245.000000</td>\n",
       "    </tr>\n",
       "    <tr>\n",
       "      <th>50%</th>\n",
       "      <td>259.000000</td>\n",
       "    </tr>\n",
       "    <tr>\n",
       "      <th>75%</th>\n",
       "      <td>289.000000</td>\n",
       "    </tr>\n",
       "    <tr>\n",
       "      <th>max</th>\n",
       "      <td>339.000000</td>\n",
       "    </tr>\n",
       "  </tbody>\n",
       "</table>\n",
       "</div>"
      ],
      "text/plain": [
       "           Precio\n",
       "count  212.000000\n",
       "mean   268.584906\n",
       "std     27.994200\n",
       "min    189.000000\n",
       "25%    245.000000\n",
       "50%    259.000000\n",
       "75%    289.000000\n",
       "max    339.000000"
      ]
     },
     "execution_count": 119,
     "metadata": {},
     "output_type": "execute_result"
    }
   ],
   "source": [
    "Bottega.describe()"
   ]
  },
  {
   "cell_type": "code",
   "execution_count": 134,
   "metadata": {},
   "outputs": [
    {
     "name": "stdout",
     "output_type": "stream",
     "text": [
      "https://www.voguebags.cn/31-phillip-lim-c-1_2/\n",
      "https://www.voguebags.cn/alexander-wang-c-1_3/\n",
      "https://www.voguebags.cn/balenciaga-c-1_13/\n",
      "https://www.voguebags.cn/bottega-veneta-c-1_4/\n",
      "https://www.voguebags.cn/burberry-c-1_32/\n",
      "https://www.voguebags.cn/bvlgari-c-1_18/\n",
      "https://www.voguebags.cn/celine-c-1_14/\n",
      "https://www.voguebags.cn/chloe-c-1_6/\n",
      "https://www.voguebags.cn/christian-dior-c-1_17/\n",
      "https://www.voguebags.cn/dolce-gabbana-c-1_5/\n",
      "https://www.voguebags.cn/fendi-c-1_9/\n",
      "https://www.voguebags.cn/givenchy-c-1_11/\n",
      "https://www.voguebags.cn/goyard-c-1_91/\n",
      "https://www.voguebags.cn/gucci-c-1_10/\n",
      "https://www.voguebags.cn/hermes-c-1_15/\n",
      "https://www.voguebags.cn/miu-miu-c-1_8/\n",
      "https://www.voguebags.cn/prada-c-1_12/\n",
      "https://www.voguebags.cn/saint-laurent-c-1_7/\n",
      "https://www.voguebags.cn/valentino-c-1_65/\n"
     ]
    }
   ],
   "source": [
    "for url in links:\n",
    "    print(url)"
   ]
  },
  {
   "cell_type": "code",
   "execution_count": 130,
   "metadata": {},
   "outputs": [],
   "source": [
    "url = links[1]\n",
    "pagina_0 = get(url)\n",
    "pagina_0 = BeautifulSoup(pagina_0.content)\n",
    "carteras_totales = pagina_0.find(id='productsListingTopNumber').find_all('strong')[2].getText()\n",
    "paginas_totales = math.ceil(int(carteras_totales)/30)\n",
    "\n",
    "precios_totales = []\n",
    "carteras_totales = []\n",
    "\n",
    "for p in range(paginas_totales):\n",
    "    pagina_individual = url + '?page='+ str(p+1) +'&sort=20a'\n",
    "    pagina_0 = get(pagina_individual)\n",
    "    pagina_0 = BeautifulSoup(pagina_0.content)\n",
    "    \n",
    "    #Precios\n",
    "    precios = pagina_0.find_all(class_='musheji_price')\n",
    "    precios = [p.getText() for p in precios]\n",
    "    precios_totales = precios_totales + precios\n",
    "\n",
    "    #Nombres\n",
    "    carteras = pagina_0.find_all(class_='musheji_name')\n",
    "    carteras = [c.getText() for c in carteras]\n",
    "    carteras_totales = carteras_totales + carteras\n",
    "\n",
    "Nuevo_scrap = pd.DataFrame({'Cartera': carteras_totales, 'Precio':precios_totales})"
   ]
  },
  {
   "cell_type": "code",
   "execution_count": 131,
   "metadata": {},
   "outputs": [],
   "source": [
    "Nuevo_scrap['Precio'] = Nuevo_scrap['Precio'].str.replace('$','')\n",
    "Nuevo_scrap['Precio'] = pd.to_numeric(Nuevo_scrap['Precio'])"
   ]
  },
  {
   "cell_type": "code",
   "execution_count": 133,
   "metadata": {},
   "outputs": [
    {
     "data": {
      "text/html": [
       "<div>\n",
       "<style scoped>\n",
       "    .dataframe tbody tr th:only-of-type {\n",
       "        vertical-align: middle;\n",
       "    }\n",
       "\n",
       "    .dataframe tbody tr th {\n",
       "        vertical-align: top;\n",
       "    }\n",
       "\n",
       "    .dataframe thead th {\n",
       "        text-align: right;\n",
       "    }\n",
       "</style>\n",
       "<table border=\"1\" class=\"dataframe\">\n",
       "  <thead>\n",
       "    <tr style=\"text-align: right;\">\n",
       "      <th></th>\n",
       "      <th>Cartera</th>\n",
       "      <th>Precio</th>\n",
       "    </tr>\n",
       "  </thead>\n",
       "  <tbody>\n",
       "    <tr>\n",
       "      <th>0</th>\n",
       "      <td>Alexander Wang Rockie Mini Pebbled Leather Sho...</td>\n",
       "      <td>250.0</td>\n",
       "    </tr>\n",
       "    <tr>\n",
       "      <th>1</th>\n",
       "      <td>Alexander Wang Studded Nylon-Trimmed Leather D...</td>\n",
       "      <td>250.0</td>\n",
       "    </tr>\n",
       "    <tr>\n",
       "      <th>2</th>\n",
       "      <td>Alexander Wang Rockie Mini Pebbled Leather Duf...</td>\n",
       "      <td>250.0</td>\n",
       "    </tr>\n",
       "    <tr>\n",
       "      <th>3</th>\n",
       "      <td>Alexander Wang Rockie Mini Pebbled Leather Duf...</td>\n",
       "      <td>250.0</td>\n",
       "    </tr>\n",
       "    <tr>\n",
       "      <th>4</th>\n",
       "      <td>Alexander Wang Rockie Mini Pebbled Leather Duf...</td>\n",
       "      <td>250.0</td>\n",
       "    </tr>\n",
       "    <tr>\n",
       "      <th>5</th>\n",
       "      <td>Alexander Wang Rockie Pebbled Leather Duffel Bag</td>\n",
       "      <td>250.0</td>\n",
       "    </tr>\n",
       "    <tr>\n",
       "      <th>6</th>\n",
       "      <td>Alexander Wang Rocco Pebbled Leather Duffel Bag</td>\n",
       "      <td>250.0</td>\n",
       "    </tr>\n",
       "    <tr>\n",
       "      <th>7</th>\n",
       "      <td>Alexander Wang Rockie Leather Duffel Bag</td>\n",
       "      <td>250.0</td>\n",
       "    </tr>\n",
       "    <tr>\n",
       "      <th>8</th>\n",
       "      <td>Alexander Wang Rocco Metallic Pebbled Leather ...</td>\n",
       "      <td>250.0</td>\n",
       "    </tr>\n",
       "    <tr>\n",
       "      <th>9</th>\n",
       "      <td>Alexander Wang Rocco Lambskin Satchel</td>\n",
       "      <td>250.0</td>\n",
       "    </tr>\n",
       "    <tr>\n",
       "      <th>10</th>\n",
       "      <td>Alexander Wang Prisma Studded Leather Tote</td>\n",
       "      <td>245.0</td>\n",
       "    </tr>\n",
       "    <tr>\n",
       "      <th>11</th>\n",
       "      <td>Alexander Wang Emile Mini Studded Leather Satchel</td>\n",
       "      <td>255.0</td>\n",
       "    </tr>\n",
       "    <tr>\n",
       "      <th>12</th>\n",
       "      <td>Alexander Wang Emile Mini Studded Nylon &amp; Leat...</td>\n",
       "      <td>255.0</td>\n",
       "    </tr>\n",
       "    <tr>\n",
       "      <th>13</th>\n",
       "      <td>Alexander Wang Emile Mini Leather Satchel Blush</td>\n",
       "      <td>255.0</td>\n",
       "    </tr>\n",
       "    <tr>\n",
       "      <th>14</th>\n",
       "      <td>Alexander Wang Emile Mini Leather Satchel</td>\n",
       "      <td>255.0</td>\n",
       "    </tr>\n",
       "    <tr>\n",
       "      <th>15</th>\n",
       "      <td>Alexander Wang Emile Small Ribbed Leather Tote</td>\n",
       "      <td>255.0</td>\n",
       "    </tr>\n",
       "    <tr>\n",
       "      <th>16</th>\n",
       "      <td>Alexander Wang Prisma Skeletal Leather Shoulde...</td>\n",
       "      <td>245.0</td>\n",
       "    </tr>\n",
       "    <tr>\n",
       "      <th>17</th>\n",
       "      <td>Alexander Wang Dumbo Studded Pebbled Leather B...</td>\n",
       "      <td>265.0</td>\n",
       "    </tr>\n",
       "    <tr>\n",
       "      <th>18</th>\n",
       "      <td>Alexander Wang Runway Stud Quilted Nylon &amp; Lea...</td>\n",
       "      <td>265.0</td>\n",
       "    </tr>\n",
       "    <tr>\n",
       "      <th>19</th>\n",
       "      <td>Alexander Wang Prisma Two-Tone Leather Backpack</td>\n",
       "      <td>265.0</td>\n",
       "    </tr>\n",
       "    <tr>\n",
       "      <th>20</th>\n",
       "      <td>Alexander Wang Prisma Woven Leather Backpack</td>\n",
       "      <td>265.0</td>\n",
       "    </tr>\n",
       "    <tr>\n",
       "      <th>21</th>\n",
       "      <td>Alexander Wang Prisma Skeletal Two-Tone Leathe...</td>\n",
       "      <td>265.0</td>\n",
       "    </tr>\n",
       "    <tr>\n",
       "      <th>22</th>\n",
       "      <td>Alexander Wang Prisma Skeletal Studded Leather...</td>\n",
       "      <td>265.0</td>\n",
       "    </tr>\n",
       "    <tr>\n",
       "      <th>23</th>\n",
       "      <td>Alexander Wang Prisma Skeletal Leather Backpac...</td>\n",
       "      <td>265.0</td>\n",
       "    </tr>\n",
       "    <tr>\n",
       "      <th>24</th>\n",
       "      <td>Alexander Wang Prisma Skeletal Leather Backpac...</td>\n",
       "      <td>265.0</td>\n",
       "    </tr>\n",
       "    <tr>\n",
       "      <th>25</th>\n",
       "      <td>Alexander Wang Prisma Skeletal Pebbed Leather ...</td>\n",
       "      <td>265.0</td>\n",
       "    </tr>\n",
       "    <tr>\n",
       "      <th>26</th>\n",
       "      <td>Alexander Wang Alpha Woven Leather Bucket Bag</td>\n",
       "      <td>245.0</td>\n",
       "    </tr>\n",
       "    <tr>\n",
       "      <th>27</th>\n",
       "      <td>Alexander Wang Diego Small Pebbled Leather Buc...</td>\n",
       "      <td>245.0</td>\n",
       "    </tr>\n",
       "    <tr>\n",
       "      <th>28</th>\n",
       "      <td>Alexander Wang Alpha Leather Bucket Bag</td>\n",
       "      <td>255.0</td>\n",
       "    </tr>\n",
       "    <tr>\n",
       "      <th>29</th>\n",
       "      <td>Alexander Wang Diego Small Pebbled Leather Buc...</td>\n",
       "      <td>235.0</td>\n",
       "    </tr>\n",
       "    <tr>\n",
       "      <th>30</th>\n",
       "      <td>Alexander Wang Diego Pebbled Leather Bucket Bag</td>\n",
       "      <td>235.0</td>\n",
       "    </tr>\n",
       "    <tr>\n",
       "      <th>31</th>\n",
       "      <td>Alexander Wang Marti Mini Leather Backpack Black</td>\n",
       "      <td>245.0</td>\n",
       "    </tr>\n",
       "    <tr>\n",
       "      <th>32</th>\n",
       "      <td>Alexander Wang Marti Mini Convertible Leather ...</td>\n",
       "      <td>245.0</td>\n",
       "    </tr>\n",
       "    <tr>\n",
       "      <th>33</th>\n",
       "      <td>Alexander Wang Marti Convertible Leather Backp...</td>\n",
       "      <td>245.0</td>\n",
       "    </tr>\n",
       "    <tr>\n",
       "      <th>34</th>\n",
       "      <td>Alexander Wang Marti Mini Convertible Suede Ba...</td>\n",
       "      <td>300.0</td>\n",
       "    </tr>\n",
       "    <tr>\n",
       "      <th>35</th>\n",
       "      <td>Alexander Wang Marti Leather Backpack Black</td>\n",
       "      <td>245.0</td>\n",
       "    </tr>\n",
       "  </tbody>\n",
       "</table>\n",
       "</div>"
      ],
      "text/plain": [
       "                                              Cartera  Precio\n",
       "0   Alexander Wang Rockie Mini Pebbled Leather Sho...   250.0\n",
       "1   Alexander Wang Studded Nylon-Trimmed Leather D...   250.0\n",
       "2   Alexander Wang Rockie Mini Pebbled Leather Duf...   250.0\n",
       "3   Alexander Wang Rockie Mini Pebbled Leather Duf...   250.0\n",
       "4   Alexander Wang Rockie Mini Pebbled Leather Duf...   250.0\n",
       "5    Alexander Wang Rockie Pebbled Leather Duffel Bag   250.0\n",
       "6     Alexander Wang Rocco Pebbled Leather Duffel Bag   250.0\n",
       "7            Alexander Wang Rockie Leather Duffel Bag   250.0\n",
       "8   Alexander Wang Rocco Metallic Pebbled Leather ...   250.0\n",
       "9               Alexander Wang Rocco Lambskin Satchel   250.0\n",
       "10         Alexander Wang Prisma Studded Leather Tote   245.0\n",
       "11  Alexander Wang Emile Mini Studded Leather Satchel   255.0\n",
       "12  Alexander Wang Emile Mini Studded Nylon & Leat...   255.0\n",
       "13    Alexander Wang Emile Mini Leather Satchel Blush   255.0\n",
       "14          Alexander Wang Emile Mini Leather Satchel   255.0\n",
       "15     Alexander Wang Emile Small Ribbed Leather Tote   255.0\n",
       "16  Alexander Wang Prisma Skeletal Leather Shoulde...   245.0\n",
       "17  Alexander Wang Dumbo Studded Pebbled Leather B...   265.0\n",
       "18  Alexander Wang Runway Stud Quilted Nylon & Lea...   265.0\n",
       "19    Alexander Wang Prisma Two-Tone Leather Backpack   265.0\n",
       "20       Alexander Wang Prisma Woven Leather Backpack   265.0\n",
       "21  Alexander Wang Prisma Skeletal Two-Tone Leathe...   265.0\n",
       "22  Alexander Wang Prisma Skeletal Studded Leather...   265.0\n",
       "23  Alexander Wang Prisma Skeletal Leather Backpac...   265.0\n",
       "24  Alexander Wang Prisma Skeletal Leather Backpac...   265.0\n",
       "25  Alexander Wang Prisma Skeletal Pebbed Leather ...   265.0\n",
       "26      Alexander Wang Alpha Woven Leather Bucket Bag   245.0\n",
       "27  Alexander Wang Diego Small Pebbled Leather Buc...   245.0\n",
       "28            Alexander Wang Alpha Leather Bucket Bag   255.0\n",
       "29  Alexander Wang Diego Small Pebbled Leather Buc...   235.0\n",
       "30    Alexander Wang Diego Pebbled Leather Bucket Bag   235.0\n",
       "31   Alexander Wang Marti Mini Leather Backpack Black   245.0\n",
       "32  Alexander Wang Marti Mini Convertible Leather ...   245.0\n",
       "33  Alexander Wang Marti Convertible Leather Backp...   245.0\n",
       "34  Alexander Wang Marti Mini Convertible Suede Ba...   300.0\n",
       "35        Alexander Wang Marti Leather Backpack Black   245.0"
      ]
     },
     "execution_count": 133,
     "metadata": {},
     "output_type": "execute_result"
    }
   ],
   "source": [
    "Nuevo_scrap"
   ]
  },
  {
   "cell_type": "markdown",
   "metadata": {},
   "source": [
    "## Listado de titulares de Infobae"
   ]
  },
  {
   "cell_type": "code",
   "execution_count": 135,
   "metadata": {},
   "outputs": [],
   "source": [
    "link = 'http://www.infobae.com'\n",
    "pag = get(link)\n",
    "pag = BeautifulSoup(pag.content)\n",
    "\n",
    "titulos = pag.find_all(class_='headline')"
   ]
  },
  {
   "cell_type": "code",
   "execution_count": 136,
   "metadata": {},
   "outputs": [
    {
     "data": {
      "text/plain": [
       "['  EEUU se prepara para la llegada del huracán Dorian: el aeropuerto de Orlando anunció que cerrará el martes ante la amenaza del ciclón  ',\n",
       " '  Un bodeguero uruguayo-argentino fue imputado por el envío de USD 200 millones de cocaína a Europa  ',\n",
       " '  La historia detrás de las últimas dos fotos de Freddie Mercury en su jardín antes de morir  ',\n",
       " '  Asciende a cinco el número de muertos tras el devastador paso del huracán Dorian en Bahamas  ',\n",
       " '  Minuto a minuto del huracán Dorian: avanza hacia Florida y se espera una marejada ciclónica \"amenazante para la vida\"  ',\n",
       " '  Fotos y videos: las escalofriantes imágenes del paso del huracán Dorian por Bahamas  ',\n",
       " '  El huracán Dorian acecha ya a Florida: este es el pronóstico de su trayectoria  ',\n",
       " '  Lograron captar el monstruoso ojo del huracán Dorian desde adentro  ',\n",
       " '  Alerta en Florida: dónde están los refugios y cuáles son las medidas de seguridad recomendadas  ',\n",
       " '  Todas las sorpresas que dejó el día del cierre del mercado de pases europeo  ',\n",
       " '  Se incendió y hundió un barco de turismo en la costa de California: al menos 8 muertos y 26 desaparecidos  ',\n",
       " '  Un nuevo ataque público de su padre llevó a Meghan Markle a tomar una desgarradora decisión  ',\n",
       " '  Oficial: Mauro Icardi es nuevo jugador del PSG  ',\n",
       " '  La Cruz Roja estima que cerca de 13.000 viviendas fueron destruidas por el devastador huracán Dorian en Bahamas  ',\n",
       " '  Advierten en los EEUU que la \"misteriosa enfermedad\" del vapeo se está volviendo epidemia  ',\n",
       " '  Tiene Síndrome de Down, formó una familia y su hijo está por recibirse de dentista: la historia que conmueve al mundo  ',\n",
       " '  Conocer los primeros pasos políticos de Hitler nos ayuda a lidiar con los ultras de hoy  ',\n",
       " '  \"¡Rocíalos, rocíalos!\": nuevas imágenes muestran la ferocidad de la batalla en Tepalcatepec  ',\n",
       " '  La desconcertante aparición en TV de Mickey Rourke  ',\n",
       " '  El Frente Institucional Militar denuncia que las FARC se instalarán en territorio de Venezuela  ',\n",
       " '  El parlamento virtual de los venezolanos y el futuro de la Asamblea Nacional, que no debe dejar de \"parlar\"  ',\n",
       " '  Venezuela, el peor sitio para envejecer en el continente  ',\n",
       " '  Los delegados de Juan Guaidó están preparados para retomar los contactos con el régimen de Nicolás Maduro  ',\n",
       " '  Cómo Rusia y China se apropian del petróleo de Venezuela y un mito que se derrumba  ',\n",
       " '  Irán reconoció que uno de sus satélites explotó durante el lanzamiento  ',\n",
       " '  Matthew McConaughey, de la pantalla grande a profesor universitario  ',\n",
       " '  Arrestaron a Sandra Torres, ex primera dama de Guatemala, acusada de corrupción  ',\n",
       " '  Irán amenaza a Europa con su tercera violación al acuerdo nuclear  ',\n",
       " '  Jesús Santrich anunció una alianza con la guerrilla del ELN en el segundo video de la nueva facción de las FARC  ',\n",
       " '  ¿Estamos viviendo en una simulación de computadora? Mejor no descubrirlo  ',\n",
       " '  Kevin Hart resultó gravemente herido tras un violento accidente de tránsito en Los Ángeles  ',\n",
       " '  Hdeivd, el señor que quiere deforestar la Amazonia  ',\n",
       " '  Una bailarina murió en plena actuación por una explosión accidental con pirotecnia en España  ',\n",
       " '  Sorpresa en Brasil: Neymar podría ocupar una nueva posición en la selección  ',\n",
       " '  Se conocieron todos los finalistas al premio The Best de la FIFA  ',\n",
       " '  El mal momento que sufrió Romelu Lukaku: aficionados del Cagliari imitaron sonidos de mono cuando iba a patear un penal  ',\n",
       " '  El momento de la lesión de Novak Djokovic que lo obligó a retirarse del US Open  ',\n",
       " '  La caída de Serena Williams que preocupó a los fanáticos en el US Open: \"Fui a dar una volea y sentí como se torció\"  ',\n",
       " '  Cómo es \"El número nueve\", el documental sobre la vida de Gabriel Batistuta  ',\n",
       " '  Qué quiere decir (y qué no) el mayor estudio de la historia sobre genética y comportamiento sexual  ',\n",
       " '  ¿Por qué la evidencia científica no logra cambiar lo que pensamos?  ',\n",
       " '  Lo que para algunos es basura, para él es un tesoro: quién es Bobby Rastalsky, un exponente del estilo industrial  ',\n",
       " '  Boris Johnson convocará a elecciones el 14 de octubre si es derrotado en el Parlamento sobre el Brexit  ',\n",
       " '  Estados Unidos ordenó la evacuación obligatoria de 1 millón de personas por el monstruoso huracán Dorian  ',\n",
       " '  El petrolero iraní acusado por EEUU de llevar crudo a Siria se detuvo frente a las costas del Líbano  ',\n",
       " '  El fantasma de \"La Casa Blanca\" persigue a Enrique Peña Nieto: el Gobierno la investiga  ',\n",
       " '  Los estudiantes de Hong Kong planean una huelga en el inicio del curso  ',\n",
       " '  El México de AMLO no puede estar \"feliz feliz feliz\"  ',\n",
       " '  Sobrevivir a un tiroteo: la recuperación del \"Héroe de Chihuahua\" y su familia  ',\n",
       " '  Por qué los médicos siguen ofreciendo tratamientos que en realidad no funcionan  ',\n",
       " '  Kevin Hart \"es capaz de caminar y mover sus extremidades\" tras el grave accidente que sufrió  ',\n",
       " '  La inaudita reacción de un hombre ante un violento asalto a un bar  ',\n",
       " '  Latinx, una declaración  ',\n",
       " '  El zoológico de Berlín celebró el raro nacimiento de dos pandas gemelos  ',\n",
       " '  Unamuno: el vasco solitario y rebelde condenado por la tiranía de Franco y muerto por ver a España de rodillas  ',\n",
       " '  Cuando Knausgård se divorció de su mujer y de la literatura  ',\n",
       " '  Facebook sigue los pasos de Instagram y planea ocultar la cantidad de “me gusta” en las publicaciones  ',\n",
       " '  Alerta por una app china viral que permite crear videos falsos con una sola foto  ',\n",
       " '  La nueva versión de Nintendo Switch con batería mejorada se agotó en Japón en dos días  ',\n",
       " '  Revelan la fecha de lanzamiento del nuevo Android 10  ',\n",
       " '  LOS GRANJEROS DE TRUMP, LAS PRIMERAS VÍCTIMAS EN LA GUERRA COMERCIAL CON CHINA  ',\n",
       " '  A 80 AÑOS DEL DÍA EN QUE LAS TROPAS DE HITLER CRUZARON LA FRONTERA CON POLONIA Y EL MUNDO NO VOLVIÓ A SER IGUAL  ',\n",
       " '  CAMBIO CLIMÁTICO Y COLAPSO: POR QUÉ INDONESIA DECIDIÓ MUDAR SU CAPITAL Y CONSTRUIR UNA DESDE CERO  ',\n",
       " '  LA MISTERIOSA MUERTE DE NATALIE WOOD: UN CRUCERO DE PLACER QUE TERMINÓ EN UNA DESAPARICIÓN NUNCA ACLARADA  ',\n",
       " '  El error político de Matteo Salvini que nadie entendió (ni siquiera él)  ',\n",
       " '  Nicolás Maduro estará muy contento y esperanzado con las declaraciones de Fernández  ',\n",
       " '  Alberto Fernández todavía no garantiza la continuidad de la política exterior con respecto a Venezuela  ',\n",
       " '  Un acuerdo entre Rusia y Estados Unidos estabilizaría a Siria  ',\n",
       " '  El futuro incierto del Reino Unido  ',\n",
       " '  La nueva apuesta de Zelenski en Ucrania  ',\n",
       " '  Festival de Venecia 2019: las figuras del cine en la glamorosa alfombra roja  ',\n",
       " '  Salma Hayek y las divertidas imágenes de su encuentro en la playa con un bebé  ',\n",
       " '  Los 53 años de Salma Hayek: la estrella mexicana que disfruta haberse librado de la etiqueta de sex symbol  ',\n",
       " '  El sorprendente cambio de imagen de Bradley Cooper tras su ruptura con Irina Shayk  ',\n",
       " '  Matthew McConaughey, de la pantalla grande a profesor universitario  ',\n",
       " '  El sorprendente cambio de imagen de Bradley Cooper tras su ruptura con Irina Shayk  ',\n",
       " '  Sofía Castro y la polémica que provoca su adicción por la moda de exclusivas firmas como Louis Vuitton  ',\n",
       " '  \"Juan Gabriel sigue vivo\", volvió a asegurar Joaquín Muñoz, el hombre detrás de la \"resurrección\" del cantante  ',\n",
       " '  López Obrador entre ovaciones y entusiasmo: las imágenes del Primer Informe de Gobierno  ',\n",
       " '  \"Goodbye Gagarin\": la destrucción de un bloque de viviendas de tipo soviético despierta nostalgia y aprensión entre los franceses  ',\n",
       " '  La falta de gas obliga a los venezolanos a talar árboles en el parque nacional Henri Pittier  ',\n",
       " '  \"La Mataviejitas\" reveló desde prisión el momento que marcó su vida: \"Por dos cervezas mi madre me regaló con un hombre\"  ',\n",
       " '  En la búsqueda de desaparecidos, México encontró 3,000 fosas clandestinas  ',\n",
       " '  El Ejército de Colombia detuvo a siete disidentes de las FARC en un operativo en el norte del país  ',\n",
       " '  La deforestación amazónica se extiende más allá de Brasil  ']"
      ]
     },
     "execution_count": 136,
     "metadata": {},
     "output_type": "execute_result"
    }
   ],
   "source": [
    "[t.getText() for t in titulos]"
   ]
  },
  {
   "cell_type": "code",
   "execution_count": null,
   "metadata": {},
   "outputs": [],
   "source": []
  }
 ],
 "metadata": {
  "kernelspec": {
   "display_name": "Python 3",
   "language": "python",
   "name": "python3"
  },
  "language_info": {
   "codemirror_mode": {
    "name": "ipython",
    "version": 3
   },
   "file_extension": ".py",
   "mimetype": "text/x-python",
   "name": "python",
   "nbconvert_exporter": "python",
   "pygments_lexer": "ipython3",
   "version": "3.7.1"
  }
 },
 "nbformat": 4,
 "nbformat_minor": 2
}
